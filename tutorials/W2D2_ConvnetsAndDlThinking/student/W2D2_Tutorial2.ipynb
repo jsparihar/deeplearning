{
  "cells": [
    {
      "cell_type": "markdown",
      "metadata": {
        "id": "view-in-github",
        "colab_type": "text"
      },
      "source": [
        "<a href=\"https://colab.research.google.com/github/jsparihar/deeplearning/blob/main/tutorials/W2D2_ConvnetsAndDlThinking/student/W2D2_Tutorial2.ipynb\" target=\"_parent\"><img src=\"https://colab.research.google.com/assets/colab-badge.svg\" alt=\"Open In Colab\"/></a>"
      ]
    },
    {
      "cell_type": "markdown",
      "metadata": {
        "execution": {},
        "id": "7w4YCDYXFm2V"
      },
      "source": [
        "# Tutorial 2: Deep Learning Thinking 1: Cost Functions\n",
        "\n",
        "**Week 2, Day 2: Convnets and DL Thinking**\n",
        "\n",
        "**By Neuromatch Academy**\n",
        "\n",
        "\n",
        "__Content creators:__ Konrad Kording, Lyle ungar, Ashish Sahoo\n",
        "\n",
        "__Content reviewers:__ Kelson Shilling-Scrivo\n",
        "\n",
        "__Content editors:__ Kelson Shilling-Scrivo\n",
        "\n",
        "__Production editors:__ Gagana B, Spiros Chavlis"
      ]
    },
    {
      "cell_type": "markdown",
      "metadata": {
        "execution": {},
        "id": "uGWtaoW8Fm2p"
      },
      "source": [
        "---\n",
        "# Tutorial Objectives\n",
        "\n",
        "In this tutorial, you will practice thinking like a deep learning practitioner and determine how to design cost functions for different scenarios.\n",
        "\n",
        "By the end of this tutorial, you will be better able to:\n",
        "\n",
        "* Appreciate the importance of cost function engineering\n",
        "* Translate domain knowledge into cost functions\n",
        "* Ask questions about DL systems and customer needs"
      ]
    },
    {
      "cell_type": "code",
      "execution_count": 1,
      "metadata": {
        "cellView": "form",
        "execution": {},
        "id": "xh3ukDR5Fm2r",
        "outputId": "534a8658-6cee-4fca-8ed0-37348135bb7f",
        "colab": {
          "base_uri": "https://localhost:8080/",
          "height": 519
        }
      },
      "outputs": [
        {
          "output_type": "stream",
          "name": "stdout",
          "text": [
            "If you want to download the slides: https://osf.io/download/szcjn/\n"
          ]
        },
        {
          "output_type": "execute_result",
          "data": {
            "text/plain": [
              "<IPython.lib.display.IFrame at 0x7e8314ee57e0>"
            ],
            "text/html": [
              "\n",
              "        <iframe\n",
              "            width=\"854\"\n",
              "            height=\"480\"\n",
              "            src=\"https://mfr.ca-1.osf.io/render?url=https://osf.io/szcjn/?direct%26mode=render%26action=download%26mode=render\"\n",
              "            frameborder=\"0\"\n",
              "            allowfullscreen\n",
              "            \n",
              "        ></iframe>\n",
              "        "
            ]
          },
          "metadata": {},
          "execution_count": 1
        }
      ],
      "source": [
        "# @title Tutorial slides\n",
        "from IPython.display import IFrame\n",
        "link_id = \"szcjn\"\n",
        "print(f\"If you want to download the slides: https://osf.io/download/{link_id}/\")\n",
        "IFrame(src=f\"https://mfr.ca-1.osf.io/render?url=https://osf.io/{link_id}/?direct%26mode=render%26action=download%26mode=render\", width=854, height=480)"
      ]
    },
    {
      "cell_type": "markdown",
      "metadata": {
        "execution": {},
        "id": "X3skLzm6Fm2u"
      },
      "source": [
        "---\n",
        "# Setup"
      ]
    },
    {
      "cell_type": "code",
      "execution_count": 2,
      "metadata": {
        "cellView": "form",
        "execution": {},
        "id": "Zh1mVFCBFm2v",
        "outputId": "30820888-9d1b-4ea5-dae2-fd705e90a34d",
        "colab": {
          "base_uri": "https://localhost:8080/"
        }
      },
      "outputs": [
        {
          "output_type": "stream",
          "name": "stdout",
          "text": [
            "  Preparing metadata (setup.py) ... \u001b[?25l\u001b[?25hdone\n",
            "  Preparing metadata (setup.py) ... \u001b[?25l\u001b[?25hdone\n",
            "\u001b[2K     \u001b[90m━━━━━━━━━━━━━━━━━━━━━━━━━━━━━━━━━━━━━━━━\u001b[0m \u001b[32m1.6/1.6 MB\u001b[0m \u001b[31m6.1 MB/s\u001b[0m eta \u001b[36m0:00:00\u001b[0m\n",
            "\u001b[?25h  Building wheel for vibecheck (setup.py) ... \u001b[?25l\u001b[?25hdone\n",
            "  Building wheel for datatops (setup.py) ... \u001b[?25l\u001b[?25hdone\n"
          ]
        }
      ],
      "source": [
        "# @title Install and import feedback gadget\n",
        "\n",
        "!pip3 install vibecheck datatops --quiet\n",
        "\n",
        "from vibecheck import DatatopsContentReviewContainer\n",
        "def content_review(notebook_section: str):\n",
        "    return DatatopsContentReviewContainer(\n",
        "        \"\",  # No text prompt\n",
        "        notebook_section,\n",
        "        {\n",
        "            \"url\": \"https://pmyvdlilci.execute-api.us-east-1.amazonaws.com/klab\",\n",
        "            \"name\": \"neuromatch_dl\",\n",
        "            \"user_key\": \"f379rz8y\",\n",
        "        },\n",
        "    ).render()\n",
        "\n",
        "\n",
        "feedback_prefix = \"W2D2_T2\""
      ]
    },
    {
      "cell_type": "markdown",
      "metadata": {
        "execution": {},
        "id": "gN0zLPRjFm2w"
      },
      "source": [
        "---\n",
        "# Section 1: Intro to Deep Learning Thinking\n",
        "\n",
        "\n",
        "\n",
        "\n",
        "\n",
        "\n",
        "\n"
      ]
    },
    {
      "cell_type": "code",
      "execution_count": 3,
      "metadata": {
        "cellView": "form",
        "execution": {},
        "id": "2gMBNrbsFm2x",
        "outputId": "4a4449ac-9c23-48e9-9619-a77e254112cf",
        "colab": {
          "base_uri": "https://localhost:8080/",
          "height": 581,
          "referenced_widgets": [
            "8653dcc8cb6e4cb7847e9032b2d0c92d",
            "9c7c0714d28d4d5f8a62fd156900c0aa",
            "ae2735e0eecc42e7b5508a69b7e1fc2b",
            "d70c76ab757841c38d7ff734d62f9ef2",
            "b979400d67ce4defac3a0b79ca693b86",
            "e4ac5bc10c17427e9dece486675dd92b"
          ]
        }
      },
      "outputs": [
        {
          "output_type": "display_data",
          "data": {
            "text/plain": [
              "Tab(children=(Output(), Output()), _titles={'0': 'Youtube', '1': 'Bilibili'})"
            ],
            "application/vnd.jupyter.widget-view+json": {
              "version_major": 2,
              "version_minor": 0,
              "model_id": "8653dcc8cb6e4cb7847e9032b2d0c92d"
            }
          },
          "metadata": {}
        }
      ],
      "source": [
        "# @title Video 1: Intro to DL Thinking\n",
        "from ipywidgets import widgets\n",
        "from IPython.display import YouTubeVideo\n",
        "from IPython.display import IFrame\n",
        "from IPython.display import display\n",
        "\n",
        "\n",
        "class PlayVideo(IFrame):\n",
        "  def __init__(self, id, source, page=1, width=400, height=300, **kwargs):\n",
        "    self.id = id\n",
        "    if source == 'Bilibili':\n",
        "      src = f'https://player.bilibili.com/player.html?bvid={id}&page={page}'\n",
        "    elif source == 'Osf':\n",
        "      src = f'https://mfr.ca-1.osf.io/render?url=https://osf.io/download/{id}/?direct%26mode=render'\n",
        "    super(PlayVideo, self).__init__(src, width, height, **kwargs)\n",
        "\n",
        "\n",
        "def display_videos(video_ids, W=400, H=300, fs=1):\n",
        "  tab_contents = []\n",
        "  for i, video_id in enumerate(video_ids):\n",
        "    out = widgets.Output()\n",
        "    with out:\n",
        "      if video_ids[i][0] == 'Youtube':\n",
        "        video = YouTubeVideo(id=video_ids[i][1], width=W,\n",
        "                             height=H, fs=fs, rel=0)\n",
        "        print(f'Video available at https://youtube.com/watch?v={video.id}')\n",
        "      else:\n",
        "        video = PlayVideo(id=video_ids[i][1], source=video_ids[i][0], width=W,\n",
        "                          height=H, fs=fs, autoplay=False)\n",
        "        if video_ids[i][0] == 'Bilibili':\n",
        "          print(f'Video available at https://www.bilibili.com/video/{video.id}')\n",
        "        elif video_ids[i][0] == 'Osf':\n",
        "          print(f'Video available at https://osf.io/{video.id}')\n",
        "      display(video)\n",
        "    tab_contents.append(out)\n",
        "  return tab_contents\n",
        "\n",
        "\n",
        "video_ids = [('Youtube', 'iEqd0MY5pxI'), ('Bilibili', 'BV1hL4y1P73s')]\n",
        "tab_contents = display_videos(video_ids, W=854, H=480)\n",
        "tabs = widgets.Tab()\n",
        "tabs.children = tab_contents\n",
        "for i in range(len(tab_contents)):\n",
        "  tabs.set_title(i, video_ids[i][0])\n",
        "display(tabs)"
      ]
    },
    {
      "cell_type": "code",
      "execution_count": null,
      "metadata": {
        "cellView": "form",
        "execution": {},
        "id": "B4mqm8NeFm2y"
      },
      "outputs": [],
      "source": [
        "# @title Submit your feedback\n",
        "content_review(f\"{feedback_prefix}_Intro_to_DL_Thinking_Video\")"
      ]
    },
    {
      "cell_type": "markdown",
      "metadata": {
        "execution": {},
        "id": "t0WIBjYlFm2y"
      },
      "source": [
        "This tutorial is a bit different from others - there will be no coding! Instead you will watch a series of vignettes about various scenarios where you want to use a neural network. This tutorial will focus on cost functions, a tutorial you will see later in the course will be similar but focused on designing architectures.\n",
        "\n",
        "Each section below will start with a vignette where either Lyle or Konrad is trying to figure out how to set up a neural network for a specific problem. Try to think of questions you want to ask them as you watch, then pay attention to what questions Lyle and Konrad are asking. Were they what you would have asked? How do their questions help quickly clarify the situation?\n",
        "\n",
        "\n",
        "You will work together as a group to try to come up with cost functions for each example, with hints available along the way. This may be difficult - deep learning in the real world often is! So try your best but don't get discouraged if you don't reach the solution - you'll learn a lot from the process of trying to.\n",
        "\n",
        "You have already seen cost functions (sometimes also called objective functions or loss functions) for deep neural networks - you need one to perform gradient descent and train a neural network.  It turns out what cost function you choose to minimize is incredibly important - it is how you define success of your network after all, so you want to define success in a good way! And cost functions are not one size fits all - you need to carefully choose cost functions according to what you want your neural network to do - as you will seen in the following scenarios.\n",
        "\n",
        "\n"
      ]
    },
    {
      "cell_type": "markdown",
      "metadata": {
        "execution": {},
        "id": "joWnGwqPFm20"
      },
      "source": [
        "---\n",
        "# Section 2: Cost function for neurons\n"
      ]
    },
    {
      "cell_type": "code",
      "execution_count": 4,
      "metadata": {
        "cellView": "form",
        "execution": {},
        "id": "hK9ld1XiFm21",
        "outputId": "9bdcd41d-bae0-448c-f9d2-9eac0dca48a0",
        "colab": {
          "base_uri": "https://localhost:8080/",
          "height": 581,
          "referenced_widgets": [
            "3109f390a4a846f7a8aabf10394ff6f3",
            "b088c8fd48624a59863052780f78a031",
            "6de6e91d386a41b0b7a2fce9c79f2169",
            "115256332ef2431bbe7ff2f8aec1d7de",
            "39dd6e9d0ba547688c264bdc34b92a70",
            "0d114a7700c94f70b3be07043d6c5193"
          ]
        }
      },
      "outputs": [
        {
          "output_type": "display_data",
          "data": {
            "text/plain": [
              "Tab(children=(Output(), Output()), _titles={'0': 'Youtube', '1': 'Bilibili'})"
            ],
            "application/vnd.jupyter.widget-view+json": {
              "version_major": 2,
              "version_minor": 0,
              "model_id": "3109f390a4a846f7a8aabf10394ff6f3"
            }
          },
          "metadata": {}
        }
      ],
      "source": [
        "# @title Video 2: Spiking Neuron Predictions Vignette\n",
        "from ipywidgets import widgets\n",
        "from IPython.display import YouTubeVideo\n",
        "from IPython.display import IFrame\n",
        "from IPython.display import display\n",
        "\n",
        "\n",
        "class PlayVideo(IFrame):\n",
        "  def __init__(self, id, source, page=1, width=400, height=300, **kwargs):\n",
        "    self.id = id\n",
        "    if source == 'Bilibili':\n",
        "      src = f'https://player.bilibili.com/player.html?bvid={id}&page={page}'\n",
        "    elif source == 'Osf':\n",
        "      src = f'https://mfr.ca-1.osf.io/render?url=https://osf.io/download/{id}/?direct%26mode=render'\n",
        "    super(PlayVideo, self).__init__(src, width, height, **kwargs)\n",
        "\n",
        "\n",
        "def display_videos(video_ids, W=400, H=300, fs=1):\n",
        "  tab_contents = []\n",
        "  for i, video_id in enumerate(video_ids):\n",
        "    out = widgets.Output()\n",
        "    with out:\n",
        "      if video_ids[i][0] == 'Youtube':\n",
        "        video = YouTubeVideo(id=video_ids[i][1], width=W,\n",
        "                             height=H, fs=fs, rel=0)\n",
        "        print(f'Video available at https://youtube.com/watch?v={video.id}')\n",
        "      else:\n",
        "        video = PlayVideo(id=video_ids[i][1], source=video_ids[i][0], width=W,\n",
        "                          height=H, fs=fs, autoplay=False)\n",
        "        if video_ids[i][0] == 'Bilibili':\n",
        "          print(f'Video available at https://www.bilibili.com/video/{video.id}')\n",
        "        elif video_ids[i][0] == 'Osf':\n",
        "          print(f'Video available at https://osf.io/{video.id}')\n",
        "      display(video)\n",
        "    tab_contents.append(out)\n",
        "  return tab_contents\n",
        "\n",
        "\n",
        "video_ids = [('Youtube', 'CC4gMRrE31g'), ('Bilibili', 'BV1Jt4y187UU')]\n",
        "tab_contents = display_videos(video_ids, W=854, H=480)\n",
        "tabs = widgets.Tab()\n",
        "tabs.children = tab_contents\n",
        "for i in range(len(tab_contents)):\n",
        "  tabs.set_title(i, video_ids[i][0])\n",
        "display(tabs)"
      ]
    },
    {
      "cell_type": "code",
      "execution_count": null,
      "metadata": {
        "cellView": "form",
        "execution": {},
        "id": "MjTa2PhlFm22"
      },
      "outputs": [],
      "source": [
        "# @title Submit your feedback\n",
        "content_review(f\"{feedback_prefix}_Spiking_Neuron_Predictions_Video\")"
      ]
    },
    {
      "cell_type": "code",
      "execution_count": 5,
      "metadata": {
        "cellView": "form",
        "execution": {},
        "id": "8x0GUrnXFm23",
        "outputId": "1a1c12dd-3395-497a-93a1-1b6a06872542",
        "colab": {
          "base_uri": "https://localhost:8080/",
          "height": 581,
          "referenced_widgets": [
            "b5dbbc79cd2d4895ab17599e8a14af8d",
            "3bec685392be43dd801daa84b331c473",
            "624b5c92173f408482758c1ea3fbe8c8",
            "dd217e5d78c1482d942a19415f6c78b2",
            "94b7495b8b5149cb9ad68e1b18ea9d69",
            "38a11557aa8c41e48e0e25949551991d"
          ]
        }
      },
      "outputs": [
        {
          "output_type": "display_data",
          "data": {
            "text/plain": [
              "Tab(children=(Output(), Output()), _titles={'0': 'Youtube', '1': 'Bilibili'})"
            ],
            "application/vnd.jupyter.widget-view+json": {
              "version_major": 2,
              "version_minor": 0,
              "model_id": "b5dbbc79cd2d4895ab17599e8a14af8d"
            }
          },
          "metadata": {}
        }
      ],
      "source": [
        "# @title Video 3: Spiking Neuron Predictions Set-up\n",
        "from ipywidgets import widgets\n",
        "from IPython.display import YouTubeVideo\n",
        "from IPython.display import IFrame\n",
        "from IPython.display import display\n",
        "\n",
        "\n",
        "class PlayVideo(IFrame):\n",
        "  def __init__(self, id, source, page=1, width=400, height=300, **kwargs):\n",
        "    self.id = id\n",
        "    if source == 'Bilibili':\n",
        "      src = f'https://player.bilibili.com/player.html?bvid={id}&page={page}'\n",
        "    elif source == 'Osf':\n",
        "      src = f'https://mfr.ca-1.osf.io/render?url=https://osf.io/download/{id}/?direct%26mode=render'\n",
        "    super(PlayVideo, self).__init__(src, width, height, **kwargs)\n",
        "\n",
        "\n",
        "def display_videos(video_ids, W=400, H=300, fs=1):\n",
        "  tab_contents = []\n",
        "  for i, video_id in enumerate(video_ids):\n",
        "    out = widgets.Output()\n",
        "    with out:\n",
        "      if video_ids[i][0] == 'Youtube':\n",
        "        video = YouTubeVideo(id=video_ids[i][1], width=W,\n",
        "                             height=H, fs=fs, rel=0)\n",
        "        print(f'Video available at https://youtube.com/watch?v={video.id}')\n",
        "      else:\n",
        "        video = PlayVideo(id=video_ids[i][1], source=video_ids[i][0], width=W,\n",
        "                          height=H, fs=fs, autoplay=False)\n",
        "        if video_ids[i][0] == 'Bilibili':\n",
        "          print(f'Video available at https://www.bilibili.com/video/{video.id}')\n",
        "        elif video_ids[i][0] == 'Osf':\n",
        "          print(f'Video available at https://osf.io/{video.id}')\n",
        "      display(video)\n",
        "    tab_contents.append(out)\n",
        "  return tab_contents\n",
        "\n",
        "\n",
        "video_ids = [('Youtube', 'vJ7MixhmDh8'), ('Bilibili', 'BV1X94y1y7SH')]\n",
        "tab_contents = display_videos(video_ids, W=854, H=480)\n",
        "tabs = widgets.Tab()\n",
        "tabs.children = tab_contents\n",
        "for i in range(len(tab_contents)):\n",
        "  tabs.set_title(i, video_ids[i][0])\n",
        "display(tabs)"
      ]
    },
    {
      "cell_type": "code",
      "execution_count": null,
      "metadata": {
        "cellView": "form",
        "execution": {},
        "id": "zwuAA2ARFm23"
      },
      "outputs": [],
      "source": [
        "# @title Submit your feedback\n",
        "content_review(f\"{feedback_prefix}_Spiking_Neuron_Predictions_SetUp_Video\")"
      ]
    },
    {
      "cell_type": "markdown",
      "metadata": {
        "execution": {},
        "id": "3_5-jAPdFm24"
      },
      "source": [
        "Konrad, a neuroscientist, wants to predict what neurons in someone's motor cortex are doing while they are riding a motorcycle.\n",
        "\n",
        "Upon discussion with Lyle, it emerges that we have data on 12 parameters of motorcycle riding, including acceleration, angle, braking, degrees of leaning. These inputs are fairly smooth over time, the angle of the motorcycle typically does not change much in 100 ms for example.\n",
        "\n",
        "We also have recorded data on the timing of spikes of $N$ neurons in motor cortex. The underlying firing rate is smooth but every millisecond spikes are random and independent. This means we can assume that the number of spikes in a short interval can be modeled using a Poisson distribution with an underlying firing rate for that interval $\\lambda$.\n",
        "\n",
        "For neuron $i$, the probability of seeing $k_{i}$ spikes in some interval given an underlying firing rate $\\lambda_{i}$ is:\n",
        "\n",
        "\\begin{equation}\n",
        "\\mathcal{f(k_{i}:λ_{i})} = \\mathcal{Pr(X=k_{i})} = \\frac {\\lambda_{i}^{k_{i}}e^{-\\lambda_{i}}}{k_{i}!}\n",
        "\\end{equation}\n",
        "\n",
        "So this poisson distribution may be relevant if we want to, in a way, have a good model for the spiking of neurons."
      ]
    },
    {
      "cell_type": "markdown",
      "metadata": {
        "execution": {},
        "id": "z7BRIU8_Fm25"
      },
      "source": [
        "## Think! 1: Designing a cost function to predict neural activities\n",
        "\n",
        "Given everything you know, how would you design a cost function for a neural network that Konrad is training to predict neural activity given the motorcycle riding parameters? Remember that we are predicting the activity of all $N$ neurons, not just one. Try to write out an equation!\n",
        "\n",
        "\n",
        "Please discuss as a group. If you get stuck, you can uncover the hints below one at a time. Please spend some time discussing before uncovering the next hint though! You are being real deep learning scientists now and the answers won't be easy\n"
      ]
    },
    {
      "cell_type": "markdown",
      "metadata": {
        "execution": {},
        "id": "ArJNbhDGFm25"
      },
      "source": [
        "<details>\n",
        "<summary> <font color='green'>Click here for hint 1 </font></summary>\n",
        "\n",
        "You get time-stamps for the spikes. You will want to do binning into 50 ms bins. You get $k_{i, t}$ for every neuron $i$ and time bin $t$, the spike count for that neuron in that time bin.  What will the neural network predict?"
      ]
    },
    {
      "cell_type": "markdown",
      "metadata": {
        "execution": {},
        "id": "BTwME4UXFm26"
      },
      "source": [
        "<details>\n",
        "<summary> <font color='green'>Click here for hint 2 </font></summary>\n",
        "\n",
        "For each bin you can use your neural network model to predict an estimate of $\\lambda_{i,t}$, the number of spikes for neuron $i$ expected at that time bin $t$. The network should get as input the relevant aspects of the motorcycle riding at the relevant times (and potentially of the previous times)."
      ]
    },
    {
      "cell_type": "markdown",
      "metadata": {
        "execution": {},
        "id": "dEEeMeMcFm26"
      },
      "source": [
        "<details>\n",
        "<summary> <font color='green'>Click here for hint 3 </font></summary>\n",
        "\n",
        "You need an equation relating $\\lambda_{i,t}$ (the model prediction) with $k_{i, t}$ (your data) where changing $\\lambda_{i,t}$  to minimize or maximize the number resulting from this equation results in better predictions.  What do we already know about the relationship between $\\lambda_{i,t}$ and $k_{i, t}$ that helps us here?\n",
        "\n",
        "Once you have that, how do you extend to incorporate all neurons and time bins?"
      ]
    },
    {
      "cell_type": "markdown",
      "metadata": {
        "execution": {},
        "id": "VWJTT4YRFm26"
      },
      "source": [
        "<details>\n",
        "<summary> <font color='green'>Click here for hint 4 </font></summary>\n",
        "\n",
        "We can treat the bins independently as the spikes are random and independent every millisecond."
      ]
    },
    {
      "cell_type": "markdown",
      "metadata": {
        "execution": {},
        "id": "md8GTQt7Fm27"
      },
      "source": [
        "<details>\n",
        "<summary> <font color='green'>Click here for the solution </font></summary>\n",
        "\n",
        "\n",
        "First, we will convert our spike timing data to the number of spikes per time bin for time bins of size 50 ms. This gives us $k_{i,t}$ for every neuron $i$ and time bin $t$.\n",
        "\n",
        "We are assuming a Poisson distribution for our spiking. That means that we get the probability of seeing spike count $k_{i, t}$  given underlying firing rate $\\lambda_{i, t}$ using this equation:\n",
        "\n",
        "\n",
        "\\begin{equation}\n",
        "\\mathcal{f(k_{i,t}:\\lambda_{i,t})} = \\mathcal{Pr}(X=k_{i,t}) = \\frac {\\lambda_{i,t}^{k_{i,t}}e^{-\\lambda_{i,t}}}{k_{i,t}!}\n",
        "\\end{equation}\n",
        "\n",
        "That seems a pretty good thing to optimize to make our predictions as good as possible! We want a high probability of seeing the actual spike count we recorded given the neural network prediction of the underlying firing rate.\n",
        "\n",
        "We will make this negative later so we have an equation that we want to minimize rather than maximize, so we can use all our normal tricks for minimization (instead of maximization). First though, let's scale up to include all our neurons and time bins.\n",
        "\n",
        "We can treat each time bin as independent because, while the underlying probability of firing changes slowly, every milisecond spiking is random and independent. From probability, we know that we can compute the probability of a set of independent events (all the spike counts) by multiplying the probabilities of each event. So the probability of seeing all of our data given the neural network predictions is all of our probabilities of $k_{i,t}$ multiplied together:\n",
        "\n",
        "\\begin{align}\n",
        "\\mathcal{Pr}(\\text{all_data}) &= \\prod_{i=1}^{N}\\prod_{t=1}^\\top \\mathcal{Pr}(X=k_{i,t})\\\\\n",
        "&= \\prod_{i=1}^{N}\\prod_{t=1}^\\top \\frac {\\lambda_{i,t}^{k_{i,t}}e^{-\\lambda_{i,t}}}{k_{i,t}!}\n",
        "\\end{align}\n",
        "\n",
        "This is also known as our likelihood!\n",
        "\n",
        "We usually use the log likelihood instead of the likelihood when minimizing or maximizing for numerical computation reasons. W We can convert the above equation to log likelihood:\n",
        "\n",
        "\\begin{align}\n",
        "\\text{log likelihood} &= \\sum_{i=1}^N\\sum_{t=1}^\\top \\text{log}(\\mathcal{Pr}(X=k_{i,t}) \\\\\n",
        "&= \\sum_{i=1}^N\\sum_{t=1}^\\top k_{i,t} \\text{log}(\\lambda_{i,t}) - \\lambda_{i,t} - \\text{log}(k_{i,t}!)\n",
        "\\end{align}\n",
        "\n",
        "And last but not least, we want to make it negative so we can minimize instead of maximize:\n",
        "\n",
        "\\begin{equation}\n",
        "\\text{negative log likelihood}\n",
        "= \\sum_{i=1}^N\\sum_{t=1}^\\top - k_{i,t} \\text{log}(\\lambda_{i,t}) + \\lambda_{i,t} + \\text{log}(k_{i,t}!)\n",
        "\\end{equation}"
      ]
    },
    {
      "cell_type": "code",
      "execution_count": null,
      "metadata": {
        "cellView": "form",
        "execution": {},
        "id": "7epZhBj1Fm2_"
      },
      "outputs": [],
      "source": [
        "# @title Submit your feedback\n",
        "content_review(f\"{feedback_prefix}_Designing_a_cost_function_to_predict_neural_activities_Discussion\")"
      ]
    },
    {
      "cell_type": "code",
      "execution_count": null,
      "metadata": {
        "cellView": "form",
        "execution": {},
        "id": "yLuxWyLgFm3A"
      },
      "outputs": [],
      "source": [
        "# @title Video 4: Spiking Neurons Wrap-up\n",
        "from ipywidgets import widgets\n",
        "from IPython.display import YouTubeVideo\n",
        "from IPython.display import IFrame\n",
        "from IPython.display import display\n",
        "\n",
        "\n",
        "class PlayVideo(IFrame):\n",
        "  def __init__(self, id, source, page=1, width=400, height=300, **kwargs):\n",
        "    self.id = id\n",
        "    if source == 'Bilibili':\n",
        "      src = f'https://player.bilibili.com/player.html?bvid={id}&page={page}'\n",
        "    elif source == 'Osf':\n",
        "      src = f'https://mfr.ca-1.osf.io/render?url=https://osf.io/download/{id}/?direct%26mode=render'\n",
        "    super(PlayVideo, self).__init__(src, width, height, **kwargs)\n",
        "\n",
        "\n",
        "def display_videos(video_ids, W=400, H=300, fs=1):\n",
        "  tab_contents = []\n",
        "  for i, video_id in enumerate(video_ids):\n",
        "    out = widgets.Output()\n",
        "    with out:\n",
        "      if video_ids[i][0] == 'Youtube':\n",
        "        video = YouTubeVideo(id=video_ids[i][1], width=W,\n",
        "                             height=H, fs=fs, rel=0)\n",
        "        print(f'Video available at https://youtube.com/watch?v={video.id}')\n",
        "      else:\n",
        "        video = PlayVideo(id=video_ids[i][1], source=video_ids[i][0], width=W,\n",
        "                          height=H, fs=fs, autoplay=False)\n",
        "        if video_ids[i][0] == 'Bilibili':\n",
        "          print(f'Video available at https://www.bilibili.com/video/{video.id}')\n",
        "        elif video_ids[i][0] == 'Osf':\n",
        "          print(f'Video available at https://osf.io/{video.id}')\n",
        "      display(video)\n",
        "    tab_contents.append(out)\n",
        "  return tab_contents\n",
        "\n",
        "\n",
        "video_ids = [('Youtube', 'fb6A03B2U5g'), ('Bilibili', 'BV1K94y117rH')]\n",
        "tab_contents = display_videos(video_ids, W=854, H=480)\n",
        "tabs = widgets.Tab()\n",
        "tabs.children = tab_contents\n",
        "for i in range(len(tab_contents)):\n",
        "  tabs.set_title(i, video_ids[i][0])\n",
        "display(tabs)"
      ]
    },
    {
      "cell_type": "code",
      "execution_count": null,
      "metadata": {
        "cellView": "form",
        "execution": {},
        "id": "64Fr7e3cFm3B"
      },
      "outputs": [],
      "source": [
        "# @title Submit your feedback\n",
        "content_review(f\"{feedback_prefix}_Spiking_Neurons_WrapUp_Video\")"
      ]
    },
    {
      "cell_type": "markdown",
      "metadata": {
        "execution": {},
        "id": "_sQkJBh7Fm3B"
      },
      "source": [
        "Check out the papers mentioned in the above video:\n",
        "\n",
        "- [Fast inference in generalized linear models via expected log likelihood](https://link.springer.com/article/10.1007/s10827-013-0466-4)\n",
        "\n",
        "- [Machine Learning for Neural Decoding](https://www.eneuro.org/content/7/4/ENEURO.0506-19.2020)"
      ]
    },
    {
      "cell_type": "markdown",
      "metadata": {
        "execution": {},
        "id": "tBIDUeVMFm3C"
      },
      "source": [
        "## (Bonus) Think!: Non-Poisson neurons\n",
        "\n",
        "If you have time discuss the following. The spiking distributions don't seem quite Poisson.  Find a good replacement for your cost function."
      ]
    },
    {
      "cell_type": "code",
      "execution_count": null,
      "metadata": {
        "cellView": "form",
        "execution": {},
        "id": "asgNpn_hFm3C"
      },
      "outputs": [],
      "source": [
        "# @title Submit your feedback\n",
        "content_review(f\"{feedback_prefix}_NonPoisson_neurons_Bonus_Discussion\")"
      ]
    },
    {
      "cell_type": "markdown",
      "metadata": {
        "execution": {},
        "id": "nOfzcBjkFm3D"
      },
      "source": [
        "---\n",
        "# Section 3: How can an ANN know its uncertainty"
      ]
    },
    {
      "cell_type": "code",
      "execution_count": null,
      "metadata": {
        "cellView": "form",
        "execution": {},
        "id": "3nkSUTrvFm3D"
      },
      "outputs": [],
      "source": [
        "# @title Video 5: ANN Uncertainty Vignette\n",
        "from ipywidgets import widgets\n",
        "from IPython.display import YouTubeVideo\n",
        "from IPython.display import IFrame\n",
        "from IPython.display import display\n",
        "\n",
        "\n",
        "class PlayVideo(IFrame):\n",
        "  def __init__(self, id, source, page=1, width=400, height=300, **kwargs):\n",
        "    self.id = id\n",
        "    if source == 'Bilibili':\n",
        "      src = f'https://player.bilibili.com/player.html?bvid={id}&page={page}'\n",
        "    elif source == 'Osf':\n",
        "      src = f'https://mfr.ca-1.osf.io/render?url=https://osf.io/download/{id}/?direct%26mode=render'\n",
        "    super(PlayVideo, self).__init__(src, width, height, **kwargs)\n",
        "\n",
        "\n",
        "def display_videos(video_ids, W=400, H=300, fs=1):\n",
        "  tab_contents = []\n",
        "  for i, video_id in enumerate(video_ids):\n",
        "    out = widgets.Output()\n",
        "    with out:\n",
        "      if video_ids[i][0] == 'Youtube':\n",
        "        video = YouTubeVideo(id=video_ids[i][1], width=W,\n",
        "                             height=H, fs=fs, rel=0)\n",
        "        print(f'Video available at https://youtube.com/watch?v={video.id}')\n",
        "      else:\n",
        "        video = PlayVideo(id=video_ids[i][1], source=video_ids[i][0], width=W,\n",
        "                          height=H, fs=fs, autoplay=False)\n",
        "        if video_ids[i][0] == 'Bilibili':\n",
        "          print(f'Video available at https://www.bilibili.com/video/{video.id}')\n",
        "        elif video_ids[i][0] == 'Osf':\n",
        "          print(f'Video available at https://osf.io/{video.id}')\n",
        "      display(video)\n",
        "    tab_contents.append(out)\n",
        "  return tab_contents\n",
        "\n",
        "\n",
        "video_ids = [('Youtube', 'b2N2OJ2u4AM'), ('Bilibili', 'BV1UN4y1u7Ws')]\n",
        "tab_contents = display_videos(video_ids, W=854, H=480)\n",
        "tabs = widgets.Tab()\n",
        "tabs.children = tab_contents\n",
        "for i in range(len(tab_contents)):\n",
        "  tabs.set_title(i, video_ids[i][0])\n",
        "display(tabs)"
      ]
    },
    {
      "cell_type": "code",
      "execution_count": null,
      "metadata": {
        "cellView": "form",
        "execution": {},
        "id": "OjGzX_jDFm3F"
      },
      "outputs": [],
      "source": [
        "# @title Submit your feedback\n",
        "content_review(f\"{feedback_prefix}_ANN_Uncertainty_Vignette_Video\")"
      ]
    },
    {
      "cell_type": "code",
      "execution_count": null,
      "metadata": {
        "cellView": "form",
        "execution": {},
        "id": "LQemw_MeFm3F"
      },
      "outputs": [],
      "source": [
        "# @title Video 6: ANN Uncertainty Set-up\n",
        "from ipywidgets import widgets\n",
        "from IPython.display import YouTubeVideo\n",
        "from IPython.display import IFrame\n",
        "from IPython.display import display\n",
        "\n",
        "\n",
        "class PlayVideo(IFrame):\n",
        "  def __init__(self, id, source, page=1, width=400, height=300, **kwargs):\n",
        "    self.id = id\n",
        "    if source == 'Bilibili':\n",
        "      src = f'https://player.bilibili.com/player.html?bvid={id}&page={page}'\n",
        "    elif source == 'Osf':\n",
        "      src = f'https://mfr.ca-1.osf.io/render?url=https://osf.io/download/{id}/?direct%26mode=render'\n",
        "    super(PlayVideo, self).__init__(src, width, height, **kwargs)\n",
        "\n",
        "\n",
        "def display_videos(video_ids, W=400, H=300, fs=1):\n",
        "  tab_contents = []\n",
        "  for i, video_id in enumerate(video_ids):\n",
        "    out = widgets.Output()\n",
        "    with out:\n",
        "      if video_ids[i][0] == 'Youtube':\n",
        "        video = YouTubeVideo(id=video_ids[i][1], width=W,\n",
        "                             height=H, fs=fs, rel=0)\n",
        "        print(f'Video available at https://youtube.com/watch?v={video.id}')\n",
        "      else:\n",
        "        video = PlayVideo(id=video_ids[i][1], source=video_ids[i][0], width=W,\n",
        "                          height=H, fs=fs, autoplay=False)\n",
        "        if video_ids[i][0] == 'Bilibili':\n",
        "          print(f'Video available at https://www.bilibili.com/video/{video.id}')\n",
        "        elif video_ids[i][0] == 'Osf':\n",
        "          print(f'Video available at https://osf.io/{video.id}')\n",
        "      display(video)\n",
        "    tab_contents.append(out)\n",
        "  return tab_contents\n",
        "\n",
        "\n",
        "video_ids = [('Youtube', 'Reh-gNiOwkQ'), ('Bilibili', 'BV1B34y1W7F8')]\n",
        "tab_contents = display_videos(video_ids, W=854, H=480)\n",
        "tabs = widgets.Tab()\n",
        "tabs.children = tab_contents\n",
        "for i in range(len(tab_contents)):\n",
        "  tabs.set_title(i, video_ids[i][0])\n",
        "display(tabs)"
      ]
    },
    {
      "cell_type": "code",
      "execution_count": null,
      "metadata": {
        "cellView": "form",
        "execution": {},
        "id": "sQtceqsNFm3G"
      },
      "outputs": [],
      "source": [
        "# @title Submit your feedback\n",
        "content_review(f\"{feedback_prefix}_ANN_Uncertainty_SetUp_Video\")"
      ]
    },
    {
      "cell_type": "markdown",
      "metadata": {
        "execution": {},
        "id": "57ap4mdJFm3H"
      },
      "source": [
        "Lyle wants to build an artificial neural network that has a measure of its own uncertainty about it's predictions. He wants the neural network to give a prediction/estimate and an uncertainty, or standard deviation, measurement on it.\n",
        "\n",
        "Let's say Lyle wants to estimate the location of an atom in a chemical molecule based on various inputs. He wants to have the estimate of the location and an estimate of the variance. We don't train neural networks on one data point at a time though - he wants a cost function that takes in N data points (input and atom location pairings).\n",
        "\n",
        "We think we may be able to use a Gaussian distribution to help Lyle here:\n",
        "\n",
        "\\begin{equation}\n",
        "g(x) = \\frac{1}{\\sigma\\sqrt{2\\pi}} \\text{exp} \\left( -\\frac{1}{2}\\frac{(x-\\mu)^2}{\\sigma^2} \\right)\n",
        "\\end{equation}"
      ]
    },
    {
      "cell_type": "markdown",
      "metadata": {
        "execution": {},
        "id": "_Hn528QxFm3H"
      },
      "source": [
        "## Think! 2: Designing a cost function so we measure uncertainty\n",
        "\n",
        "Given everything you know, how would you design a cost function for a neural network that Lyle is training so that he can get the estimate and the uncertainty of the estimate? Try to write out an equation!\n",
        "\n",
        "Please discuss as a group. If you get stuck, you can uncover the hints below one at a time. Please spend some time discussing before uncovering the next hint, though! You are being real deep learning scientists now, and the answers won't be easy."
      ]
    },
    {
      "cell_type": "markdown",
      "metadata": {
        "execution": {},
        "id": "L1yHnu0FFm3H"
      },
      "source": [
        "<details>\n",
        "<summary> <font color='green'>Click here for hint 1 </font></summary>\n",
        "\n",
        "Look at the Gaussian equation. What is the true location? Where is there the estimate of location? Where is there the uncertainty?\n",
        "\n",
        "What do you want the neural network to predict for one data point (recorded location) given the inputs?"
      ]
    },
    {
      "cell_type": "markdown",
      "metadata": {
        "execution": {},
        "id": "lReUdyEAFm3I"
      },
      "source": [
        "<details>\n",
        "<summary> <font color='green'>Click here for hint 2 </font></summary>\n",
        "\n",
        "What did you learn from working through Section 2 that you can use here?"
      ]
    },
    {
      "cell_type": "markdown",
      "metadata": {
        "execution": {},
        "id": "fINXGtYLFm3I"
      },
      "source": [
        "<details>\n",
        "<summary> <font color='green'>Click here for hint 3 </font></summary>\n",
        "\n",
        "In section 2, you learned that you want to go from probabilities to negative log likelihoods to form cost functions."
      ]
    },
    {
      "cell_type": "markdown",
      "metadata": {
        "execution": {},
        "id": "BRZHS_dhFm3I"
      },
      "source": [
        "<details>\n",
        "<summary> <font color='green'>Click here for the solution </font></summary>\n",
        "\n",
        "For a given set of inputs, we want the neural network to predict the location of the atom and the uncertainty of that estimate. Standard deviation is a great measure of uncertainty so we can predict the mean and standard deviation of the location (instead of just the mean as is more common).\n",
        "\n",
        "So how do we a design a cost function that involves the mean and standard deviation?  We can assume a Gaussian distribution over the location. The neural network can predict the mean of that Gaussian (that's the estimate of the location) and the standard deviation of that Gaussian (that's the uncertainty measure) for a given set of inputs.\n",
        "\n",
        "Now that we've got that figured out, we can take a very similar approach to what we did in Section 2 with spiking neurons. For a given data point $i$, the neural network predicts the mean ($\\mu_i$) and standard deviation ($\\sigma_i$) of the location given the inputs. We can then compute the probability of seeing the actual recorded location ($x_i$) given these predictions:\n",
        "\n",
        "\\begin{equation}\n",
        "g(x) = \\frac{1}{\\sigma\\sqrt{2\\pi}} \\text{exp}\\left( -\\frac{1}{2}\\frac{(x_i-\\mu_i)^2}{\\sigma_i^2} \\right)\n",
        "\\end{equation}\n",
        "\n",
        "The location of the atom is independent in each data point so we can get the overall likelihood by multiplying the probabilities for the individual data points.\n",
        "\\begin{equation}\n",
        "\\text{likelihood} = \\prod_{i=1}^N\\frac{1}{\\sigma\\sqrt{2\\pi}} \\text{exp}\\left( -\\frac{1}{2}\\frac{(x_i-\\mu_i)^2}{\\sigma_i^2} \\right)\n",
        "\\end{equation}\n",
        "\n",
        "\n",
        "And, as before, we want to take the log of this for numerical reasons and convert to negative log likelihood:\n",
        "\n",
        "\\begin{equation}\n",
        "\\text{negative log likelihood} = \\sum_{i=1}^N \\text{log} \\left( \\frac{1}{\\sigma\\sqrt{2\\pi}} \\text{exp}\\left( -\\frac{1}{2}\\frac{(x_i-\\mu_i)^2}{\\sigma_i^2} \\right) \\right)\n",
        "\\end{equation}\n",
        "\n",
        "Changing the parameters of the neural network so it predicts $\\mu_i$ and $\\sigma_i$ that minimize this equation will give us (hopefully fairly accurate) predictions of the location and the network uncertainty about the location!"
      ]
    },
    {
      "cell_type": "code",
      "execution_count": null,
      "metadata": {
        "cellView": "form",
        "execution": {},
        "id": "oVu9zeaYFm3J"
      },
      "outputs": [],
      "source": [
        "# @title Submit your feedback\n",
        "content_review(f\"{feedback_prefix}_ANN_Uncertainty_Discussion\")"
      ]
    },
    {
      "cell_type": "code",
      "execution_count": null,
      "metadata": {
        "cellView": "form",
        "execution": {},
        "id": "JlyIZQkaFm3S"
      },
      "outputs": [],
      "source": [
        "# @title Video 7: ANN Uncertainty Wrap-up\n",
        "from ipywidgets import widgets\n",
        "from IPython.display import YouTubeVideo\n",
        "from IPython.display import IFrame\n",
        "from IPython.display import display\n",
        "\n",
        "\n",
        "class PlayVideo(IFrame):\n",
        "  def __init__(self, id, source, page=1, width=400, height=300, **kwargs):\n",
        "    self.id = id\n",
        "    if source == 'Bilibili':\n",
        "      src = f'https://player.bilibili.com/player.html?bvid={id}&page={page}'\n",
        "    elif source == 'Osf':\n",
        "      src = f'https://mfr.ca-1.osf.io/render?url=https://osf.io/download/{id}/?direct%26mode=render'\n",
        "    super(PlayVideo, self).__init__(src, width, height, **kwargs)\n",
        "\n",
        "\n",
        "def display_videos(video_ids, W=400, H=300, fs=1):\n",
        "  tab_contents = []\n",
        "  for i, video_id in enumerate(video_ids):\n",
        "    out = widgets.Output()\n",
        "    with out:\n",
        "      if video_ids[i][0] == 'Youtube':\n",
        "        video = YouTubeVideo(id=video_ids[i][1], width=W,\n",
        "                             height=H, fs=fs, rel=0)\n",
        "        print(f'Video available at https://youtube.com/watch?v={video.id}')\n",
        "      else:\n",
        "        video = PlayVideo(id=video_ids[i][1], source=video_ids[i][0], width=W,\n",
        "                          height=H, fs=fs, autoplay=False)\n",
        "        if video_ids[i][0] == 'Bilibili':\n",
        "          print(f'Video available at https://www.bilibili.com/video/{video.id}')\n",
        "        elif video_ids[i][0] == 'Osf':\n",
        "          print(f'Video available at https://osf.io/{video.id}')\n",
        "      display(video)\n",
        "    tab_contents.append(out)\n",
        "  return tab_contents\n",
        "\n",
        "\n",
        "video_ids = [('Youtube', 'QBKAFRaC8SY'), ('Bilibili', 'BV1zv4y1M7C8')]\n",
        "tab_contents = display_videos(video_ids, W=854, H=480)\n",
        "tabs = widgets.Tab()\n",
        "tabs.children = tab_contents\n",
        "for i in range(len(tab_contents)):\n",
        "  tabs.set_title(i, video_ids[i][0])\n",
        "display(tabs)"
      ]
    },
    {
      "cell_type": "code",
      "execution_count": null,
      "metadata": {
        "cellView": "form",
        "execution": {},
        "id": "sLHCSNwvFm3T"
      },
      "outputs": [],
      "source": [
        "# @title Submit your feedback\n",
        "content_review(f\"{feedback_prefix}_ANN_Uncertainty_WrapUp_Video\")"
      ]
    },
    {
      "cell_type": "markdown",
      "metadata": {
        "execution": {},
        "id": "vkCuVN4JFm3T"
      },
      "source": [
        "Check out the papers mentioned in the above video:\n",
        "\n",
        "- [Rapid prediction of NMR spectral properties with quantified uncertainty](https://jcheminf.biomedcentral.com/articles/10.1186/s13321-019-0374-3)\n",
        "\n",
        "- [Deep imitation learning for molecular inverse problems](https://papers.nips.cc/paper/2019/file/b0bef4c9a6e50d43880191492d4fc827-Paper.pdf)"
      ]
    },
    {
      "cell_type": "markdown",
      "metadata": {
        "execution": {},
        "id": "U3KHxcBAFm3W"
      },
      "source": [
        "## (Bonus) Think!: Negative standard deviations\n",
        "\n",
        "If the standard deviation is negative, the negative log-likelihood will fail as you'd take the log of a negative number. What should we do to ensure we don't run into this while training our neural network?"
      ]
    },
    {
      "cell_type": "code",
      "execution_count": null,
      "metadata": {
        "cellView": "form",
        "execution": {},
        "id": "On8y7jg7Fm3W"
      },
      "outputs": [],
      "source": [
        "# @title Submit your feedback\n",
        "content_review(f\"{feedback_prefix}_Negative_standard_deviations_Bonus_Discussion\")"
      ]
    },
    {
      "cell_type": "markdown",
      "metadata": {
        "execution": {},
        "id": "sC9FixJZFm3X"
      },
      "source": [
        "---\n",
        "# Section 4: Embedding faces"
      ]
    },
    {
      "cell_type": "code",
      "execution_count": null,
      "metadata": {
        "cellView": "form",
        "execution": {},
        "id": "fdrKojKWFm3Y"
      },
      "outputs": [],
      "source": [
        "# @title Video 8: Embedding Faces Vignette\n",
        "from ipywidgets import widgets\n",
        "from IPython.display import YouTubeVideo\n",
        "from IPython.display import IFrame\n",
        "from IPython.display import display\n",
        "\n",
        "\n",
        "class PlayVideo(IFrame):\n",
        "  def __init__(self, id, source, page=1, width=400, height=300, **kwargs):\n",
        "    self.id = id\n",
        "    if source == 'Bilibili':\n",
        "      src = f'https://player.bilibili.com/player.html?bvid={id}&page={page}'\n",
        "    elif source == 'Osf':\n",
        "      src = f'https://mfr.ca-1.osf.io/render?url=https://osf.io/download/{id}/?direct%26mode=render'\n",
        "    super(PlayVideo, self).__init__(src, width, height, **kwargs)\n",
        "\n",
        "\n",
        "def display_videos(video_ids, W=400, H=300, fs=1):\n",
        "  tab_contents = []\n",
        "  for i, video_id in enumerate(video_ids):\n",
        "    out = widgets.Output()\n",
        "    with out:\n",
        "      if video_ids[i][0] == 'Youtube':\n",
        "        video = YouTubeVideo(id=video_ids[i][1], width=W,\n",
        "                             height=H, fs=fs, rel=0)\n",
        "        print(f'Video available at https://youtube.com/watch?v={video.id}')\n",
        "      else:\n",
        "        video = PlayVideo(id=video_ids[i][1], source=video_ids[i][0], width=W,\n",
        "                          height=H, fs=fs, autoplay=False)\n",
        "        if video_ids[i][0] == 'Bilibili':\n",
        "          print(f'Video available at https://www.bilibili.com/video/{video.id}')\n",
        "        elif video_ids[i][0] == 'Osf':\n",
        "          print(f'Video available at https://osf.io/{video.id}')\n",
        "      display(video)\n",
        "    tab_contents.append(out)\n",
        "  return tab_contents\n",
        "\n",
        "\n",
        "video_ids = [('Youtube', 'tF0iYBAnyrI'), ('Bilibili', 'BV1NY411K7f6')]\n",
        "tab_contents = display_videos(video_ids, W=854, H=480)\n",
        "tabs = widgets.Tab()\n",
        "tabs.children = tab_contents\n",
        "for i in range(len(tab_contents)):\n",
        "  tabs.set_title(i, video_ids[i][0])\n",
        "display(tabs)"
      ]
    },
    {
      "cell_type": "code",
      "execution_count": null,
      "metadata": {
        "cellView": "form",
        "execution": {},
        "id": "l2TquomdFm3Y"
      },
      "outputs": [],
      "source": [
        "# @title Submit your feedback\n",
        "content_review(f\"{feedback_prefix}_Embedding_Faces_Vignette_Video\")"
      ]
    },
    {
      "cell_type": "code",
      "execution_count": null,
      "metadata": {
        "cellView": "form",
        "execution": {},
        "id": "pa92BXv-Fm3Z"
      },
      "outputs": [],
      "source": [
        "# @title Video 9: Embedding Faces Set-up\n",
        "from ipywidgets import widgets\n",
        "from IPython.display import YouTubeVideo\n",
        "from IPython.display import IFrame\n",
        "from IPython.display import display\n",
        "\n",
        "\n",
        "class PlayVideo(IFrame):\n",
        "  def __init__(self, id, source, page=1, width=400, height=300, **kwargs):\n",
        "    self.id = id\n",
        "    if source == 'Bilibili':\n",
        "      src = f'https://player.bilibili.com/player.html?bvid={id}&page={page}'\n",
        "    elif source == 'Osf':\n",
        "      src = f'https://mfr.ca-1.osf.io/render?url=https://osf.io/download/{id}/?direct%26mode=render'\n",
        "    super(PlayVideo, self).__init__(src, width, height, **kwargs)\n",
        "\n",
        "\n",
        "def display_videos(video_ids, W=400, H=300, fs=1):\n",
        "  tab_contents = []\n",
        "  for i, video_id in enumerate(video_ids):\n",
        "    out = widgets.Output()\n",
        "    with out:\n",
        "      if video_ids[i][0] == 'Youtube':\n",
        "        video = YouTubeVideo(id=video_ids[i][1], width=W,\n",
        "                             height=H, fs=fs, rel=0)\n",
        "        print(f'Video available at https://youtube.com/watch?v={video.id}')\n",
        "      else:\n",
        "        video = PlayVideo(id=video_ids[i][1], source=video_ids[i][0], width=W,\n",
        "                          height=H, fs=fs, autoplay=False)\n",
        "        if video_ids[i][0] == 'Bilibili':\n",
        "          print(f'Video available at https://www.bilibili.com/video/{video.id}')\n",
        "        elif video_ids[i][0] == 'Osf':\n",
        "          print(f'Video available at https://osf.io/{video.id}')\n",
        "      display(video)\n",
        "    tab_contents.append(out)\n",
        "  return tab_contents\n",
        "\n",
        "\n",
        "video_ids = [('Youtube', 'JrzicfOxqP0'), ('Bilibili', 'BV1fv4y1M7eQ')]\n",
        "tab_contents = display_videos(video_ids, W=854, H=480)\n",
        "tabs = widgets.Tab()\n",
        "tabs.children = tab_contents\n",
        "for i in range(len(tab_contents)):\n",
        "  tabs.set_title(i, video_ids[i][0])\n",
        "display(tabs)"
      ]
    },
    {
      "cell_type": "code",
      "execution_count": null,
      "metadata": {
        "cellView": "form",
        "execution": {},
        "id": "R1Kj_zyEFm3a"
      },
      "outputs": [],
      "source": [
        "# @title Submit your feedback\n",
        "content_review(f\"{feedback_prefix}_Embedding_Faces_SetUp_Video\")"
      ]
    },
    {
      "cell_type": "markdown",
      "metadata": {
        "execution": {},
        "id": "LYJ0IbKbFm3a"
      },
      "source": [
        "Konrad needs help recognizing faces. He wants to build a network that embeds photos of faces so that photos of the same person are nearby in the embedding space and photos of different people are far in the embedding space. We can't just use pixel space because the pixels will be very different between a photo of someone straight on vs. from their side!\n",
        "\n",
        "We will use a neural network to go from the pixels of each image to an embedding space. Let's say you have a convolutional neural network with m units in the last layer. If you feed a face photo $i$ through the CNN, the activities of the units in the last layer form an $m$ dimensional vector $\\bar{y}_i$ - this is an embedding of that face photo in $m$ dimensional space.\n",
        "\n",
        "We think we might be able to incorporate Euclidean distance to help us here. The Euclidean distance between two vectors is:\n",
        "\n",
        "\\begin{equation}\n",
        "d(\\bar{y}_i, \\bar{y}_j) = \\sqrt{\\sum_{c=1}^m(\\bar{y}_{i_c} - \\bar{y}_{j_c})^2}\n",
        "\\end{equation}\n",
        "\n",
        "<br>\n",
        "\n",
        "**Note:** a minor remark here, there is an indexing error in the video where it says $i$ instead of $j$."
      ]
    },
    {
      "cell_type": "markdown",
      "metadata": {
        "execution": {},
        "id": "S__hbw-sFm3b"
      },
      "source": [
        "## Think! 3: Designing a cost function for face embedding\n",
        "\n",
        "Given everything you know, how would you design a cost function for a neural network that Konrad is training so that he can get a helpful embedding of faces? Try to write out an equation!\n",
        "\n",
        "Please discuss as a group. If you get stuck, you can uncover the hints below one at a time. Please spend some time discussing before uncovering the next hint, though! You are being real deep learning scientists now, and the answers won't be easy."
      ]
    },
    {
      "cell_type": "markdown",
      "metadata": {
        "execution": {},
        "id": "cEaWZS6RFm3c"
      },
      "source": [
        "<details>\n",
        "<summary> <font color='green'>Click here for hint 1 </font></summary>\n",
        "\n",
        "How do we want to deal with the same faces? Can we just build a cost function based on similar faces? What would happen?"
      ]
    },
    {
      "cell_type": "markdown",
      "metadata": {
        "execution": {},
        "id": "5ChqaqiLFm3c"
      },
      "source": [
        "<details>\n",
        "<summary> <font color='green'>Click here for hint 2 </font></summary>\n",
        "\n",
        "You need to also include different faces. How do you want to deal with different faces?"
      ]
    },
    {
      "cell_type": "markdown",
      "metadata": {
        "execution": {},
        "id": "duKbfatJFm3d"
      },
      "source": [
        "<details>\n",
        "<summary> <font color='green'>Click here for hint 3 </font></summary>\n",
        "\n",
        "Similar faces should have low Euclidean distance between their embeddings. Different faces should have high Euclidean distance between their embeddings. Can we phrase this with 3 faces?"
      ]
    },
    {
      "cell_type": "markdown",
      "metadata": {
        "execution": {},
        "id": "PN8GiV0bFm3e"
      },
      "source": [
        "<details>\n",
        "<summary> <font color='green'>Click here for the solution </font></summary>\n",
        "\n",
        "We want the same faces to have similar embeddings. Let's say we have one photo of Lyle $a$ and another photo of Lyle $p$. We want the embeddings of those photos to be very similar: we want the Euclidean distance between $\\bar{y}_a$ and $\\bar{y}_p$ (the activitys of the last layer of the CNN when photo $a$ and $p$ are fed through) to be small.\n",
        "\n",
        "So one possible cost function is:\n",
        "\n",
        "\\begin{equation}\n",
        "\\text{Cost function} = d(\\bar{y}_a, \\bar{y}_p)\n",
        "\\end{equation}\n",
        "\n",
        "Imagine if we just feed in pairs of the same face and minimize that though. There would be no motivation to ever have different embeddings, we would be only minimizing the distance between embeddings. If the CNN was smart, it would just have the same embedding for every single photo - then the cost function would equal 0!\n",
        "\n",
        "This is clearly not what we want. We want to motivate the CNN to have similar embeddings only when the faces are the same. This means we need to also train it to maximize distance when the faces are different.\n",
        "\n",
        "We could choose another two photos of different people and maximize that distance but then there's no relation to the embeddings we've already established of the two photos of Lyle.  Instead, we will add one more photo to the mix: a photo of Konrad $n$. We want the distance of this photo to be far from our original photos of Lyle $a$ and $p$.  So we want the distance between $a$ and $p$ to be small and the distance between $a$ and $n$ for example to be large:\n",
        "\n",
        "\\begin{equation}\n",
        "\\text{Cost function} = d(\\bar{y}_a, \\bar{y}_p) - d(\\bar{y}_a, \\bar{y}_n)\n",
        "\\end{equation}\n",
        "\n",
        "We could compare $n$ to both $a$ and $p$:\n",
        "\\begin{equation}\n",
        "\\text{Cost function} = d(\\bar{y}_a, \\bar{y}_p) - d(\\bar{y}_a, \\bar{y}_n) - d(\\bar{y}_p, \\bar{y}_n)\n",
        "\\end{equation}\n",
        "\n",
        "But then the cost function is a bit unbalanced, there are two dissimiliarty terms and they might dominate (so achieving the similarity is less important). So let's go with just including one dissimilarity term.\n",
        "\n",
        "This is an established cost function - triplet loss! We chose the subscripts $a$, $p$, and $n$ for a reason: we have an anchor image, a positive image (the same person's face as the anchor) and a negative image (a different person's face as the anchor). We can then sum over N data points where each data point is a set of three images:\n",
        "\n",
        "\\begin{equation}\n",
        "\\text{Cost function} = \\sum_{i=1}^N [d(\\bar{y}_{a, i}, \\bar{y}_{p, i}) - d(\\bar{y}_{a, i}, \\bar{y}_{n, i})]\n",
        "\\end{equation}\n",
        "\n",
        "There's one little addition in triplet loss. Instead of just using the above cost function, researchers add a constant $\\alpha$ and then make the cost function 0 if it becomes negative. Why do you think they do this?\n",
        "\n",
        "\\begin{equation}\n",
        "\\text{Cost function} = \\text{max} \\left( \\sum_{i=1}^N \\left[ d(\\bar{y}_{a, i}, \\bar{y}_{p, i}) - d(\\bar{y}_{a, i}, \\bar{y}_{n, i}) + \\alpha \\right], 0 \\right)\n",
        "\\end{equation}"
      ]
    },
    {
      "cell_type": "code",
      "execution_count": null,
      "metadata": {
        "cellView": "form",
        "execution": {},
        "id": "X0hibI-gFm3g"
      },
      "outputs": [],
      "source": [
        "# @title Submit your feedback\n",
        "content_review(f\"{feedback_prefix}_Embedding_Faces_Discussion\")"
      ]
    },
    {
      "cell_type": "code",
      "execution_count": null,
      "metadata": {
        "cellView": "form",
        "execution": {},
        "id": "RyndrnmZFm3g"
      },
      "outputs": [],
      "source": [
        "# @title Video 10: Embedding Faces Wrap-up\n",
        "from ipywidgets import widgets\n",
        "from IPython.display import YouTubeVideo\n",
        "from IPython.display import IFrame\n",
        "from IPython.display import display\n",
        "\n",
        "\n",
        "class PlayVideo(IFrame):\n",
        "  def __init__(self, id, source, page=1, width=400, height=300, **kwargs):\n",
        "    self.id = id\n",
        "    if source == 'Bilibili':\n",
        "      src = f'https://player.bilibili.com/player.html?bvid={id}&page={page}'\n",
        "    elif source == 'Osf':\n",
        "      src = f'https://mfr.ca-1.osf.io/render?url=https://osf.io/download/{id}/?direct%26mode=render'\n",
        "    super(PlayVideo, self).__init__(src, width, height, **kwargs)\n",
        "\n",
        "\n",
        "def display_videos(video_ids, W=400, H=300, fs=1):\n",
        "  tab_contents = []\n",
        "  for i, video_id in enumerate(video_ids):\n",
        "    out = widgets.Output()\n",
        "    with out:\n",
        "      if video_ids[i][0] == 'Youtube':\n",
        "        video = YouTubeVideo(id=video_ids[i][1], width=W,\n",
        "                             height=H, fs=fs, rel=0)\n",
        "        print(f'Video available at https://youtube.com/watch?v={video.id}')\n",
        "      else:\n",
        "        video = PlayVideo(id=video_ids[i][1], source=video_ids[i][0], width=W,\n",
        "                          height=H, fs=fs, autoplay=False)\n",
        "        if video_ids[i][0] == 'Bilibili':\n",
        "          print(f'Video available at https://www.bilibili.com/video/{video.id}')\n",
        "        elif video_ids[i][0] == 'Osf':\n",
        "          print(f'Video available at https://osf.io/{video.id}')\n",
        "      display(video)\n",
        "    tab_contents.append(out)\n",
        "  return tab_contents\n",
        "\n",
        "\n",
        "video_ids = [('Youtube', 'mVk1W7x6Nps'), ('Bilibili', 'BV1nf4y1f7oL')]\n",
        "tab_contents = display_videos(video_ids, W=854, H=480)\n",
        "tabs = widgets.Tab()\n",
        "tabs.children = tab_contents\n",
        "for i in range(len(tab_contents)):\n",
        "  tabs.set_title(i, video_ids[i][0])\n",
        "display(tabs)"
      ]
    },
    {
      "cell_type": "code",
      "execution_count": null,
      "metadata": {
        "cellView": "form",
        "execution": {},
        "id": "gYATAyhqFm3j"
      },
      "outputs": [],
      "source": [
        "# @title Submit your feedback\n",
        "content_review(f\"{feedback_prefix}_Embedding_Faces_WrapUp_Video\")"
      ]
    },
    {
      "cell_type": "markdown",
      "metadata": {
        "execution": {},
        "id": "JdnMdDJkFm3k"
      },
      "source": [
        "Check out the papers mentioned in the above video:\n",
        "\n",
        "- [Large Scale Online Learning of Image Similarity Through Ranking](https://www.jmlr.org/papers/volume11/chechik10a/chechik10a.pdf)\n"
      ]
    },
    {
      "cell_type": "markdown",
      "metadata": {
        "execution": {},
        "id": "98sjZP2ZFm3k"
      },
      "source": [
        "---\n",
        "# Summary\n",
        "\n",
        "Today we have seen a range of different cost functions. So we want to dwell a bit on what we want people to take away from these exercises. We have seen several cost functions:\n",
        "\n",
        "* Log Poisson likelihood for neurons\n",
        "* Uncertainty as a modeled entity\n",
        "* Face embeddings\n",
        "\n",
        "What we saw in all these cases is that these cost functions emerge from insights into the problem domain. We saw how one needs to, in a way, pull these insights out of the domain experts. And how, at the same time, the cost functions come from computational insights. Coming up with the proper cost functions requires listening to what domain experts say and probing the things they may mean but not say."
      ]
    },
    {
      "cell_type": "markdown",
      "metadata": {
        "execution": {},
        "id": "LHk6toiUFm3m"
      },
      "source": [
        "---\n",
        "# Daily survey\n",
        "\n",
        "Don't forget to complete your reflections and content check in the daily survey! Please be patient after logging in as there is\n",
        "a small delay before you will be redirected to the survey.\n",
        "\n",
        "<a href=\"https://portal.neuromatchacademy.org/api/redirect/to/3b139c3a-b116-4963-82bf-aeb5a73246eb\"><img src=\"https://github.com/NeuromatchAcademy/course-content-dl/blob/main/tutorials/static/SurveyButton.png?raw=1\" alt=\"button link to survey\" style=\"width:410px\"></a>"
      ]
    }
  ],
  "metadata": {
    "colab": {
      "name": "W2D2_Tutorial2",
      "provenance": [],
      "toc_visible": true,
      "include_colab_link": true
    },
    "kernel": {
      "display_name": "Python 3",
      "language": "python",
      "name": "python3"
    },
    "kernelspec": {
      "display_name": "Python 3",
      "name": "python3"
    },
    "language_info": {
      "name": "python"
    },
    "widgets": {
      "application/vnd.jupyter.widget-state+json": {
        "8653dcc8cb6e4cb7847e9032b2d0c92d": {
          "model_module": "@jupyter-widgets/controls",
          "model_name": "TabModel",
          "model_module_version": "1.5.0",
          "state": {
            "_dom_classes": [],
            "_model_module": "@jupyter-widgets/controls",
            "_model_module_version": "1.5.0",
            "_model_name": "TabModel",
            "_titles": {
              "0": "Youtube",
              "1": "Bilibili"
            },
            "_view_count": null,
            "_view_module": "@jupyter-widgets/controls",
            "_view_module_version": "1.5.0",
            "_view_name": "TabView",
            "box_style": "",
            "children": [
              "IPY_MODEL_9c7c0714d28d4d5f8a62fd156900c0aa",
              "IPY_MODEL_ae2735e0eecc42e7b5508a69b7e1fc2b"
            ],
            "layout": "IPY_MODEL_d70c76ab757841c38d7ff734d62f9ef2",
            "selected_index": 0
          }
        },
        "9c7c0714d28d4d5f8a62fd156900c0aa": {
          "model_module": "@jupyter-widgets/output",
          "model_name": "OutputModel",
          "model_module_version": "1.0.0",
          "state": {
            "_dom_classes": [],
            "_model_module": "@jupyter-widgets/output",
            "_model_module_version": "1.0.0",
            "_model_name": "OutputModel",
            "_view_count": null,
            "_view_module": "@jupyter-widgets/output",
            "_view_module_version": "1.0.0",
            "_view_name": "OutputView",
            "layout": "IPY_MODEL_b979400d67ce4defac3a0b79ca693b86",
            "msg_id": "",
            "outputs": [
              {
                "output_type": "stream",
                "name": "stdout",
                "text": [
                  "Video available at https://youtube.com/watch?v=iEqd0MY5pxI\n"
                ]
              },
              {
                "output_type": "display_data",
                "data": {
                  "text/plain": "<IPython.lib.display.YouTubeVideo at 0x7e8314ee5d50>",
                  "text/html": "\n        <iframe\n            width=\"854\"\n            height=\"480\"\n            src=\"https://www.youtube.com/embed/iEqd0MY5pxI?fs=1&rel=0\"\n            frameborder=\"0\"\n            allowfullscreen\n            \n        ></iframe>\n        ",
                  "image/jpeg": "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\n"
                },
                "metadata": {}
              }
            ]
          }
        },
        "ae2735e0eecc42e7b5508a69b7e1fc2b": {
          "model_module": "@jupyter-widgets/output",
          "model_name": "OutputModel",
          "model_module_version": "1.0.0",
          "state": {
            "_dom_classes": [],
            "_model_module": "@jupyter-widgets/output",
            "_model_module_version": "1.0.0",
            "_model_name": "OutputModel",
            "_view_count": null,
            "_view_module": "@jupyter-widgets/output",
            "_view_module_version": "1.0.0",
            "_view_name": "OutputView",
            "layout": "IPY_MODEL_e4ac5bc10c17427e9dece486675dd92b",
            "msg_id": "",
            "outputs": [
              {
                "output_type": "stream",
                "name": "stdout",
                "text": [
                  "Video available at https://www.bilibili.com/video/BV1hL4y1P73s\n"
                ]
              },
              {
                "output_type": "display_data",
                "data": {
                  "text/plain": "<__main__.PlayVideo at 0x7e8314ee59f0>",
                  "text/html": "\n        <iframe\n            width=\"854\"\n            height=\"480\"\n            src=\"https://player.bilibili.com/player.html?bvid=BV1hL4y1P73s&page=1?fs=1&autoplay=False\"\n            frameborder=\"0\"\n            allowfullscreen\n            \n        ></iframe>\n        "
                },
                "metadata": {}
              }
            ]
          }
        },
        "d70c76ab757841c38d7ff734d62f9ef2": {
          "model_module": "@jupyter-widgets/base",
          "model_name": "LayoutModel",
          "model_module_version": "1.2.0",
          "state": {
            "_model_module": "@jupyter-widgets/base",
            "_model_module_version": "1.2.0",
            "_model_name": "LayoutModel",
            "_view_count": null,
            "_view_module": "@jupyter-widgets/base",
            "_view_module_version": "1.2.0",
            "_view_name": "LayoutView",
            "align_content": null,
            "align_items": null,
            "align_self": null,
            "border": null,
            "bottom": null,
            "display": null,
            "flex": null,
            "flex_flow": null,
            "grid_area": null,
            "grid_auto_columns": null,
            "grid_auto_flow": null,
            "grid_auto_rows": null,
            "grid_column": null,
            "grid_gap": null,
            "grid_row": null,
            "grid_template_areas": null,
            "grid_template_columns": null,
            "grid_template_rows": null,
            "height": null,
            "justify_content": null,
            "justify_items": null,
            "left": null,
            "margin": null,
            "max_height": null,
            "max_width": null,
            "min_height": null,
            "min_width": null,
            "object_fit": null,
            "object_position": null,
            "order": null,
            "overflow": null,
            "overflow_x": null,
            "overflow_y": null,
            "padding": null,
            "right": null,
            "top": null,
            "visibility": null,
            "width": null
          }
        },
        "b979400d67ce4defac3a0b79ca693b86": {
          "model_module": "@jupyter-widgets/base",
          "model_name": "LayoutModel",
          "model_module_version": "1.2.0",
          "state": {
            "_model_module": "@jupyter-widgets/base",
            "_model_module_version": "1.2.0",
            "_model_name": "LayoutModel",
            "_view_count": null,
            "_view_module": "@jupyter-widgets/base",
            "_view_module_version": "1.2.0",
            "_view_name": "LayoutView",
            "align_content": null,
            "align_items": null,
            "align_self": null,
            "border": null,
            "bottom": null,
            "display": null,
            "flex": null,
            "flex_flow": null,
            "grid_area": null,
            "grid_auto_columns": null,
            "grid_auto_flow": null,
            "grid_auto_rows": null,
            "grid_column": null,
            "grid_gap": null,
            "grid_row": null,
            "grid_template_areas": null,
            "grid_template_columns": null,
            "grid_template_rows": null,
            "height": null,
            "justify_content": null,
            "justify_items": null,
            "left": null,
            "margin": null,
            "max_height": null,
            "max_width": null,
            "min_height": null,
            "min_width": null,
            "object_fit": null,
            "object_position": null,
            "order": null,
            "overflow": null,
            "overflow_x": null,
            "overflow_y": null,
            "padding": null,
            "right": null,
            "top": null,
            "visibility": null,
            "width": null
          }
        },
        "e4ac5bc10c17427e9dece486675dd92b": {
          "model_module": "@jupyter-widgets/base",
          "model_name": "LayoutModel",
          "model_module_version": "1.2.0",
          "state": {
            "_model_module": "@jupyter-widgets/base",
            "_model_module_version": "1.2.0",
            "_model_name": "LayoutModel",
            "_view_count": null,
            "_view_module": "@jupyter-widgets/base",
            "_view_module_version": "1.2.0",
            "_view_name": "LayoutView",
            "align_content": null,
            "align_items": null,
            "align_self": null,
            "border": null,
            "bottom": null,
            "display": null,
            "flex": null,
            "flex_flow": null,
            "grid_area": null,
            "grid_auto_columns": null,
            "grid_auto_flow": null,
            "grid_auto_rows": null,
            "grid_column": null,
            "grid_gap": null,
            "grid_row": null,
            "grid_template_areas": null,
            "grid_template_columns": null,
            "grid_template_rows": null,
            "height": null,
            "justify_content": null,
            "justify_items": null,
            "left": null,
            "margin": null,
            "max_height": null,
            "max_width": null,
            "min_height": null,
            "min_width": null,
            "object_fit": null,
            "object_position": null,
            "order": null,
            "overflow": null,
            "overflow_x": null,
            "overflow_y": null,
            "padding": null,
            "right": null,
            "top": null,
            "visibility": null,
            "width": null
          }
        },
        "3109f390a4a846f7a8aabf10394ff6f3": {
          "model_module": "@jupyter-widgets/controls",
          "model_name": "TabModel",
          "model_module_version": "1.5.0",
          "state": {
            "_dom_classes": [],
            "_model_module": "@jupyter-widgets/controls",
            "_model_module_version": "1.5.0",
            "_model_name": "TabModel",
            "_titles": {
              "0": "Youtube",
              "1": "Bilibili"
            },
            "_view_count": null,
            "_view_module": "@jupyter-widgets/controls",
            "_view_module_version": "1.5.0",
            "_view_name": "TabView",
            "box_style": "",
            "children": [
              "IPY_MODEL_b088c8fd48624a59863052780f78a031",
              "IPY_MODEL_6de6e91d386a41b0b7a2fce9c79f2169"
            ],
            "layout": "IPY_MODEL_115256332ef2431bbe7ff2f8aec1d7de",
            "selected_index": 0
          }
        },
        "b088c8fd48624a59863052780f78a031": {
          "model_module": "@jupyter-widgets/output",
          "model_name": "OutputModel",
          "model_module_version": "1.0.0",
          "state": {
            "_dom_classes": [],
            "_model_module": "@jupyter-widgets/output",
            "_model_module_version": "1.0.0",
            "_model_name": "OutputModel",
            "_view_count": null,
            "_view_module": "@jupyter-widgets/output",
            "_view_module_version": "1.0.0",
            "_view_name": "OutputView",
            "layout": "IPY_MODEL_39dd6e9d0ba547688c264bdc34b92a70",
            "msg_id": "",
            "outputs": [
              {
                "output_type": "stream",
                "name": "stdout",
                "text": [
                  "Video available at https://youtube.com/watch?v=CC4gMRrE31g\n"
                ]
              },
              {
                "output_type": "display_data",
                "data": {
                  "text/plain": "<IPython.lib.display.YouTubeVideo at 0x7e8316608b50>",
                  "text/html": "\n        <iframe\n            width=\"854\"\n            height=\"480\"\n            src=\"https://www.youtube.com/embed/CC4gMRrE31g?fs=1&rel=0\"\n            frameborder=\"0\"\n            allowfullscreen\n            \n        ></iframe>\n        ",
                  "image/jpeg": "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\n"
                },
                "metadata": {}
              }
            ]
          }
        },
        "6de6e91d386a41b0b7a2fce9c79f2169": {
          "model_module": "@jupyter-widgets/output",
          "model_name": "OutputModel",
          "model_module_version": "1.0.0",
          "state": {
            "_dom_classes": [],
            "_model_module": "@jupyter-widgets/output",
            "_model_module_version": "1.0.0",
            "_model_name": "OutputModel",
            "_view_count": null,
            "_view_module": "@jupyter-widgets/output",
            "_view_module_version": "1.0.0",
            "_view_name": "OutputView",
            "layout": "IPY_MODEL_0d114a7700c94f70b3be07043d6c5193",
            "msg_id": "",
            "outputs": [
              {
                "output_type": "stream",
                "name": "stdout",
                "text": [
                  "Video available at https://www.bilibili.com/video/BV1Jt4y187UU\n"
                ]
              },
              {
                "output_type": "display_data",
                "data": {
                  "text/plain": "<__main__.PlayVideo at 0x7e831427cac0>",
                  "text/html": "\n        <iframe\n            width=\"854\"\n            height=\"480\"\n            src=\"https://player.bilibili.com/player.html?bvid=BV1Jt4y187UU&page=1?fs=1&autoplay=False\"\n            frameborder=\"0\"\n            allowfullscreen\n            \n        ></iframe>\n        "
                },
                "metadata": {}
              }
            ]
          }
        },
        "115256332ef2431bbe7ff2f8aec1d7de": {
          "model_module": "@jupyter-widgets/base",
          "model_name": "LayoutModel",
          "model_module_version": "1.2.0",
          "state": {
            "_model_module": "@jupyter-widgets/base",
            "_model_module_version": "1.2.0",
            "_model_name": "LayoutModel",
            "_view_count": null,
            "_view_module": "@jupyter-widgets/base",
            "_view_module_version": "1.2.0",
            "_view_name": "LayoutView",
            "align_content": null,
            "align_items": null,
            "align_self": null,
            "border": null,
            "bottom": null,
            "display": null,
            "flex": null,
            "flex_flow": null,
            "grid_area": null,
            "grid_auto_columns": null,
            "grid_auto_flow": null,
            "grid_auto_rows": null,
            "grid_column": null,
            "grid_gap": null,
            "grid_row": null,
            "grid_template_areas": null,
            "grid_template_columns": null,
            "grid_template_rows": null,
            "height": null,
            "justify_content": null,
            "justify_items": null,
            "left": null,
            "margin": null,
            "max_height": null,
            "max_width": null,
            "min_height": null,
            "min_width": null,
            "object_fit": null,
            "object_position": null,
            "order": null,
            "overflow": null,
            "overflow_x": null,
            "overflow_y": null,
            "padding": null,
            "right": null,
            "top": null,
            "visibility": null,
            "width": null
          }
        },
        "39dd6e9d0ba547688c264bdc34b92a70": {
          "model_module": "@jupyter-widgets/base",
          "model_name": "LayoutModel",
          "model_module_version": "1.2.0",
          "state": {
            "_model_module": "@jupyter-widgets/base",
            "_model_module_version": "1.2.0",
            "_model_name": "LayoutModel",
            "_view_count": null,
            "_view_module": "@jupyter-widgets/base",
            "_view_module_version": "1.2.0",
            "_view_name": "LayoutView",
            "align_content": null,
            "align_items": null,
            "align_self": null,
            "border": null,
            "bottom": null,
            "display": null,
            "flex": null,
            "flex_flow": null,
            "grid_area": null,
            "grid_auto_columns": null,
            "grid_auto_flow": null,
            "grid_auto_rows": null,
            "grid_column": null,
            "grid_gap": null,
            "grid_row": null,
            "grid_template_areas": null,
            "grid_template_columns": null,
            "grid_template_rows": null,
            "height": null,
            "justify_content": null,
            "justify_items": null,
            "left": null,
            "margin": null,
            "max_height": null,
            "max_width": null,
            "min_height": null,
            "min_width": null,
            "object_fit": null,
            "object_position": null,
            "order": null,
            "overflow": null,
            "overflow_x": null,
            "overflow_y": null,
            "padding": null,
            "right": null,
            "top": null,
            "visibility": null,
            "width": null
          }
        },
        "0d114a7700c94f70b3be07043d6c5193": {
          "model_module": "@jupyter-widgets/base",
          "model_name": "LayoutModel",
          "model_module_version": "1.2.0",
          "state": {
            "_model_module": "@jupyter-widgets/base",
            "_model_module_version": "1.2.0",
            "_model_name": "LayoutModel",
            "_view_count": null,
            "_view_module": "@jupyter-widgets/base",
            "_view_module_version": "1.2.0",
            "_view_name": "LayoutView",
            "align_content": null,
            "align_items": null,
            "align_self": null,
            "border": null,
            "bottom": null,
            "display": null,
            "flex": null,
            "flex_flow": null,
            "grid_area": null,
            "grid_auto_columns": null,
            "grid_auto_flow": null,
            "grid_auto_rows": null,
            "grid_column": null,
            "grid_gap": null,
            "grid_row": null,
            "grid_template_areas": null,
            "grid_template_columns": null,
            "grid_template_rows": null,
            "height": null,
            "justify_content": null,
            "justify_items": null,
            "left": null,
            "margin": null,
            "max_height": null,
            "max_width": null,
            "min_height": null,
            "min_width": null,
            "object_fit": null,
            "object_position": null,
            "order": null,
            "overflow": null,
            "overflow_x": null,
            "overflow_y": null,
            "padding": null,
            "right": null,
            "top": null,
            "visibility": null,
            "width": null
          }
        },
        "b5dbbc79cd2d4895ab17599e8a14af8d": {
          "model_module": "@jupyter-widgets/controls",
          "model_name": "TabModel",
          "model_module_version": "1.5.0",
          "state": {
            "_dom_classes": [],
            "_model_module": "@jupyter-widgets/controls",
            "_model_module_version": "1.5.0",
            "_model_name": "TabModel",
            "_titles": {
              "0": "Youtube",
              "1": "Bilibili"
            },
            "_view_count": null,
            "_view_module": "@jupyter-widgets/controls",
            "_view_module_version": "1.5.0",
            "_view_name": "TabView",
            "box_style": "",
            "children": [
              "IPY_MODEL_3bec685392be43dd801daa84b331c473",
              "IPY_MODEL_624b5c92173f408482758c1ea3fbe8c8"
            ],
            "layout": "IPY_MODEL_dd217e5d78c1482d942a19415f6c78b2",
            "selected_index": 0
          }
        },
        "3bec685392be43dd801daa84b331c473": {
          "model_module": "@jupyter-widgets/output",
          "model_name": "OutputModel",
          "model_module_version": "1.0.0",
          "state": {
            "_dom_classes": [],
            "_model_module": "@jupyter-widgets/output",
            "_model_module_version": "1.0.0",
            "_model_name": "OutputModel",
            "_view_count": null,
            "_view_module": "@jupyter-widgets/output",
            "_view_module_version": "1.0.0",
            "_view_name": "OutputView",
            "layout": "IPY_MODEL_94b7495b8b5149cb9ad68e1b18ea9d69",
            "msg_id": "",
            "outputs": [
              {
                "output_type": "stream",
                "name": "stdout",
                "text": [
                  "Video available at https://youtube.com/watch?v=vJ7MixhmDh8\n"
                ]
              },
              {
                "output_type": "display_data",
                "data": {
                  "text/plain": "<IPython.lib.display.YouTubeVideo at 0x7e8314265fc0>",
                  "text/html": "\n        <iframe\n            width=\"854\"\n            height=\"480\"\n            src=\"https://www.youtube.com/embed/vJ7MixhmDh8?fs=1&rel=0\"\n            frameborder=\"0\"\n            allowfullscreen\n            \n        ></iframe>\n        ",
                  "image/jpeg": "/9j/4AAQSkZJRgABAQAAAQABAAD/2wCEABALDBoYFRsaGRodHRsfIyUmIiIiISUlJictLycxMi0qLi01PFBCNjhLPS0tRWFFS1NWW1xbMkFlbWRYbVBZW1cBERISGRYZLxsbMFc9NTdXV1dXV1dXV1dXV1dXV1dXV1dXV1dXV1dXV1dXV1dXV1dXV1dXV1dXV1dXV1dXV1dXV//AABEIAWgB4AMBIgACEQEDEQH/xAAbAAEAAQUBAAAAAAAAAAAAAAAABQEDBAYHAv/EAEsQAAIBAgMCCQkFBQYGAQUAAAABAgMRBBIhBTEGExdBUWFxkZIUIjJTVIGx0dIjUnKToQcVQnPBFjM0YrLwJTVDgqLhJGODs8Li/8QAGQEBAQEBAQEAAAAAAAAAAAAAAAECAwQF/8QAIhEBAQEBAAEFAAIDAAAAAAAAAAERAiEDEhMxUUFxFCJh/9oADAMBAAIRAxEAPwDn4AAAAAAAAAAAAAAAAAAAAAAAAAAAAAAAAAAAAAAAAAAAAAAAAAAAAAAAAAAAAAAAAAAAAAAAAAAAAAAAAAAAAAAAAAAAAAAAAAAAAAAAAAAAAAAAAAAAAAAAAAAAAAAAAAAAAAAAAAAAAAAAAAAAAAAAAAAAAAAAAAAAAAAAAAAAAAAAAAAAAAAAAAAAAAAAAAAAAAAAAAAAAAAAAAAAAAAAABdw1B1akacbZpNJX3agWgS1Tg7XjvdPxP5GFUwUouzcf1+RmdS/S3mxjAvPDS6ink8uouotAu8Q+oqsM3zr9S6LIMuGz5yaScdWlz8/uJOfBLEJN5qWnXL6SWyLJqBBIrYlboj3npbBr/5O/wD9DYYjASv7gr9MO9/IfuCt0w738hsMRQJX9wVumHe/kP7P1vvU++XyGxMRQJX9wVvvU++XyKfuGt96He/kNG68m2H9oq90RybYf2ir3RN2BRpPJth/aKvdEcm2H9oq90TdgBpPJth/aKvdEcm2H9oq90TdgBpPJth/aKvdEcm2H9oq90TdgBpPJth/aKvdEcm2H9oq90TdgBpPJth/aKvdEcm2H9oq90TdgBpPJth/aKvdEcm2H9oq90TdgBpPJth/aKvdEcm2H9oq90TdgBpPJth/aKvdEcm2H9oq90TdgBpPJth/aKvdEcm2H9oq90TdgBpPJth/aKvdEcm2H9oq90TdgBpPJth/aKvdEcm2H9oq90TdgBpPJth/aKvdEcm2H9oq90TdgBpPJth/aKvdEcm2H9oq90TdgBpPJth/aKvdEcm2H9oq90TdgBpPJth/aKvdEcm2H9oq90TdgBpPJth/aKvdEcm2H9oq90TdgBpPJth/aKvdEcm2H9oq90TdgBpPJth/aKvdEcm2H9oq90TdgBpPJth/aKvdEcm2H9oq90TdgBpPJth/aKvdEcm2H9oq90TdgBpPJth/aKvdEx9ocBaOFoVcRCvVcqUJTSajZuKub8RnCT/l2L/k1P8ASwOUTxVR75MtWb3s92fQelF9BiSNWkoXk+09Kh1lWpZn2s9rMa8M68PCu2jLdGneSXWZkYVeZIs0ovMum5cia3GlszCPDwcX9qsvfczsRTtGfvNfwHHZoXWmZc3WbbWhpIz6vMnHhv0+revLXKGFvFNreky/HBdTJiNFJ+5F1U0cPc6YhPIuplHguonsiPMqYnR7UC8J1ETVjUUpJSejfR0m4yw5B4qharPtZeushzzpHCXS0PawHUSuEofZwfTFfAyo4fsN7WMiVAB1YAAAAAAAAAAAAAAAAAAAAAAAAAAAAAAAAAAAAAAAAAAAAAAAAAAAAAAjeES/4fiv5M/9LJIj9vf4HE/yp/6QOV5C5Rp3kr9JRo90t67UY1rFeJ1umnzl7ydZvS0eqMeCRfS6yssiNO25mVsrYfG0o1eMy3ctMt9za33MSlFPnsSWyttU6NCnTlGbab1Vrayb6essqYkKsI4eNOLbeW8m7WveRh19vzu9VrK2itzX/wDRZ23j1N05RTS3a9PN8TN2fhaeXWKlm1d0dOupOfLPPNvWRYwu25t6TjO73P5o2XB14VYKS0fOugjFsfD+kqST6m0ZGyqCjiXFXs4t2fajlvHX1HX29cfdZs9GVSRfr01zFjKc8XVGkQuNX2svd8CbyIh9oRtWfWl8DPqTw1xfKQwbXFQ7DIzJIxtnq9GPv+LLk0dJPDN+0wADow8ykkm20ktW3uRFfv8Ag48ZGhiJ0fWxprLb7yV8zXWke+EtOU9n4iME28m5b2k05JdqujNoYmnKjGrCUeKy3Uk0oqNv0A80sbCdRQi2701UT/hcW7L4GSQlfGQjiatfNmprBqd4O94qUneL7DDp0alGtg58XxXGVckmsROq5xdKcrVMyV3dJ313PXpDZwa3UouhUdXEU5VIutdYinWlmipTtGMoXVoq6i0rrq3lcfQlSnXr1qcqtJSzqrTrSjUpRSV1lutFZvR686AnJYqKlUUlKKpxUnNxeRp33Pnatr7ixhNo8bk+xrQU1Jxcoq1kk0203lvm0Ts9HoRe0Eqk9oxk24rDUpJZmknlqu+nYu0uUIcVXwMIZsroVpOOaTu7U+l9YE8CB2Ng4V8PRxNWc3Xnacp8ZONpZtaaSdlFPzcvV0mJtKLrQxdenTlanxiVR4ipGpGVNWbpwtlUU10q+oGyPEQVVUr+fKLklZ+imk3ftku8YetxkW8s42lKNpxyvRtXt0O10+ghVh4z2lh5yTcpYaU280l5ylStonbn3bjGp1ZTpUaUpzVOrjMRCclJp2U6rjBS3q7ilp2AbQCDjTWHxio0XLi50Kk5wcnJRcZRUZK78295LrsYFPDqGAwWJUqjrN4W83Um21OUIyjZu1rN6e/eBtYAAAAAAAAAAAAAAAAAAAAAAAAAAAAAAAAAAGHteGbCV49NOS/QzDF2l/h6v4JfAl+hoL2XG28sVcFGnq5PTqJVyI/FLM7HHmutkYVHik9cz91jNpVMPzwf6/MxHRyotSqJOx01zS6eGy+i/wDy+ZDR0ydpnRSy7yyqCsveJVxejhnVpuUZWlBprS+/pRm0qWKSyqcZJRi7xWR6359ej9TBwFWUKllqp+a0+snMJllBN83Pzr3jqt8SVgwxWLipwTUkpRi5SbzJyvp183RvRM8HZV41VnUXGaeZyb4yNufnTV2lvRj0aPpQtB0pO71d99+/rJXZ9LLFtN6ve227e8nP2vcyJaUYnnJAx7lLnTHDWQ6UXuIPbFPLWXXFfFkpmsYOMcXWg6msbNPf19Bjvnw3xfK9siF6PZJ/7/U9142Za2dNJTUd2Z27D3Xka4nhOr5S4AKgR09g4SU3J4eF28zVvNb6XHc37iRAFp4eDk5OKzOORu2+PR2amPR2Th4OLjTXmO8LtvJpbzbvzVZ7loZgAwlsjD58/FRvmzW1y5r3zZd1763tcVNkYeU3OVKLcneW9Rk+mUd0n2ozgBZlhabdRuCbqRUZ/wCaKvZPvfePJoZoSyrNBOMHzxTtdLuXcXgBgvZGGdTjHRjmcsz32cvvOO5y67XK1dlYecpylSTz+mrvLLS15RvZvrauZoAxquApTlTlKCcqXoO7TW7TTm0WnUJ4CjKnKlKnF05NycWrptyzN9t9TJAGLhdn0aKlxcFHP6T1cpdF5PVnvyOnxcaWRcXDLljzLK0427LLuL4AAAAAAAAAAAAAAAAAAAAAAAAAAAAAAAAAAAAYm1P8NW/BL4GWYO3J5cFiJdFKb/QlGmynoYbqrMYE9pMxamIcru5ykbtTs0pRsQmMq2ehZ8uqLSLMapNt6m5GazKeNai0zzSxst3MYkT1lNYmpWe0oU5wla7g02lz2d95MUJ5GoSaUZbr7uw1Gxmw2pNU+LnFVIrc27Ne/nJ1zrXPWNto4aLkrKk2t1oWkvfcsVOFM6FepSyxq04O0X6MutNrR2d1u5jXKO2KkIuNKKpt75Xcpe58xiX0HHNn2vqdzqN+wvC3DT9PNSfWrrvRMUMRCpHNTnGcemLTOUZic4M7U4jEKMn9nNqMr83RL3fA6OTfmYO0VrH3/wBCQcV0Io4roROpsxebl1H4B+l7v6mTIvZV0I8yguhdw5mTC3algARQAAChUoBUAAAAAAAAAAAAAAAAAAAAAAAAAAAAAAAAAAAAAAAAAAAAAAAAwts4eVbB16UFec6c4x1tq1ZGaUA5fLgZtB/9OH5kT0uBePtbi4fmROngmDlv9i9oX0pw/MielwLx/PTh+ZE6gBg5fLgVj+anD8yJT+xeP9XD8yJ1EFngrl/9i8f6uH5kSn9i8f6uH5kTqJQupjmC4F4/1cPzIj+xeP8AVw/MidPKjTHLnwKx/q4fmRPUOBuPT1pw/MidOA0xFYLDV+JpqqkqiilLVPVaXL3k0+j9SQA0xH+TVOj9UUeFn0fqiRA0wABFAAAKFQAAAAAAAAAAAAAAAAAAAAAAAAAAAAAAAAAAAAAAAAAAAAAAAAAAAAAAAAAAAAAAAAAAAAAAAABBTrTUpefL0n/E+kp5RP78u9lKy8+Xa/ieLHmtr0yRc8on9+Xex5RP78u9lsqTaZHvyif35d7HlE/vy72eANpke/KJ/fl3srx8/vy72Up0sxe8nX3tTWWs7ItcfP78u9jj5/fl3s81oOPWeSXYsyrnHz+/LvZWNad158u9lo9R3rtJtXENHH1rv7ap45F5Y6r62p4mYWXVntRZ571f15mUsfV9bU8TLscfV9ZPxMj2rFM5Nqazp4+r62fiZZeNretqeNmNKZRSLtGX5ZW9dU8cj3HF1vW1PHIxoMvonuqr8MZV9ZPxMurF1PWT8TMMqpk2/oyZ4ur6yfiZYeMrX/vaniZ5crnlxLOroiVtfEW/v6t/5kvmWK22MSlfyir+ZL5mInp2mPiJ6pdZ9BlP7O2jicqlKvVfPZzk/wCpK4natRq6qSXZJmvUMVDIlco6835q3dL0R04v65dTpnVdr1k/7+r45fMw1t3EuSjGrWk29Epyv8SuEwsZz9LjMusn/CvmZeMxsMJSjOjTiqk7+fbcr83cW9xefTtVw2I2iqiqJYiUeeMpya7myawuPrylafGR6ndEBhNt42VJcXSis2qnUfN9535j1RqVr3rYxz6oppd+hy69Tn9d+fT6bjQryb1k+9nnG4urCLcb35jDo1XRpxdeUU96lzNdL6GZ2dSp3lJSXSv6Hm7tvV847czI8UsXKNGLnJ3sszu+0hdq7TrSdXJUnFQozl5smubTcTuIwWaCje0L5n0t7yGxkKcqGNlTV1ChUTlzXyybS/Q5517pLWv9ctaN+/cZ7XX/ADZfMvYbbeMckvKa7vpbjJb+8ioRJPYtDPWkl6ShJr4f1Pc8kTOEx+Ipqc6mIrztFtrjJ2XMktd92tSP8tx8aHGzxdeKbSgnUleXS1rojNlhb0pxlpnWq3u6d1u7CO2up1Kjqy0jZJJbl/l6ukthU5snaWIlSm5V6reXnnJl/gztCvUxDU61SSs9JTk1vI7Yv91P8JkcFP8AFS7H8RBvVObtvfeWsTUkp0rSesnfXqPdLcWsV6dL8T+DKrG4SV5wwdSUJyjJZbOLae9Ggy2xi7/4mv8AmS+ZvvCX/Bz/AO3/AFI51OKuZol9nbTxL4y+IrOyW+pLp7TbtpVankc3GcoyyaSTaa3c5o+zN1T8P9Tc9rJvAVEt+Rf0H8EQU8Tilh23iKia1u5u795FfvTGSkpLEVlHo4yXzKVYVpWjK796LtLZs5SUY3fwPNJ1z9tL62niJejXreORWptTEKKXH1r/AI5fMlNkYN0lONSCT1s+lHvA1KVOo8tNZ7+m9Wru2i5t61HPW3FiM8pxrs1LFW7ahjYjaOJi9cRXXVxk1/U2artfyeT8pqpKb+yUYyzJLfmd3fejJx2DVejGGKcJSlJqFSEcuVWck9W+iz6Tt7f+o11bTrOCaq1r/jl8yX2di6koedVlf8TPGF2dTULXva66jHxtONNfZvVnDra1j3j8fWjfLUn1WkyEq4zG7+PrJdVSS/qSCtTj5zzNnicJ1ForI3LYYtbPxtdtqpiK1/5kvmSHB3HVJbQVOVapNZJuznJrm5mQ2JwzpxcpJ3e5ou8Cm/3mv5c/6G+btZraKz8+Xa/ieD3W9OX4n8Twc69M+gAqBQFQQX3dR0VyCwuOz4h03Sqwjd5Umkrxbu9NVzf7ZscKd42PNPCKMs2l2d447Hl+dHVNW6TGsZtaLUWYZjtrhSxWO9ArHeu0w6IbS7K3RiyqavtGc8+PJq9UZYbDkXcNZ5/NUmoSkldrWKulp0lnIssIsbO2q54l3zLPmslrBJ66p6adJl7a2jUpqKp0Kc0l5z4pa+9bjt8Fq2Y9RLkZkPHbsMqcqTi1vSlp7k9V3s9T29QtpCsna7Tyv3cxi+j0YmcxQj8DtGVa+TD1G0s188UrdNzL4+S30ai99Nr/AFGb6di4vxL1KGaSXS0u8w4VJN+hlj1tX7ldfqZNCp58fxL4mMyo9rgrSta8u880+CFFNu83fpkyZhXqPdSn3W+J7U6z/wCnbtlH5n0hB4rgpFqnxdlkeua7TLD4MVpVVKq4TpL+BXRs+Ws+aC/7n8hxVTnnH3Jsnti+6tU2rhK9OT4mhJULapZfndmFhZ0p0YxrQdScE5xjJK3nTeSL/wB7jdZ05LV1LL8P/s0nH4+l5XlpecpTTlJLosrK3+9THc8Y3x96j888di1G/wBlTd9I6ac7tvb5l2IvYjaEZtwjTtFOyber6d24nthcHnSg5ym3N2ulZpaWSuYlPZWepKm42kpWk9Eknz359Dj1/Ttz/axjsbUWDozS9FuDe/Toa6NxY2BtuVKfFfwVM1o3XmSWryvmT6DaZbGgqEqL1jpbmtY1mWxo8ZOCdp03nptaZlvs+2xqzPtjdTFPFRrVIR/+TLNdtZ1kil96SV1u3Iv4yclg8RCnRyUXQrXbjl/gdrJtt9yI/ZUk4NxWZbnGMrNPnjJaajaWdUai4ytZwneLScfRejavvOc5636W9TGjLQv4PFOlPNFtPc7c6Ma5VI9bytl2dtmGdKWspNLVaL37jOqUuPp16eRKUbe5u9v1X/kjVaGGclzK/ObZs7ETlCnZ/aQuoSt5sv8ALJX/AFZd1WHsV/ZS/CX+Cr/+S+x/FHnD1IN1XTi4xavlf8Le+PudzzwYmliXfofxQiN9ovzS1ivTpfifwZTD1lboGIf2lL8T+BVY/CT/AAdT/t/1I5/U0drcxv8Awlmlg52av5tvEjQKkrJpPfv6zNVk7Nf97+H+pum0ZJYKblfLkV7K75uY0jZno1fwm81/8K1f+FFiNWpbRoZoXk9E0/Mn0acxcoY+krvPz/dn8iUpQau5Pe11c3zL1aVPLJurCLcdzmlqhZisCrj4TprJVytdUtf0LmBebVuLvrdRau+m9i/QxMcsXGUnffaMnu7D3iqfGUZwjJrNdKTTTT5nZ2em8mRdQ+1cDWqzgnmlTjJOMo5LxXOpZnr1PvJ7E4erPDq7vUTurXstGrL3PvIuntLE05KnVws5q6WenZqXXZ7if2bWnUhmnDI9yi3d6Pn5h7bZTUbRw9WnFRy6CNJqWsbom3J3SsUnpzHlyx0jV8ds+WdyW58x6qUakaWhO1bPfuLVamnEaNKxtWrZRne3NczOBC/4iv5c/wChL7SwilT5mzD4JYZxx92reZP+h1462s2Jyu/Pl+J/Et3K1358vxP4lrMYrvF25W5ZzleMJq4vFYb0WOMPUag1LGZOrZb7DynzVZ36yxGqpO19GeKH95UhzRs1/wB1/kd/LgzoSujEloy5Cqk2rlipPVmO/pvhU9Qeq7SzxghU1Xac9dca83q+0u0ZWeqTi0+1MsWbb052e43M48e49yFOdnc85ZPmKqDHiIl8NRvSUtE5J5Yve0nZvoRYda0ssmkmt97+52MOVWTgoN3Svbq6iy4M17mtedrbAlUlmg4tNLdbL23RgV+D9bK8qUptvzYyWm7m93MiTjB8z3jincTtfcy+CuHdOhKFeDje8Gno7dPeZeJ2e4JyjOM4roupW7DFpY6vCyz5l/mSl8TMpbVk3arCNvvRjZot656+0+0dmLmFl9rT/HH4oubQhDMnB6vfbd2mPhk1Vh1Tj8UYzKjb4s9pmNGoXFI9qr1yjZ4UhcClWCnFxklKL0aaun2ohsRwbwstVQjB9MLwf6Ey2eWBTZVPLTcJb0371zM94jCQlJSu1LpXP1MtzqOEZOKbeV6dJrGN2/OlhI3c41W5XzKzWuiZi5PDc2+dX+E2KxOHg6kXmhffC6y/iX9SI2Ht6NabeJcVa7T3XXR185hz23KunTnJpS3ztdq+9daPVHgmqkVKFe6J9w+m0U6GElTddfZZm/Ou4Z+h2fxI/H1VxdeMJqcOLnaSd7+YzDxHBzEySXlKkkrJSi+7eeIbKr0KFbNOMo5Jt2/CyyWJbGpWPdJa70u08Jl2klfXd2lck5gsHnUYUk1VbzSurpRs/wCti3V2jUgpU3FU5JtSyqzVtLXNl4JypSpvLe60alJuK7OgheG2HUMbnW6pBN9q0f8AQfwtWdnStCXYYeHn53vPOExMoWcbO29PnRnLBU8T52HeSrvdKT3/AIWIi7Q2nXpvzart0S85fqSOG4RSU4yqU07fddv0Nd4xxlkqxcZLp3l9Rurp3LtVsG2drUsRhnGDalePmyjrv6Voa7UpyQzF+pV03O5KseMD/d1vwo2qrK+GabaWTWzafeathZfZ1uxL9TYsfXVPCTbT0hexYMelhaVrZFJaem3Ln/zPXeSOBoqDmoKMXldsqSSduohsHVk98YwWltczf9F+pM4WpGUpJyk3lvo8t+qyLf6Ig9pSnUneKqSzapKLbRN7KhUnTvVTjLdl3Wskt36mtbUx1VRy05OCfNHzfgbVgFGjg1JOU1CF5WTk3pvM+2rrLpyW6+q36l3Z+FhBSytvNvff8zQ/7QurUbjdXfo89r7jesJPJQ4ySa0vltr2dogtbPxzUnSn6UZNdxISpTbvo10GuUIYmr9pLD1KdRybTUoaLmur/wBCQoYzEVI2lTs4u2lSKUutc9vkS879rKya0XrpYicdj5QWWxlww83UedSi1q/OvoUw9Djat3FOKPP3JLjpNqIWOkrtkpwf1xCfTGRex2yoTXo2tusU2DFxr5ZRtoyc+Ool3Corzn+KXxPPFGw+TU9+SHhQ8nh9yPhR2+Nfka7xKHELpNi8nh9yPhQ8nh9yPhQ+Jfka75OukeT23SNi8nh9yPhQ8nh9yPhQ+JPkanDZ0o1M/G36mv8A2ZSpzvfOubm6L9fWbF5PD7kfCik6VOKblGCSV22kkl0s17b+s+6fjXY0Hd3nvd9IpFziY9Zl7G2thsbOvGjCLjScVmsvOvfVLo0JTiIfcj4US8WrO5ECqMSsacU12k9xEPuR8KKeTw+5HwofGvyNHlFXfaxRpJc+pun7voeppeCPyKrAUfU0/BH5HL4L+uTTbHmSN08ho+qp+CPyKPAUfU0/BH5D/Hv6NJjRcufU8SptXXSb0sDR9TT8EfkU8go+pp+CPyHw9fo0uFOVt4V+k3XyGj6qn4I/IsYyGEoUpVasKMIRV23CPy1fUPh6/RqkoNLV/oV1ei95sOxK+GxuHVeFCEYuUkk4xb0dlfTS+jt1kh5DR9VT8ER8F/RplRO2/nPWGj58PxL4m4+Q0fVU/BH5BYGj6qn4I/IfBf0RkaqLkahJeTU/uR8KHk8PuR7keoR+c9ZzP4mH3Y9yHEw+7HuQEfmGckOJh92PchxMPux7kBHZy1WhCatJJ9pLcRD7ke5DiIfcj3IDWp7Ko3uoLuL0KMYKyVie4iH3I9yHk9P7kfCgIKUjB2pP/wCNX/lVP9DNq8lp+rh4UUeDpNNOlTae/wA1AcNuXqFSO5nZv3PhfZqH5UPkP3PhfZqH5UPkTExzXgrTdTFaQzxs73dkuu3PoSvDrDpRpVE0rNrV9KVkl7mbxDZ1CPo0KUeynFf0PVbA0aluMo0523ZoRduy6BjltHYNeWVp01dXXn69Qns+cbOTjCpeyWbXRXvpuOo/u6h6ilp/9OPyKPZuHe+hRf8A9uPyJhjmmJ2lmy06sI1akefKm+znu7dB5koTdoypwlzJdHuOmfu3Dpf3FG38uPy62RGy8Vs/FYmtRoYehLiknnVOFpO7Ty6apaa9ZcMaCq1p2lZ2tqjKqSjZ/BHSv3Vht/k9H8uHyKvZeG9no/lw+QxY5TQxfFSbSunvTJbFbchWwdam1abg7e43/wDdWG9no/lw+RR7JwrVvJqFn/8ASh8hNiY5lszHRdGN5JNebq+4nMDVUXnzRW9WXnN8z7Dbv3FgvZMP+TD5F3914b2ej+XH5FMaPWpUJN3ja/PJ3fu5v0uecLWq4e/EPPF2tGpJ96005uc3l7Lw17+T0b/y4/I9LZuHW6hSX/ZH5FMrn86U88asaOHjWurtL/yfWS+GxdSUUq0l5vXpuS/32m0LZuH9RS8EfkJbLw7VnQpNddOPyBjV5YtNpp2UXdK7vK3T1c5do7ScpxjxdLK2k3k1tftNjWzMOv8AoUvBH5HqOz6C3Uaatu8yPyJViGq4zNJYeGk8qzS326jPw9FUo2TTMynhKUPRpwjfoikXci6F3HL4/Ot+7+EPjto5FpFvp0LuzainNStbRkk6cXvin7hGlFO6jFPqSRJ6d3dPdMx7AB2YAAABYxlLjKNSDk4KUJLNF2cbq10+lGqfs2xdSph61OcnKFOayN9ad1+ifvA3I5dw24UVK9WeFpNxoQk4ytvqNOzv1X5v9rbeFPCyngYunTtPEtaR5odcvkcmqVHOTlJ3lJtt9Le8CR4P7ZngcVGtG7junH70eddvOuw7Phq8atOFSDvCcVKL6U1dHMeDnAiWMowxE6yhSk3ZJXk0m0+pap9J07D0I0qcKcFaEIqMV0JKyAugAAAAAAAAhOGNLNszEee4ZY5rp2u09Ivt3HjgVi6lbZtGdVuUlmjme9qMmlf4e4Cbq1FCMpS0jFNvsSuzj3CbhHVx9XW8aMX5lPo/zPpl8DbOGfDCEYVMLhnnnJONSa9GKejiul/DtOcAbJwK4QeR4nJUf2FVpS/yvmn/AEfV2HWzn/B/gDaVGviaia82fFRXvScvidAAAAAAAB5Uk20mrrf1Ho0ba2CxezcdUx2Fi61Cq71Yatpt3d+e3OnzfEN5Bo2J/aTSVOLpYebm/SU5JJdjV7/oYnKXP2WP5j+QHRC3XrxpxzTkoptJX523ZLtbZz/lLn7LH8x/IhNq8LsRicRRqtRjGjOM4U1fLdO95dLA36jwzwc6jg+MglPI5yh9nm1ssybtez39BsJyans2vjcJlwOEmqPGuc5Tqwbc8tkk3l81Jvp37ze+CWFx1LDtY6eaV0oRbUpRSXPJb+97gJ4AAAAAAPMldNXavzreB6BpH7P8RUVfG4d1JVKVOfmybvrmkr++1/cTXCXhPRwELPz68leNNfGXQviBq3DzhPUdSeCotxhHSrJb5u3oroXT09m/UtkbSqYTEQr098XquaS54vqZZxeJlWqzq1Hec5OUn1tmwcG+BtTHUuOdWNOnmy7s0nbf2AdQ2djoYmhTrU3eE1ddXM0+tO69xkmNs/BQw9CnRpq0IKyvv7X1veZIAAAAAB5cldK6u9yPRq3C/YlerOljMJJ+UUP4b71e+nNfV6c6ZgU/2iRhTlHEYapHERVnFaRb676x7mBvAOd8pc/ZY/mP5DlLn7LH8x/IDobZA4zhfhaNVU/tZtw4zNThmjls3m33tZX7DSNu8OK+LoujGEaMJenlbcpLovzIt7Nq1MWpRw2GlPFeTqjKXGRUFTSUM2V2tLLZelbe7AdUwmKp16UatKSnCavGS5y8aRwK2PtLC1ctd8Xhkm3TcoTu392zeXXU3cAAAAAAAADWuHu1XhsA4Rfn13kXVG3nPu095G1MR+5dj04pLymtr2Sau2/wqy7bHj9o2lfZ7l6Oad+j0qdyK/aZiHLHU6f8MKSa7ZSd/ggNRqVJSk5SblJu7bd230tnky9mY94asqihCas1KE4qUZRe9My+EmCp0a8ZUU1Rr04VoRe+KmvR9zTA339m9dz2c4vdTqyiuxpS+MmbYat+zqmlsxNb5VJt/ov6I2kAAAAAAAADSf2gYydWeH2fS9OtJOXfaKfVe79xb4X7U/d+Eo4DDSyzcEpSW9R3e5yd/wBekbS04T4bNucFbwTXxNU4Y13U2niW+aeVdkUl/QCFBK7Ax8KVXiq1OFShWcY1FJapX0lGW9NXuY22MD5Niq1C9+Lm0n0rmfdYDr3Beu6mzsNKW/i0n7tP6EqRfBmCjs7CJepg++N38SUAAAAAAAAA43wxj/xTEpL+JbvwohZRa3po3/DP/ju0f5FT/TAz+AUFidnVFiFxydaSaqef/DHpA5geqdNzkoxTcpNJJb23uR0PhxsHCYfAurRoRhPPFXV9zvfS5GxwNKjtLZPFQUc9KjOVr6ye96gb5sLZywmEpUFvhHzn0yesn3tkgUKgAAAAAAhOF+1XhMBUnF2qT8yHbLn9yu/cTZpX7T0/JKD5uN//AFf/ALAt7KmtkbFeIklx9e0op9LXmJ9SWr95z7E4idWpKpUk5Tk7yk97ZuP7SMRfyOmn5qpufVrZL4fqajgcXKhWjVgouUXulFSi9LNNPtAxzpP7MK7eGr03uhUTX/dH/wDk0/hHhKS4jEUI5KeJp58id1CadpxXVc3L9mEF5JXlzurbugrfFgboAAAAAAAAc7/aivtML+Gp8YnRDSOHH/MdmfzF/wDkgBzlwe+z7jydL2LWlLhBjYSlJwUJWi23Faw5txLbS4M4F06s/JqakoSd4px1s9bLQDjx1H9nWynRwkq8laddpr8C9Hvu33Gl08FSexJ18i45YnIp63y5E7d51bZP+Ew/8qn/AKEBmAAAAAAAAAADWeHuypYnAuUE3OjLOkt7VrSS92vuOdbe2p5ZUpVX6apQhP8AFFu7Xbo/edrNR4UcCqeIi6mFhCnXvdrVRmufTcnz3A5fGLbSSu3okuc2ThHhJTrUcOrZ8Lg4cZrucYucl+qMrBcDNp0KsatLiYzjublGVuuzTJ3FcFsTUx2KruVO1bDygnd+m6ajutorpgZn7Pf+Vw/HP4mzkNwT2XUweBhRq5c6lJvK7pXfSTIAAAAAAAAGlcPsHUp1MNtCkrui0p9ileLfVe695oW2cXGvi61aF1GpJySe9X1sdwnBSi4ySlFqzTV010NGi8JOAWeUamBUYX9Om5NLtjfd2AaPsrCSr4mlSgruc4r9dX7ldkjwji8RjMdiIW4unUjF9Lv5qt4WzYODvBbaWDxUKkeJjFtKo24yeS/nJaXWnRYuVOBmK4nHRTp3rVYSp+c9VGUm76aekgNt4Of8uwn8mn/pRJGJsrCuhhaFGTTlTpwi2t11FJ2MsAAAAAAAADXaHBuUdpYrFOouLr03BRSeZZlFO/N/D+pl8GdieQYZ0eM4xubk5Zcu9JWtfqJcARHCjZEsdhHRhJQlmjJOV7adhg1uDE5YvAVlUjlwtOEJJp3lk3NdpsoAAAAAAAAAEJww2XLF4CpCCvUjacF0uPN71dE2AOKbY2n5RSwsZJqpQp8VK/OovzX3fAizrHCbghRxcJ1KMY08TvzapS6VJLp6TU8PwH2jSnGpBUc0XdXlGSv2NWAtbXwM5Q2dglpVjRnOV9LZ252fWlFmzfsx/wAFW/nP/RE91uDmLq7QoYmpKm7UMtVpv0+LlF2Vt15IzuBmxauBw06dZxzSqOXmu6tlS3+4DYQAAAAAAACA2/sCeLxWDrRnGKoTvJNO7WZPTu/UnygELgeD6o7RxGN4y/GxsoZbWvlvrz+iS9elnpzhe2aLV+1WLhQDTY8C6q2VLCcdDjHW43NZ5dyjbp3K5tuEo8VRp073yQjG/TZJXLpUAAAAAAAAAAABQqAAAAAAAAAAAAAAAAAKFQAAAAAAAAAAAAAAAAAAKFQAAAAAAAAAAAAAAAAAAAAAAAAAAAAAAAAAAAjDxx0b2zRve1rq97Xtbptr2HoiK2x5uvWrQq5ZVVKK0fmp04xvF71K8Fqt67EwJg8Qqxk3GMotrek02tWtfemvcyL/AHTUcZfatOzyxU6mWN5JuN73aaTV96zO1i3S2JNNXq+ZmbcYuaWsqzte9/8Aqx8AE2CHwOErQxKc3KUFHWbk7SeSCSSzPnUnuW9++i2RVebPWbTbbSlJa5JrmtbWUXbX0d7Al3JXSuru7Svq7b9Peu8pGrF2tKLum1Zp3S3tdK1XeR+E2bOGIVWc1Kymt8m3mydOitktpvLEdj1PMTqRUaaUI5c0W48bCcszvo7Qy6dL7AJoEDLZ2IVaChKTil6bk8sVapaNs936UObm39GZgNnTpzjKdRyyqdlmdk5ZexPdLm/iAz6tWMIuU5RjFb3JpLvYhVjK2WUXdXVmnddK6jBrbLiqOSilH7aNXznJpyVRTffY8YXZ1SlVU1Km7586SaSzTUvNXu597uwM3yylmcONp5lvjnjde65dU1mcbrMkm1fVJ3s7e59xgYvZvGTqyulxkKUee6yVJSbuunNYsfueebWtJwu/NzT3XrNK9+bjYeDsAlZVYrVyitVHet7aSXbqtOs9kPT2TVjJyde95U296tldNyt05sjTv1dZjYrZVeFFRpznUllSfnyXn8U4523NPfZ8/YBsIPMVouwqBUFABUFABUFABUFABUFABUxcbiHBJRUuluKzNK6Wi53r+j37nkkXtSrVVSnxdNtZkpvOo3grTco5XmdrWatre1ncDxtJVXBRoyjNy0+0nfMpXzRcErbouz7USlFtxTzZr6ppW0e7QwI03m+xWWbvxj4uUYSurp3k9bZm7K+r1tqSNOCjFRW5JJdiA9AoAKgoAKgoAKgoAKgoAKgoAKgoAKgoAKgoAKgoAKgoAKgoAKgoAKgoAMuwsVAFLCyKgClkLFQBSwsVAFLCxUAUsLFQBSwsVKALCxUAUsLFQBSwsVAFLCxUAUsLFQBSwsVAFLCxUAUsMq6EVAFLCxUAUsLIqAKWQsioApZCyKgClhZAqBSyFkVAFLIWRUAUshZFQBSyFkVAFLIWRUAUshZFQBSyFkVAFLIWRUAUshZFQBSyFkVAAHNOULGerw/hn9Y5QsZ6vD+Gf1gdLBzTlCxnq8P4Z/WOULGerw/hn9YHSwc05QsZ6vD+Gf1jlCxnq8P4Z/WB0sHNOULGerw/hn9Y5QsZ6vD+Gf1gdLBzTlCxnq8P4Z/WOULGerw/hn9YHSwc05QsZ6vD+Gf1jlCxnq8P4Z/WB0sHNOULGerw/hn9Y5QsZ6vD+Gf1gdLBzTlCxnq8P4Z/WOULGerw/hn9YHSwc05QsZ6vD+Gf1jlCxnq8P4Z/WB0sHNOULGerw/hn9Y5QsZ6vD+Gf1gdLBzTlCxnq8P4Z/WOULGerw/hn9YHSwc05QsZ6vD+Gf1jlCxnq8P4Z/WB0sHNOULGerw/hn9Y5QsZ6vD+Gf1gdLBzTlCxnq8P4Z/WOULGerw/hn9YHSwc05QsZ6vD+Gf1jlCxnq8P4Z/WB0sHNOULGerw/hn9Y5QsZ6vD+Gf1gdLBzTlCxnq8P4Z/WOULGerw/hn9YHSwc05QsZ6vD+Gf1jlCxnq8P4Z/WB0sHNOULGerw/hn9Y5QsZ6vD+Gf1gdKKnNOULGerw/hn9Y5QsZ6vD+Gf1gdLBzTlCxnq8P4Z/WOULGerw/hn9YHSwc05QsZ6vD+Gf1jlCxnq8P4Z/WB0sHNOULGerw/hn9Y5QsZ6vD+Gf1gdLBzTlCxnq8P4Z/WOULGerw/hn9YHSwc05QsZ6vD+Gf1jlCxnq8P4Z/WB0sHNOULGerw/hn9Y5QsZ6vD+Gf1gdLBzTlCxnq8P4Z/WOULGerw/hn9YHSwc05QsZ6vD+Gf1jlCxnq8P4Z/WB0sHNOULGerw/hn9Y5QsZ6vD+Gf1gdLBzTlCxnq8P4Z/WOULGerw/hn9YGpgAAAAAAAAAAAAAAAAAAAAAAAAAAAAAAAAAAAAAAAAAAAAAAAAAAAAAAAAAAAAAAAAAAAAAAAAAAAAAAAAAAAAAAAAAAAAAAAAAAAAAAAAAAAAAAAAAAAAAAAAAAAAAAAAAAAAAAAAAAAAAAAAAAAAAAAAAAAAAAAAAAAAAAAAAAAAAAAAAAAAAAAAAAAAAAAAAAAAAAAAAAAAAAAAAAAAAAAAAAAAAAAAAAAAAAAAAAAAAAA//9k=\n"
                },
                "metadata": {}
              }
            ]
          }
        },
        "624b5c92173f408482758c1ea3fbe8c8": {
          "model_module": "@jupyter-widgets/output",
          "model_name": "OutputModel",
          "model_module_version": "1.0.0",
          "state": {
            "_dom_classes": [],
            "_model_module": "@jupyter-widgets/output",
            "_model_module_version": "1.0.0",
            "_model_name": "OutputModel",
            "_view_count": null,
            "_view_module": "@jupyter-widgets/output",
            "_view_module_version": "1.0.0",
            "_view_name": "OutputView",
            "layout": "IPY_MODEL_38a11557aa8c41e48e0e25949551991d",
            "msg_id": "",
            "outputs": [
              {
                "output_type": "stream",
                "name": "stdout",
                "text": [
                  "Video available at https://www.bilibili.com/video/BV1X94y1y7SH\n"
                ]
              },
              {
                "output_type": "display_data",
                "data": {
                  "text/plain": "<__main__.PlayVideo at 0x7e83142656f0>",
                  "text/html": "\n        <iframe\n            width=\"854\"\n            height=\"480\"\n            src=\"https://player.bilibili.com/player.html?bvid=BV1X94y1y7SH&page=1?fs=1&autoplay=False\"\n            frameborder=\"0\"\n            allowfullscreen\n            \n        ></iframe>\n        "
                },
                "metadata": {}
              }
            ]
          }
        },
        "dd217e5d78c1482d942a19415f6c78b2": {
          "model_module": "@jupyter-widgets/base",
          "model_name": "LayoutModel",
          "model_module_version": "1.2.0",
          "state": {
            "_model_module": "@jupyter-widgets/base",
            "_model_module_version": "1.2.0",
            "_model_name": "LayoutModel",
            "_view_count": null,
            "_view_module": "@jupyter-widgets/base",
            "_view_module_version": "1.2.0",
            "_view_name": "LayoutView",
            "align_content": null,
            "align_items": null,
            "align_self": null,
            "border": null,
            "bottom": null,
            "display": null,
            "flex": null,
            "flex_flow": null,
            "grid_area": null,
            "grid_auto_columns": null,
            "grid_auto_flow": null,
            "grid_auto_rows": null,
            "grid_column": null,
            "grid_gap": null,
            "grid_row": null,
            "grid_template_areas": null,
            "grid_template_columns": null,
            "grid_template_rows": null,
            "height": null,
            "justify_content": null,
            "justify_items": null,
            "left": null,
            "margin": null,
            "max_height": null,
            "max_width": null,
            "min_height": null,
            "min_width": null,
            "object_fit": null,
            "object_position": null,
            "order": null,
            "overflow": null,
            "overflow_x": null,
            "overflow_y": null,
            "padding": null,
            "right": null,
            "top": null,
            "visibility": null,
            "width": null
          }
        },
        "94b7495b8b5149cb9ad68e1b18ea9d69": {
          "model_module": "@jupyter-widgets/base",
          "model_name": "LayoutModel",
          "model_module_version": "1.2.0",
          "state": {
            "_model_module": "@jupyter-widgets/base",
            "_model_module_version": "1.2.0",
            "_model_name": "LayoutModel",
            "_view_count": null,
            "_view_module": "@jupyter-widgets/base",
            "_view_module_version": "1.2.0",
            "_view_name": "LayoutView",
            "align_content": null,
            "align_items": null,
            "align_self": null,
            "border": null,
            "bottom": null,
            "display": null,
            "flex": null,
            "flex_flow": null,
            "grid_area": null,
            "grid_auto_columns": null,
            "grid_auto_flow": null,
            "grid_auto_rows": null,
            "grid_column": null,
            "grid_gap": null,
            "grid_row": null,
            "grid_template_areas": null,
            "grid_template_columns": null,
            "grid_template_rows": null,
            "height": null,
            "justify_content": null,
            "justify_items": null,
            "left": null,
            "margin": null,
            "max_height": null,
            "max_width": null,
            "min_height": null,
            "min_width": null,
            "object_fit": null,
            "object_position": null,
            "order": null,
            "overflow": null,
            "overflow_x": null,
            "overflow_y": null,
            "padding": null,
            "right": null,
            "top": null,
            "visibility": null,
            "width": null
          }
        },
        "38a11557aa8c41e48e0e25949551991d": {
          "model_module": "@jupyter-widgets/base",
          "model_name": "LayoutModel",
          "model_module_version": "1.2.0",
          "state": {
            "_model_module": "@jupyter-widgets/base",
            "_model_module_version": "1.2.0",
            "_model_name": "LayoutModel",
            "_view_count": null,
            "_view_module": "@jupyter-widgets/base",
            "_view_module_version": "1.2.0",
            "_view_name": "LayoutView",
            "align_content": null,
            "align_items": null,
            "align_self": null,
            "border": null,
            "bottom": null,
            "display": null,
            "flex": null,
            "flex_flow": null,
            "grid_area": null,
            "grid_auto_columns": null,
            "grid_auto_flow": null,
            "grid_auto_rows": null,
            "grid_column": null,
            "grid_gap": null,
            "grid_row": null,
            "grid_template_areas": null,
            "grid_template_columns": null,
            "grid_template_rows": null,
            "height": null,
            "justify_content": null,
            "justify_items": null,
            "left": null,
            "margin": null,
            "max_height": null,
            "max_width": null,
            "min_height": null,
            "min_width": null,
            "object_fit": null,
            "object_position": null,
            "order": null,
            "overflow": null,
            "overflow_x": null,
            "overflow_y": null,
            "padding": null,
            "right": null,
            "top": null,
            "visibility": null,
            "width": null
          }
        }
      }
    }
  },
  "nbformat": 4,
  "nbformat_minor": 0
}