{
  "cells": [
    {
      "cell_type": "markdown",
      "metadata": {
        "id": "view-in-github",
        "colab_type": "text"
      },
      "source": [
        "<a href=\"https://colab.research.google.com/github/jsparihar/deeplearning/blob/main/tutorials/W1D2_LinearDeepLearning/student/W1D2_Tutorial3.ipynb\" target=\"_parent\"><img src=\"https://colab.research.google.com/assets/colab-badge.svg\" alt=\"Open In Colab\"/></a>"
      ]
    },
    {
      "cell_type": "markdown",
      "metadata": {
        "execution": {},
        "id": "05s6zfTTBBqp"
      },
      "source": [
        "# Tutorial 3: Deep linear neural networks\n",
        "**Week 1, Day 2: Linear Deep Learning**\n",
        "\n",
        "**By Neuromatch Academy**\n",
        "\n",
        "__Content creators:__ Saeed Salehi, Spiros Chavlis, Andrew Saxe\n",
        "\n",
        "__Content reviewers:__ Polina Turishcheva, Antoine De Comite\n",
        "\n",
        "__Content editors:__ Anoop Kulkarni\n",
        "\n",
        "__Production editors:__ Khalid Almubarak, Gagana B, Spiros Chavlis"
      ]
    },
    {
      "cell_type": "markdown",
      "metadata": {
        "execution": {},
        "id": "7dlL0R8YBBq1"
      },
      "source": [
        "---\n",
        "# Tutorial Objectives\n",
        "\n",
        "* Deep linear neural networks\n",
        "* Learning dynamics and singular value decomposition\n",
        "* Representational Similarity Analysis\n",
        "* Illusory correlations & ethics"
      ]
    },
    {
      "cell_type": "code",
      "execution_count": 1,
      "metadata": {
        "execution": {},
        "colab": {
          "base_uri": "https://localhost:8080/",
          "height": 519
        },
        "id": "4OA0mXR3BBq3",
        "outputId": "99b3eb67-ad5a-4e83-a427-af969b702d1d"
      },
      "outputs": [
        {
          "output_type": "stream",
          "name": "stdout",
          "text": [
            "If you want to download the slides: https://osf.io/download/bncr8/\n"
          ]
        },
        {
          "output_type": "execute_result",
          "data": {
            "text/plain": [
              "<IPython.lib.display.IFrame at 0x7fc4ce9c58d0>"
            ],
            "text/html": [
              "\n",
              "        <iframe\n",
              "            width=\"854\"\n",
              "            height=\"480\"\n",
              "            src=\"https://mfr.ca-1.osf.io/render?url=https://osf.io/bncr8/?direct%26mode=render%26action=download%26mode=render\"\n",
              "            frameborder=\"0\"\n",
              "            allowfullscreen\n",
              "            \n",
              "        ></iframe>\n",
              "        "
            ]
          },
          "metadata": {},
          "execution_count": 1
        }
      ],
      "source": [
        "# @title Tutorial slides\n",
        "from IPython.display import IFrame\n",
        "link_id = \"bncr8\"\n",
        "print(f\"If you want to download the slides: https://osf.io/download/{link_id}/\")\n",
        "IFrame(src=f\"https://mfr.ca-1.osf.io/render?url=https://osf.io/{link_id}/?direct%26mode=render%26action=download%26mode=render\", width=854, height=480)"
      ]
    },
    {
      "cell_type": "markdown",
      "metadata": {
        "execution": {},
        "id": "vTD9tfTPBBq6"
      },
      "source": [
        "---\n",
        "# Setup\n",
        "\n",
        "This a GPU-Free tutorial!"
      ]
    },
    {
      "cell_type": "code",
      "execution_count": null,
      "metadata": {
        "cellView": "form",
        "execution": {},
        "id": "poNTj9aTBBq7"
      },
      "outputs": [],
      "source": [
        "# @title Install and import feedback gadget\n",
        "\n",
        "!pip3 install vibecheck datatops --quiet\n",
        "\n",
        "from vibecheck import DatatopsContentReviewContainer\n",
        "def content_review(notebook_section: str):\n",
        "    return DatatopsContentReviewContainer(\n",
        "        \"\",  # No text prompt\n",
        "        notebook_section,\n",
        "        {\n",
        "            \"url\": \"https://pmyvdlilci.execute-api.us-east-1.amazonaws.com/klab\",\n",
        "            \"name\": \"neuromatch_dl\",\n",
        "            \"user_key\": \"f379rz8y\",\n",
        "        },\n",
        "    ).render()\n",
        "\n",
        "\n",
        "feedback_prefix = \"W1D2_T3\""
      ]
    },
    {
      "cell_type": "code",
      "execution_count": 2,
      "metadata": {
        "execution": {},
        "id": "77U27U5IBBq9"
      },
      "outputs": [],
      "source": [
        "# Imports\n",
        "import math\n",
        "import torch\n",
        "import matplotlib\n",
        "\n",
        "import numpy as np\n",
        "import matplotlib.pyplot as plt\n",
        "\n",
        "import torch.nn as nn\n",
        "import torch.optim as optim"
      ]
    },
    {
      "cell_type": "code",
      "execution_count": 3,
      "metadata": {
        "execution": {},
        "id": "V8UAI08HBBq-"
      },
      "outputs": [],
      "source": [
        "# @title Figure settings\n",
        "import logging\n",
        "logging.getLogger('matplotlib.font_manager').disabled = True\n",
        "\n",
        "from matplotlib import gridspec\n",
        "from ipywidgets import interact, IntSlider, FloatSlider, fixed\n",
        "from ipywidgets import FloatLogSlider, Layout, VBox\n",
        "from ipywidgets import interactive_output\n",
        "from mpl_toolkits.axes_grid1 import make_axes_locatable\n",
        "\n",
        "import warnings\n",
        "warnings.filterwarnings(\"ignore\")\n",
        "\n",
        "%config InlineBackend.figure_format = 'retina'\n",
        "plt.style.use(\"https://raw.githubusercontent.com/NeuromatchAcademy/content-creation/main/nma.mplstyle\")"
      ]
    },
    {
      "cell_type": "code",
      "execution_count": 4,
      "metadata": {
        "execution": {},
        "id": "3OebJPAKBBrA"
      },
      "outputs": [],
      "source": [
        "# @title Plotting functions\n",
        "\n",
        "def plot_x_y_hier_data(im1, im2, subplot_ratio=[1, 2]):\n",
        "  \"\"\"\n",
        "  Plot hierarchical data of labels vs features\n",
        "  for all samples\n",
        "\n",
        "  Args:\n",
        "    im1: np.ndarray\n",
        "      Input Dataset\n",
        "    im2: np.ndarray\n",
        "      Targets\n",
        "    subplot_ratio: list\n",
        "      Subplot ratios used to create subplots of varying sizes\n",
        "\n",
        "  Returns:\n",
        "    Nothing\n",
        "  \"\"\"\n",
        "  fig = plt.figure(figsize=(12, 5))\n",
        "  gs = gridspec.GridSpec(1, 2, width_ratios=subplot_ratio)\n",
        "  ax0 = plt.subplot(gs[0])\n",
        "  ax1 = plt.subplot(gs[1])\n",
        "  ax0.imshow(im1, cmap=\"cool\")\n",
        "  ax1.imshow(im2, cmap=\"cool\")\n",
        "  ax0.set_title(\"Labels of all samples\")\n",
        "  ax1.set_title(\"Features of all samples\")\n",
        "  ax0.set_axis_off()\n",
        "  ax1.set_axis_off()\n",
        "  plt.tight_layout()\n",
        "  plt.show()\n",
        "\n",
        "\n",
        "def plot_x_y_hier_one(im1, im2, subplot_ratio=[1, 2]):\n",
        "  \"\"\"\n",
        "  Plot hierarchical data of labels vs features\n",
        "  for a single sample\n",
        "\n",
        "  Args:\n",
        "    im1: np.ndarray\n",
        "      Input Dataset\n",
        "    im2: np.ndarray\n",
        "      Targets\n",
        "    subplot_ratio: list\n",
        "      Subplot ratios used to create subplots of varying sizes\n",
        "\n",
        "  Returns:\n",
        "    Nothing\n",
        "  \"\"\"\n",
        "  fig = plt.figure(figsize=(12, 1))\n",
        "  gs = gridspec.GridSpec(1, 2, width_ratios=subplot_ratio)\n",
        "  ax0 = plt.subplot(gs[0])\n",
        "  ax1 = plt.subplot(gs[1])\n",
        "  ax0.imshow(im1, cmap=\"cool\")\n",
        "  ax1.imshow(im2, cmap=\"cool\")\n",
        "  ax0.set_title(\"Labels of a single sample\")\n",
        "  ax1.set_title(\"Features of a single sample\")\n",
        "  ax0.set_axis_off()\n",
        "  ax1.set_axis_off()\n",
        "  plt.tight_layout()\n",
        "  plt.show()\n",
        "\n",
        "\n",
        "def plot_tree_data(label_list = None, feature_array = None, new_feature = None):\n",
        "  \"\"\"\n",
        "  Plot tree data\n",
        "\n",
        "  Args:\n",
        "    label_list: np.ndarray\n",
        "      List of labels [default: None]\n",
        "    feature_array: np.ndarray\n",
        "      List of features [default: None]\n",
        "    new_feature: string\n",
        "      Enables addition of new features\n",
        "\n",
        "  Returns:\n",
        "    Nothing\n",
        "  \"\"\"\n",
        "  cmap = matplotlib.colors.ListedColormap(['cyan', 'magenta'])\n",
        "  n_features = 10\n",
        "  n_labels = 8\n",
        "  im1 = np.eye(n_labels)\n",
        "  if feature_array is None:\n",
        "    im2 = np.array([[1, 1, 1, 1, 1, 1, 1, 1],\n",
        "                      [0, 0, 0, 0, 0, 0, 0, 0],\n",
        "                      [0, 0, 0, 0, 1, 1, 1, 1],\n",
        "                      [1, 1, 1, 1, 0, 0, 0, 0],\n",
        "                      [0, 0, 0, 0, 0, 0, 1, 1],\n",
        "                      [0, 0, 1, 1, 0, 0, 0, 0],\n",
        "                      [1, 1, 0, 0, 0, 0, 0, 0],\n",
        "                      [0, 0, 0, 0, 1, 1, 0, 0],\n",
        "                      [0, 1, 1, 1, 0, 0, 0, 0],\n",
        "                      [0, 0, 0, 0, 1, 1, 0, 1]]).T\n",
        "    im2[im2 == 0] = -1\n",
        "    feature_list = ['can_grow',\n",
        "                    'is_mammal',\n",
        "                    'has_leaves',\n",
        "                    'can_move',\n",
        "                    'has_trunk',\n",
        "                    'can_fly',\n",
        "                    'can_swim',\n",
        "                    'has_stem',\n",
        "                    'is_warmblooded',\n",
        "                    'can_flower']\n",
        "  else:\n",
        "    im2 = feature_array\n",
        "  if label_list is None:\n",
        "    label_list = ['Goldfish', 'Tuna', 'Robin', 'Canary',\n",
        "                  'Rose', 'Daisy', 'Pine', 'Oak']\n",
        "  fig = plt.figure(figsize=(12, 7))\n",
        "  gs = gridspec.GridSpec(1, 2, width_ratios=[1, 1.35])\n",
        "  ax1 = plt.subplot(gs[0])\n",
        "  ax2 = plt.subplot(gs[1])\n",
        "  ax1.imshow(im1, cmap=cmap)\n",
        "  if feature_array is None:\n",
        "    implt = ax2.imshow(im2, cmap=cmap, vmin=-1.0, vmax=1.0)\n",
        "  else:\n",
        "    implt = ax2.imshow(im2[:, -n_features:], cmap=cmap, vmin=-1.0, vmax=1.0)\n",
        "  divider = make_axes_locatable(ax2)\n",
        "  cax = divider.append_axes(\"right\", size=\"5%\", pad=0.1)\n",
        "  cbar = plt.colorbar(implt, cax=cax, ticks=[-0.5, 0.5])\n",
        "  cbar.ax.set_yticklabels(['no', 'yes'])\n",
        "  ax1.set_title(\"Labels\")\n",
        "  ax1.set_yticks(ticks=np.arange(n_labels))\n",
        "  ax1.set_yticklabels(labels=label_list)\n",
        "  ax1.set_xticks(ticks=np.arange(n_labels))\n",
        "  ax1.set_xticklabels(labels=label_list, rotation='vertical')\n",
        "  ax2.set_title(\"{} random Features\".format(n_features))\n",
        "  ax2.set_yticks(ticks=np.arange(n_labels))\n",
        "  ax2.set_yticklabels(labels=label_list)\n",
        "  if feature_array is None:\n",
        "    ax2.set_xticks(ticks=np.arange(n_features))\n",
        "    ax2.set_xticklabels(labels=feature_list, rotation='vertical')\n",
        "  else:\n",
        "    ax2.set_xticks(ticks=[n_features-1])\n",
        "    ax2.set_xticklabels(labels=[new_feature], rotation='vertical')\n",
        "  plt.tight_layout()\n",
        "  plt.show()\n",
        "\n",
        "\n",
        "def plot_loss(loss_array,\n",
        "              title=\"Training loss (Mean Squared Error)\",\n",
        "              c=\"r\"):\n",
        "  \"\"\"\n",
        "  Plot loss function\n",
        "\n",
        "  Args:\n",
        "    c: string\n",
        "      Specifies plot color\n",
        "    title: string\n",
        "      Specifies plot title\n",
        "    loss_array: np.ndarray\n",
        "      Log of MSE loss per epoch\n",
        "\n",
        "  Returns:\n",
        "    Nothing\n",
        "  \"\"\"\n",
        "  plt.figure(figsize=(10, 5))\n",
        "  plt.plot(loss_array, color=c)\n",
        "  plt.xlabel(\"Epoch\")\n",
        "  plt.ylabel(\"MSE\")\n",
        "  plt.title(title)\n",
        "  plt.show()\n",
        "\n",
        "\n",
        "def plot_loss_sv(loss_array, sv_array):\n",
        "  \"\"\"\n",
        "  Plot loss function\n",
        "\n",
        "  Args:\n",
        "    sv_array: np.ndarray\n",
        "      Log of singular values/modes across epochs\n",
        "    loss_array: np.ndarray\n",
        "      Log of MSE loss per epoch\n",
        "\n",
        "  Returns:\n",
        "    Nothing\n",
        "  \"\"\"\n",
        "  n_sing_values = sv_array.shape[1]\n",
        "  sv_array = sv_array / np.max(sv_array)\n",
        "  cmap = plt.cm.get_cmap(\"Set1\", n_sing_values)\n",
        "\n",
        "  _, (plot1, plot2) = plt.subplots(2, 1, sharex=True, figsize=(10, 10))\n",
        "  plot1.set_title(\"Training loss (Mean Squared Error)\")\n",
        "  plot1.plot(loss_array, color='r')\n",
        "\n",
        "  plot2.set_title(\"Evolution of singular values (modes)\")\n",
        "  for i in range(n_sing_values):\n",
        "    plot2.plot(sv_array[:, i], c=cmap(i))\n",
        "  plot2.set_xlabel(\"Epoch\")\n",
        "  plt.show()\n",
        "\n",
        "\n",
        "def plot_loss_sv_twin(loss_array, sv_array):\n",
        "  \"\"\"\n",
        "  Plot learning dynamics\n",
        "\n",
        "  Args:\n",
        "    sv_array: np.ndarray\n",
        "      Log of singular values/modes across epochs\n",
        "    loss_array: np.ndarray\n",
        "      Log of MSE loss per epoch\n",
        "\n",
        "  Returns:\n",
        "    Nothing\n",
        "  \"\"\"\n",
        "  n_sing_values = sv_array.shape[1]\n",
        "  sv_array = sv_array / np.max(sv_array)\n",
        "  cmap = plt.cm.get_cmap(\"winter\", n_sing_values)\n",
        "\n",
        "  fig = plt.figure(figsize=(10, 5))\n",
        "  ax1 = plt.gca()\n",
        "  ax1.set_title(\"Learning Dynamics\")\n",
        "  ax1.set_xlabel(\"Epoch\")\n",
        "  ax1.set_ylabel(\"Mean Squared Error\", c='r')\n",
        "  ax1.tick_params(axis='y', labelcolor='r')\n",
        "  ax1.plot(loss_array, color='r')\n",
        "\n",
        "  ax2 = ax1.twinx()\n",
        "  ax2.set_ylabel(\"Singular values (modes)\", c='b')\n",
        "  ax2.tick_params(axis='y', labelcolor='b')\n",
        "  for i in range(n_sing_values):\n",
        "    ax2.plot(sv_array[:, i], c=cmap(i))\n",
        "\n",
        "  fig.tight_layout()\n",
        "  plt.show()\n",
        "\n",
        "\n",
        "def plot_ills_sv_twin(ill_array, sv_array, ill_label):\n",
        "  \"\"\"\n",
        "  Plot network training evolution\n",
        "  and illusory correlations\n",
        "\n",
        "  Args:\n",
        "    sv_array: np.ndarray\n",
        "      Log of singular values/modes across epochs\n",
        "    ill_array: np.ndarray\n",
        "      Log of illusory correlations per epoch\n",
        "    ill_label: np.ndarray\n",
        "      Log of labels associated with illusory correlations\n",
        "\n",
        "  Returns:\n",
        "    Nothing\n",
        "  \"\"\"\n",
        "  n_sing_values = sv_array.shape[1]\n",
        "  sv_array = sv_array / np.max(sv_array)\n",
        "  cmap = plt.cm.get_cmap(\"winter\", n_sing_values)\n",
        "\n",
        "  fig = plt.figure(figsize=(10, 5))\n",
        "  ax1 = plt.gca()\n",
        "  ax1.set_title(\"Network training and the Illusory Correlations\")\n",
        "  ax1.set_xlabel(\"Epoch\")\n",
        "  ax1.set_ylabel(ill_label, c='r')\n",
        "  ax1.tick_params(axis='y', labelcolor='r')\n",
        "  ax1.plot(ill_array, color='r', linewidth=3)\n",
        "  ax1.set_ylim(-1.05, 1.05)\n",
        "\n",
        "  ax2 = ax1.twinx()\n",
        "  ax2.set_ylabel(\"Singular values (modes)\", c='b')\n",
        "  ax2.tick_params(axis='y', labelcolor='b')\n",
        "  for i in range(n_sing_values):\n",
        "    ax2.plot(sv_array[:, i], c=cmap(i))\n",
        "\n",
        "  fig.tight_layout()\n",
        "  plt.show()\n",
        "\n",
        "\n",
        "def plot_loss_sv_rsm(loss_array, sv_array, rsm_array, i_ep):\n",
        "  \"\"\"\n",
        "  Plot learning dynamics\n",
        "\n",
        "  Args:\n",
        "    sv_array: np.ndarray\n",
        "      Log of singular values/modes across epochs\n",
        "    loss_array: np.ndarray\n",
        "      Log of MSE loss per epoch\n",
        "    rsm_array: torch.tensor\n",
        "      Representation similarity matrix\n",
        "    i_ep: int\n",
        "      Which epoch to show\n",
        "\n",
        "  Returns:\n",
        "    Nothing\n",
        "  \"\"\"\n",
        "  n_ep = loss_array.shape[0]\n",
        "  rsm_array = rsm_array / np.max(rsm_array)\n",
        "  sv_array = sv_array / np.max(sv_array)\n",
        "\n",
        "  n_sing_values = sv_array.shape[1]\n",
        "  cmap = plt.cm.get_cmap(\"winter\", n_sing_values)\n",
        "\n",
        "  fig = plt.figure(figsize=(14, 5))\n",
        "  gs = gridspec.GridSpec(1, 2, width_ratios=[5, 3])\n",
        "\n",
        "  ax0 = plt.subplot(gs[1])\n",
        "  ax0.yaxis.tick_right()\n",
        "  implot = ax0.imshow(rsm_array[i_ep], cmap=\"Purples\", vmin=0.0, vmax=1.0)\n",
        "  divider = make_axes_locatable(ax0)\n",
        "  cax = divider.append_axes(\"right\", size=\"5%\", pad=0.9)\n",
        "  cbar = plt.colorbar(implot, cax=cax, ticks=[])\n",
        "  cbar.ax.set_ylabel('Similarity', fontsize=12)\n",
        "  ax0.set_title(\"RSM at epoch {}\".format(i_ep), fontsize=16)\n",
        "  ax0.set_yticks(ticks=np.arange(n_sing_values))\n",
        "  ax0.set_yticklabels(labels=item_names)\n",
        "  ax0.set_xticks(ticks=np.arange(n_sing_values))\n",
        "  ax0.set_xticklabels(labels=item_names, rotation='vertical')\n",
        "\n",
        "  ax1 = plt.subplot(gs[0])\n",
        "  ax1.set_title(\"Learning Dynamics\", fontsize=16)\n",
        "  ax1.set_xlabel(\"Epoch\")\n",
        "  ax1.set_ylabel(\"Mean Squared Error\", c='r')\n",
        "  ax1.tick_params(axis='y', labelcolor='r', direction=\"in\")\n",
        "  ax1.plot(np.arange(n_ep), loss_array, color='r')\n",
        "  ax1.axvspan(i_ep-2, i_ep+2, alpha=0.2, color='m')\n",
        "\n",
        "  ax2 = ax1.twinx()\n",
        "  ax2.set_ylabel(\"Singular values\", c='b')\n",
        "  ax2.tick_params(axis='y', labelcolor='b', direction=\"in\")\n",
        "  for i in range(n_sing_values):\n",
        "    ax2.plot(np.arange(n_ep), sv_array[:, i], c=cmap(i))\n",
        "  ax1.set_xlim(-1, n_ep+1)\n",
        "  ax2.set_xlim(-1, n_ep+1)\n",
        "\n",
        "  plt.show()"
      ]
    },
    {
      "cell_type": "code",
      "execution_count": 5,
      "metadata": {
        "execution": {},
        "id": "w-7e016CBBrE"
      },
      "outputs": [],
      "source": [
        "# @title Helper functions\n",
        "\n",
        "def build_tree(n_levels, n_branches, probability,\n",
        "               to_np_array=True):\n",
        "  \"\"\"\n",
        "  Builds tree\n",
        "\n",
        "  Args:\n",
        "    n_levels: int\n",
        "      Number of levels in tree\n",
        "    n_branches: int\n",
        "      Number of branches in tree\n",
        "    probability: float\n",
        "      Flipping probability\n",
        "    to_np_array: boolean\n",
        "      If true, represent tree as np.ndarray\n",
        "\n",
        "  Returns:\n",
        "    tree: dict if to_np_array=False\n",
        "          np.ndarray otherwise\n",
        "      Tree\n",
        "  \"\"\"\n",
        "  assert 0.0 <= probability <= 1.0\n",
        "\n",
        "  tree = {}\n",
        "\n",
        "  tree[\"level\"] = [0]\n",
        "  for i in range(1, n_levels+1):\n",
        "    tree[\"level\"].extend([i]*(n_branches**i))\n",
        "\n",
        "  tree[\"pflip\"] = [probability]*len(tree[\"level\"])\n",
        "\n",
        "  tree[\"parent\"] = [None]\n",
        "  k = len(tree[\"level\"])-1\n",
        "  for j in range(k//n_branches):\n",
        "    tree[\"parent\"].extend([j]*n_branches)\n",
        "\n",
        "  if to_np_array:\n",
        "    tree[\"level\"] = np.array(tree[\"level\"])\n",
        "    tree[\"pflip\"] = np.array(tree[\"pflip\"])\n",
        "    tree[\"parent\"] = np.array(tree[\"parent\"])\n",
        "\n",
        "  return tree\n",
        "\n",
        "\n",
        "def sample_from_tree(tree, n):\n",
        "  \"\"\"\n",
        "  Generates n samples from a tree\n",
        "\n",
        "  Args:\n",
        "    tree: np.ndarray/dictionary\n",
        "      Tree\n",
        "    n: int\n",
        "      Number of levels in tree\n",
        "\n",
        "  Returns:\n",
        "    x: np.ndarray\n",
        "      Sample from tree\n",
        "  \"\"\"\n",
        "  items = [i for i, v in enumerate(tree[\"level\"]) if v == max(tree[\"level\"])]\n",
        "  n_items = len(items)\n",
        "  x = np.zeros(shape=(n, n_items))\n",
        "  rand_temp = np.random.rand(n, len(tree[\"pflip\"]))\n",
        "  flip_temp = np.repeat(tree[\"pflip\"].reshape(1, -1), n, 0)\n",
        "  samp = (rand_temp > flip_temp) * 2 - 1\n",
        "\n",
        "  for i in range(n_items):\n",
        "    j = items[i]\n",
        "    prop = samp[:, j]\n",
        "    while tree[\"parent\"][j] is not None:\n",
        "      j = tree[\"parent\"][j]\n",
        "      prop = prop * samp[:, j]\n",
        "    x[:, i] = prop.T\n",
        "  return x\n",
        "\n",
        "\n",
        "def generate_hsd():\n",
        "  \"\"\"\n",
        "  Building the tree\n",
        "\n",
        "  Args:\n",
        "    None\n",
        "\n",
        "  Returns:\n",
        "    tree_labels: np.ndarray\n",
        "      Tree Labels\n",
        "    tree_features: np.ndarray\n",
        "      Sample from tree\n",
        "  \"\"\"\n",
        "  n_branches = 2  # 2 branches at each node\n",
        "  probability = .15  # flipping probability\n",
        "  n_levels = 3  # number of levels (depth of tree)\n",
        "  tree = build_tree(n_levels, n_branches, probability, to_np_array=True)\n",
        "  tree[\"pflip\"][0] = 0.5\n",
        "  n_samples = 10000 # Sample this many features\n",
        "\n",
        "  tree_labels = np.eye(n_branches**n_levels)\n",
        "  tree_features = sample_from_tree(tree, n_samples).T\n",
        "  return tree_labels, tree_features\n",
        "\n",
        "\n",
        "def linear_regression(X, Y):\n",
        "  \"\"\"\n",
        "  Analytical Linear regression\n",
        "\n",
        "  Args:\n",
        "    X: np.ndarray\n",
        "      Input features\n",
        "    Y: np.ndarray\n",
        "      Targets\n",
        "\n",
        "  Returns:\n",
        "    W: np.ndarray\n",
        "      Analytical solution\n",
        "      W = Y @ X.T @ np.linalg.inv(X @ X.T)\n",
        "  \"\"\"\n",
        "  assert isinstance(X, np.ndarray)\n",
        "  assert isinstance(Y, np.ndarray)\n",
        "  M, Dx = X.shape\n",
        "  N, Dy = Y.shape\n",
        "  assert Dx == Dy\n",
        "  W = Y @ X.T @ np.linalg.inv(X @ X.T)\n",
        "  return W\n",
        "\n",
        "\n",
        "def add_feature(existing_features, new_feature):\n",
        "  \"\"\"\n",
        "  Adding new features to existing tree\n",
        "\n",
        "  Args:\n",
        "    existing_features: np.ndarray\n",
        "      List of features already present in the tree\n",
        "    new_feature: list\n",
        "      List of new features to be added\n",
        "\n",
        "  Returns:\n",
        "    New features augmented with existing features\n",
        "  \"\"\"\n",
        "  assert isinstance(existing_features, np.ndarray)\n",
        "  assert isinstance(new_feature, list)\n",
        "  new_feature = np.array([new_feature]).T\n",
        "  return np.hstack((tree_features, new_feature))\n",
        "\n",
        "\n",
        "def net_svd(model, in_dim):\n",
        "  \"\"\"\n",
        "  Performs a Singular Value Decomposition on\n",
        "  given model weights\n",
        "\n",
        "  Args:\n",
        "    model: torch.nn.Module\n",
        "      Neural network model\n",
        "    in_dim: int\n",
        "      The input dimension of the model\n",
        "\n",
        "  Returns:\n",
        "    U: torch.tensor\n",
        "      Orthogonal Matrix\n",
        "    Σ: torch.tensor\n",
        "      Diagonal Matrix\n",
        "    V: torch.tensor\n",
        "      Orthogonal Matrix\n",
        "  \"\"\"\n",
        "  W_tot = torch.eye(in_dim)\n",
        "  for weight in model.parameters():\n",
        "    W_tot = weight.detach() @ W_tot\n",
        "  U, SIGMA, V = torch.svd(W_tot)\n",
        "  return U, SIGMA, V\n",
        "\n",
        "\n",
        "def net_rsm(h):\n",
        "  \"\"\"\n",
        "  Calculates the Representational Similarity Matrix\n",
        "\n",
        "  Args:\n",
        "    h: torch.Tensor\n",
        "      Activity of a hidden layer\n",
        "\n",
        "  Returns:\n",
        "    rsm: torch.Tensor\n",
        "      Representational Similarity Matrix\n",
        "  \"\"\"\n",
        "  rsm = h @ h.T\n",
        "  return rsm\n",
        "\n",
        "\n",
        "def initializer_(model, gamma=1e-12):\n",
        "  \"\"\"\n",
        "  In-place Re-initialization of weights\n",
        "\n",
        "  Args:\n",
        "    model: torch.nn.Module\n",
        "      PyTorch neural net model\n",
        "    gamma: float\n",
        "      Initialization scale\n",
        "\n",
        "  Returns:\n",
        "    Nothing\n",
        "  \"\"\"\n",
        "  for weight in model.parameters():\n",
        "    n_out, n_in = weight.shape\n",
        "    sigma = gamma / math.sqrt(n_in + n_out)\n",
        "    nn.init.normal_(weight, mean=0.0, std=sigma)\n",
        "\n",
        "\n",
        "def test_initializer_ex(seed):\n",
        "  \"\"\"\n",
        "  Testing initializer implementation\n",
        "\n",
        "  Args:\n",
        "    seed: int\n",
        "      Set for reproducibility\n",
        "\n",
        "  Returns:\n",
        "    Nothing\n",
        "  \"\"\"\n",
        "  torch.manual_seed(seed)\n",
        "  model = LNNet(5000, 5000, 1)\n",
        "  try:\n",
        "    ex_initializer_(model, gamma=1)\n",
        "    std = torch.std(next(iter(model.parameters())).detach()).item()\n",
        "    if -1e-5 <= (std - 0.01) <= 1e-5:\n",
        "      print(\"Well done! Seems to be correct!\")\n",
        "    else:\n",
        "      print(\"Please double check your implementation!\")\n",
        "  except:\n",
        "    print(\"Faulty Implementation!\")\n",
        "\n",
        "\n",
        "def test_net_svd_ex(seed):\n",
        "  \"\"\"\n",
        "  Tests net_svd_ex exercise\n",
        "\n",
        "  Args:\n",
        "    seed: int\n",
        "      Set for reproducibility\n",
        "\n",
        "  Returns:\n",
        "    Nothing\n",
        "  \"\"\"\n",
        "  torch.manual_seed(seed)\n",
        "  model = LNNet(8, 30, 100)\n",
        "  try:\n",
        "    U_ex, Σ_ex, V_ex = ex_net_svd(model, 8)\n",
        "    U, Σ, V = net_svd(model, 8)\n",
        "    if (torch.all(torch.isclose(U_ex.detach(), U.detach(), atol=1e-6)) and\n",
        "        torch.all(torch.isclose(Σ_ex.detach(), Σ.detach(), atol=1e-6)) and\n",
        "        torch.all(torch.isclose(V_ex.detach(), V.detach(), atol=1e-6))):\n",
        "      print(\"Well done! Seems to be correct!\")\n",
        "    else:\n",
        "      print(\"Please double check your implementation!\")\n",
        "  except:\n",
        "    print(\"Faulty Implementation!\")\n",
        "\n",
        "\n",
        "def test_net_rsm_ex(seed):\n",
        "  \"\"\"\n",
        "  Tests net_rsm_ex implementation\n",
        "\n",
        "  Args:\n",
        "    seed: int\n",
        "      Set for reproducibility\n",
        "\n",
        "  Returns:\n",
        "    Nothing\n",
        "  \"\"\"\n",
        "  torch.manual_seed(seed)\n",
        "  x = torch.rand(7, 17)\n",
        "  try:\n",
        "    y_ex = ex_net_rsm(x)\n",
        "    y = x @ x.T\n",
        "    if (torch.all(torch.isclose(y_ex, y, atol=1e-6))):\n",
        "      print(\"Well done! Seems to be correct!\")\n",
        "    else:\n",
        "      print(\"Please double check your implementation!\")\n",
        "  except:\n",
        "    print(\"Faulty Implementation!\")"
      ]
    },
    {
      "cell_type": "code",
      "execution_count": 6,
      "metadata": {
        "execution": {},
        "id": "5GShm4wkBBrH"
      },
      "outputs": [],
      "source": [
        "#@title Set random seed\n",
        "\n",
        "#@markdown Executing `set_seed(seed=seed)` you are setting the seed\n",
        "\n",
        "# For DL its critical to set the random seed so that students can have a\n",
        "# baseline to compare their results to expected results.\n",
        "# Read more here: https://pytorch.org/docs/stable/notes/randomness.html\n",
        "\n",
        "# Call `set_seed` function in the exercises to ensure reproducibility.\n",
        "import random\n",
        "import torch\n",
        "\n",
        "def set_seed(seed=None, seed_torch=True):\n",
        "  \"\"\"\n",
        "  Function that controls randomness. NumPy and random modules must be imported.\n",
        "\n",
        "  Args:\n",
        "    seed : Integer\n",
        "      A non-negative integer that defines the random state. Default is `None`.\n",
        "    seed_torch : Boolean\n",
        "      If `True` sets the random seed for pytorch tensors, so pytorch module\n",
        "      must be imported. Default is `True`.\n",
        "\n",
        "  Returns:\n",
        "    Nothing.\n",
        "  \"\"\"\n",
        "  if seed is None:\n",
        "    seed = np.random.choice(2 ** 32)\n",
        "  random.seed(seed)\n",
        "  np.random.seed(seed)\n",
        "  if seed_torch:\n",
        "    torch.manual_seed(seed)\n",
        "    torch.cuda.manual_seed_all(seed)\n",
        "    torch.cuda.manual_seed(seed)\n",
        "    torch.backends.cudnn.benchmark = False\n",
        "    torch.backends.cudnn.deterministic = True\n",
        "\n",
        "  print(f'Random seed {seed} has been set.')\n",
        "\n",
        "\n",
        "# In case that `DataLoader` is used\n",
        "def seed_worker(worker_id):\n",
        "  \"\"\"\n",
        "  DataLoader will reseed workers following randomness in\n",
        "  multi-process data loading algorithm.\n",
        "\n",
        "  Args:\n",
        "    worker_id: integer\n",
        "      ID of subprocess to seed. 0 means that\n",
        "      the data will be loaded in the main process\n",
        "      Refer: https://pytorch.org/docs/stable/data.html#data-loading-randomness for more details\n",
        "\n",
        "  Returns:\n",
        "    Nothing\n",
        "  \"\"\"\n",
        "  worker_seed = torch.initial_seed() % 2**32\n",
        "  np.random.seed(worker_seed)\n",
        "  random.seed(worker_seed)"
      ]
    },
    {
      "cell_type": "code",
      "execution_count": 7,
      "metadata": {
        "execution": {},
        "id": "zJmnAl7QBBrI"
      },
      "outputs": [],
      "source": [
        "#@title Set device (GPU or CPU). Execute `set_device()`\n",
        "# especially if torch modules used.\n",
        "\n",
        "# Inform the user if the notebook uses GPU or CPU.\n",
        "\n",
        "def set_device():\n",
        "  \"\"\"\n",
        "  Set the device. CUDA if available, CPU otherwise\n",
        "\n",
        "  Args:\n",
        "    None\n",
        "\n",
        "  Returns:\n",
        "    Nothing\n",
        "  \"\"\"\n",
        "  device = \"cuda\" if torch.cuda.is_available() else \"cpu\"\n",
        "  if device != \"cuda\":\n",
        "    print(\"GPU is not enabled in this notebook. \\n\"\n",
        "          \"If you want to enable it, in the menu under `Runtime` -> \\n\"\n",
        "          \"`Hardware accelerator.` and select `GPU` from the dropdown menu\")\n",
        "  else:\n",
        "    print(\"GPU is enabled in this notebook. \\n\"\n",
        "          \"If you want to disable it, in the menu under `Runtime` -> \\n\"\n",
        "          \"`Hardware accelerator.` and select `None` from the dropdown menu\")\n",
        "\n",
        "  return device"
      ]
    },
    {
      "cell_type": "code",
      "execution_count": 8,
      "metadata": {
        "execution": {},
        "colab": {
          "base_uri": "https://localhost:8080/"
        },
        "id": "mybgMXOGBBrJ",
        "outputId": "c02a023f-c42c-4b85-8a67-c9f1e8f4596e"
      },
      "outputs": [
        {
          "output_type": "stream",
          "name": "stdout",
          "text": [
            "Random seed 2021 has been set.\n",
            "GPU is not enabled in this notebook. \n",
            "If you want to enable it, in the menu under `Runtime` -> \n",
            "`Hardware accelerator.` and select `GPU` from the dropdown menu\n"
          ]
        }
      ],
      "source": [
        "SEED = 2021\n",
        "set_seed(seed=SEED)\n",
        "DEVICE = set_device()"
      ]
    },
    {
      "cell_type": "markdown",
      "metadata": {
        "execution": {},
        "id": "g5JFeHaOBBrJ"
      },
      "source": [
        "This colab notebook is GPU free!"
      ]
    },
    {
      "cell_type": "markdown",
      "metadata": {
        "execution": {},
        "id": "RYvAYFTlBBrK"
      },
      "source": [
        "---\n",
        "# Section 0: Prelude\n",
        "*Time estimate: ~10 mins*\n",
        "\n"
      ]
    },
    {
      "cell_type": "markdown",
      "metadata": {
        "execution": {},
        "id": "qRGBY_94BBrK"
      },
      "source": [
        "**A note on the exercises**: Most of the exercises are marked `Optional(Bonus)` and should only read through them if you are in a tight timeline. Therefore we would not rely on the implementation of the exercises. If necessary, you can look at the *Helper Functions* cell above to find the functions and classes used in this tutorial.\n",
        "\n",
        "Throughout this tutorial, we will use a linear neural net with a single hidden layer. We have also excluded `bias` from the layers. Please note that the forward loop returns the hidden activation, besides the network output (prediction). we will need it in section 3."
      ]
    },
    {
      "cell_type": "code",
      "execution_count": 9,
      "metadata": {
        "execution": {},
        "id": "zJkGp-MyBBrc"
      },
      "outputs": [],
      "source": [
        "class LNNet(nn.Module):\n",
        "  \"\"\"\n",
        "  A Linear Neural Net with one hidden layer\n",
        "  \"\"\"\n",
        "\n",
        "  def __init__(self, in_dim, hid_dim, out_dim):\n",
        "    \"\"\"\n",
        "    Initialize LNNet parameters\n",
        "\n",
        "    Args:\n",
        "      in_dim: int\n",
        "        Input dimension\n",
        "      out_dim: int\n",
        "        Ouput dimension\n",
        "      hid_dim: int\n",
        "        Hidden dimension\n",
        "\n",
        "    Returns:\n",
        "      Nothing\n",
        "    \"\"\"\n",
        "    super().__init__()\n",
        "    self.in_hid = nn.Linear(in_dim, hid_dim, bias=False)\n",
        "    self.hid_out = nn.Linear(hid_dim, out_dim, bias=False)\n",
        "\n",
        "  def forward(self, x):\n",
        "    \"\"\"\n",
        "    Forward pass of LNNet\n",
        "\n",
        "    Args:\n",
        "      x: torch.Tensor\n",
        "        Input tensor\n",
        "\n",
        "    Returns:\n",
        "      hid: torch.Tensor\n",
        "        Hidden layer activity\n",
        "      out: torch.Tensor\n",
        "        Output/Prediction\n",
        "    \"\"\"\n",
        "    hid = self.in_hid(x)  # Hidden activity\n",
        "    out = self.hid_out(hid)  # Output (prediction)\n",
        "    return out, hid"
      ]
    },
    {
      "cell_type": "markdown",
      "metadata": {
        "execution": {},
        "id": "-JzHbGP4BBrc"
      },
      "source": [
        "Other than `net_svd` and `net_rsm` functions, the training loop should be mostly familiar to you. We will define these functions in the coming sections.\n",
        "\n",
        "**Important**: Please note that the two functions are part of inner training loop and are therefore executed and recorded at every iteration."
      ]
    },
    {
      "cell_type": "code",
      "execution_count": 10,
      "metadata": {
        "execution": {},
        "id": "bZljIHKRBBrd"
      },
      "outputs": [],
      "source": [
        "def train(model, inputs, targets, n_epochs, lr, illusory_i=0):\n",
        "  \"\"\"\n",
        "  Training function\n",
        "\n",
        "  Args:\n",
        "    model: torch nn.Module\n",
        "      The neural network\n",
        "    inputs: torch.Tensor\n",
        "      Features (input) with shape `[batch_size, input_dim]`\n",
        "    targets: torch.Tensor\n",
        "      Targets (labels) with shape `[batch_size, output_dim]`\n",
        "    n_epochs: int\n",
        "      Number of training epochs (iterations)\n",
        "    lr: float\n",
        "      Learning rate\n",
        "    illusory_i: int\n",
        "      Index of illusory feature\n",
        "\n",
        "  Returns:\n",
        "    losses: np.ndarray\n",
        "      Record (evolution) of training loss\n",
        "    modes: np.ndarray\n",
        "      Record (evolution) of singular values (dynamic modes)\n",
        "    rs_mats: np.ndarray\n",
        "      Record (evolution) of representational similarity matrices\n",
        "    illusions: np.ndarray\n",
        "      Record of network prediction for the last feature\n",
        "  \"\"\"\n",
        "  in_dim = inputs.size(1)\n",
        "\n",
        "  losses = np.zeros(n_epochs)  # Loss records\n",
        "  modes = np.zeros((n_epochs, in_dim))  # Singular values (modes) records\n",
        "  rs_mats = []  # Representational similarity matrices\n",
        "  illusions = np.zeros(n_epochs)  # Prediction for the given feature\n",
        "\n",
        "  optimizer = optim.SGD(model.parameters(), lr=lr)\n",
        "  criterion = nn.MSELoss()\n",
        "\n",
        "  for i in range(n_epochs):\n",
        "    optimizer.zero_grad()\n",
        "    predictions, hiddens = model(inputs)\n",
        "    loss = criterion(predictions, targets)\n",
        "    loss.backward()\n",
        "    optimizer.step()\n",
        "\n",
        "    # Section 2 Singular value decomposition\n",
        "    U, Σ, V = net_svd(model, in_dim)\n",
        "\n",
        "    # Section 3 calculating representational similarity matrix\n",
        "    RSM = net_rsm(hiddens.detach())\n",
        "\n",
        "    # Section 4 network prediction of illusory_i inputs for the last feature\n",
        "    pred_ij = predictions.detach()[illusory_i, -1]\n",
        "\n",
        "    # Logging (recordings)\n",
        "    losses[i] = loss.item()\n",
        "    modes[i] = Σ.detach().numpy()\n",
        "    rs_mats.append(RSM.numpy())\n",
        "    illusions[i] = pred_ij.numpy()\n",
        "\n",
        "  return losses, modes, np.array(rs_mats), illusions"
      ]
    },
    {
      "cell_type": "markdown",
      "metadata": {
        "execution": {},
        "id": "k1ZPfB46BBrf"
      },
      "source": [
        "We also need take over the initialization of the weights. In PyTorch, [`nn.init`](https://pytorch.org/docs/stable/nn.init.html) provides us with the functions to initialize tensors from a given distribution."
      ]
    },
    {
      "cell_type": "markdown",
      "metadata": {
        "execution": {},
        "id": "8aPWVoYOBBrg"
      },
      "source": [
        "## Coding Exercise 0: Re-initialization (Optional)\n",
        "\n",
        "Complete the function `ex_initializer_`, such that the weights are sampled from the following distribution:\n",
        "\n",
        "\\begin{equation}\n",
        "\\mathcal{N}\\left(\\mu=0, ~~\\sigma=\\gamma \\sqrt{\\dfrac{1}{n_{in} + n_{out}}} \\right)\n",
        "\\end{equation}\n",
        "\n",
        "where $\\gamma$ is the initialization scale, $n_{in}$ and $n_{out}$ are respectively input and output dimensions of the layer. the Underscore (\"_\") in `ex_initializer_` and other functions, denotes \"[in-place](https://discuss.pytorch.org/t/what-is-in-place-operation/16244/2)\" operation.\n",
        "\n",
        "**important note**: Since we did not include bias in the layers, the `model.parameters()` would only return the weights in each layer."
      ]
    },
    {
      "cell_type": "code",
      "execution_count": 12,
      "metadata": {
        "execution": {},
        "colab": {
          "base_uri": "https://localhost:8080/"
        },
        "id": "pkkvu-3GBBrg",
        "outputId": "c38ddbb6-d5fd-4733-efd0-faf799e7d7a9"
      },
      "outputs": [
        {
          "output_type": "stream",
          "name": "stdout",
          "text": [
            "Well done! Seems to be correct!\n"
          ]
        }
      ],
      "source": [
        "def ex_initializer_(model, gamma=1e-12):\n",
        "  \"\"\"\n",
        "  In-place Re-initialization of weights\n",
        "\n",
        "  Args:\n",
        "    model: torch.nn.Module\n",
        "      PyTorch neural net model\n",
        "    gamma: float\n",
        "      Initialization scale\n",
        "\n",
        "  Returns:\n",
        "    Nothing\n",
        "  \"\"\"\n",
        "  for weight in model.parameters():\n",
        "    n_out, n_in = weight.shape\n",
        "    #################################################\n",
        "    ## Define the standard deviation (sigma) for the normal distribution\n",
        "    # as given in the equation above\n",
        "    # Complete the function and remove or comment the line below\n",
        "    #raise NotImplementedError(\"Function `ex_initializer_`\")\n",
        "    #################################################\n",
        "    sigma = gamma / math.sqrt(n_in + n_out)\n",
        "    nn.init.normal_(weight, mean=0.0, std=sigma)\n",
        "\n",
        "\n",
        "\n",
        "## uncomment and run\n",
        "test_initializer_ex(SEED)"
      ]
    },
    {
      "cell_type": "markdown",
      "metadata": {
        "execution": {},
        "id": "Yaao4OLVBBrh"
      },
      "source": [
        "[*Click for solution*](https://github.com/NeuromatchAcademy/course-content-dl/tree/main/tutorials/W1D2_LinearDeepLearning/solutions/W1D2_Tutorial3_Solution_8291e408.py)\n",
        "\n"
      ]
    },
    {
      "cell_type": "code",
      "execution_count": null,
      "metadata": {
        "cellView": "form",
        "execution": {},
        "id": "VvOr0rSxBBrh"
      },
      "outputs": [],
      "source": [
        "# @title Submit your feedback\n",
        "content_review(f\"{feedback_prefix}_Reinitialization_Exercise\")"
      ]
    },
    {
      "cell_type": "markdown",
      "metadata": {
        "execution": {},
        "id": "OJvCYlfxBBri"
      },
      "source": [
        "---\n",
        "# Section 1: Deep Linear Neural Nets\n",
        "\n",
        "*Time estimate: ~20 mins*"
      ]
    },
    {
      "cell_type": "code",
      "execution_count": 13,
      "metadata": {
        "execution": {},
        "colab": {
          "base_uri": "https://localhost:8080/",
          "height": 581,
          "referenced_widgets": [
            "e44c18b51c1b45f6ac8726a1f8a36a47",
            "b5633b9e228a4e1d8cb9a346d001b8cb",
            "0956159e9a4b45be9692be3373c8f881",
            "a21a8cb6c5f243a69aed6183e6a9edd4",
            "bf993475c6314a57bc61c5a7b4f3a617",
            "8f8296f9edcc42cea4f35436e9f88e16"
          ]
        },
        "id": "N3uDzfc9BBri",
        "outputId": "da8b4f70-aae9-4787-efb2-cecfbb6664c7"
      },
      "outputs": [
        {
          "output_type": "display_data",
          "data": {
            "text/plain": [
              "Tab(children=(Output(), Output()), _titles={'0': 'Youtube', '1': 'Bilibili'})"
            ],
            "application/vnd.jupyter.widget-view+json": {
              "version_major": 2,
              "version_minor": 0,
              "model_id": "e44c18b51c1b45f6ac8726a1f8a36a47"
            }
          },
          "metadata": {}
        }
      ],
      "source": [
        "# @title Video 1: Intro to Representation Learning\n",
        "from ipywidgets import widgets\n",
        "from IPython.display import YouTubeVideo\n",
        "from IPython.display import IFrame\n",
        "from IPython.display import display\n",
        "\n",
        "\n",
        "class PlayVideo(IFrame):\n",
        "  def __init__(self, id, source, page=1, width=400, height=300, **kwargs):\n",
        "    self.id = id\n",
        "    if source == 'Bilibili':\n",
        "      src = f'https://player.bilibili.com/player.html?bvid={id}&page={page}'\n",
        "    elif source == 'Osf':\n",
        "      src = f'https://mfr.ca-1.osf.io/render?url=https://osf.io/download/{id}/?direct%26mode=render'\n",
        "    super(PlayVideo, self).__init__(src, width, height, **kwargs)\n",
        "\n",
        "\n",
        "def display_videos(video_ids, W=400, H=300, fs=1):\n",
        "  tab_contents = []\n",
        "  for i, video_id in enumerate(video_ids):\n",
        "    out = widgets.Output()\n",
        "    with out:\n",
        "      if video_ids[i][0] == 'Youtube':\n",
        "        video = YouTubeVideo(id=video_ids[i][1], width=W,\n",
        "                             height=H, fs=fs, rel=0)\n",
        "        print(f'Video available at https://youtube.com/watch?v={video.id}')\n",
        "      else:\n",
        "        video = PlayVideo(id=video_ids[i][1], source=video_ids[i][0], width=W,\n",
        "                          height=H, fs=fs, autoplay=False)\n",
        "        if video_ids[i][0] == 'Bilibili':\n",
        "          print(f'Video available at https://www.bilibili.com/video/{video.id}')\n",
        "        elif video_ids[i][0] == 'Osf':\n",
        "          print(f'Video available at https://osf.io/{video.id}')\n",
        "      display(video)\n",
        "    tab_contents.append(out)\n",
        "  return tab_contents\n",
        "\n",
        "\n",
        "video_ids = [('Youtube', 'DqMSU4Bikt0'), ('Bilibili', 'BV1iM4y1T7eJ')]\n",
        "tab_contents = display_videos(video_ids, W=854, H=480)\n",
        "tabs = widgets.Tab()\n",
        "tabs.children = tab_contents\n",
        "for i in range(len(tab_contents)):\n",
        "  tabs.set_title(i, video_ids[i][0])\n",
        "display(tabs)"
      ]
    },
    {
      "cell_type": "code",
      "execution_count": null,
      "metadata": {
        "cellView": "form",
        "execution": {},
        "id": "cEajKfa4BBrj"
      },
      "outputs": [],
      "source": [
        "# @title Submit your feedback\n",
        "content_review(f\"{feedback_prefix}_Intro_to_Representation_Learning_Video\")"
      ]
    },
    {
      "cell_type": "markdown",
      "metadata": {
        "execution": {},
        "id": "3_oWdeNrBBrj"
      },
      "source": [
        "So far, depth just seems to slow down the learning. And we know that a single nonlinear hidden layer (given enough number of neurons and infinite training samples) has the potential to approximate any function. So it seems fair to ask: **What is depth good for**?\n",
        "\n",
        "One reason can be that shallow nonlinear neural networks hardly meet their true potential in practice. In the contrast, deep neural nets are often surprisingly powerful in learning complex functions without sacrificing generalization. A core intuition behind deep learning is that deep nets derive their power through learning internal representations. How does this work? To address representation learning, we have to go beyond the 1D chain.\n",
        "\n",
        "For this and the next couple of exercises, we use syntactically generated hierarchically structured data through a *branching diffusion process* (see [this reference](https://www.pnas.org/content/pnas/suppl/2019/05/16/1820226116.DCSupplemental/pnas.1820226116.sapp.pdf) for more details).\n",
        "\n",
        "<center><img src=\"https://raw.githubusercontent.com/NeuromatchAcademy/course-content-dl/main/tutorials/W1D2_LinearDeepLearning/static/tree.png\" alt=\"Simple nn graph\" width=\"600\"/></center>\n",
        "\n",
        "<center> hierarchically structured data (a tree) </center>\n",
        "\n",
        "The inputs to the network are labels (i.e. names), while the outputs are the features (i.e. attributes). For example, for the label \"Goldfish\", the network has to learn all the (artificially created) features, such as \"*can swim*\", \"*is cold-blooded*\", \"*has fins*\", and more. Given that we are training on hierarchically structured data, network could also learn the tree structure, that Goldfish and Tuna have rather similar features, and Robin has more in common with Tuna, compared to Rose."
      ]
    },
    {
      "cell_type": "code",
      "execution_count": 14,
      "metadata": {
        "execution": {},
        "colab": {
          "base_uri": "https://localhost:8080/",
          "height": 683
        },
        "id": "Rkf0VTmmBBrk",
        "outputId": "b25c1dbb-06cf-4bc7-da38-899ad1457a4d"
      },
      "outputs": [
        {
          "output_type": "display_data",
          "data": {
            "text/plain": [
              "<Figure size 1200x700 with 3 Axes>"
            ],
            "image/png": "[encoded data removed]"
          },
          "metadata": {
            "image/png": {
              "width": 1174,
              "height": 597
            }
          }
        },
        {
          "output_type": "stream",
          "name": "stdout",
          "text": [
            "---------------------------------------------------------------\n",
            "Input Dimension: 8\n",
            "Output Dimension: 10000\n",
            "Number of samples: 8\n"
          ]
        }
      ],
      "source": [
        "# @markdown #### Run to generate and visualize training samples from tree\n",
        "\n",
        "tree_labels, tree_features = generate_hsd()\n",
        "\n",
        "# Convert (cast) data from np.ndarray to torch.Tensor\n",
        "label_tensor = torch.tensor(tree_labels).float()\n",
        "feature_tensor = torch.tensor(tree_features).float()\n",
        "\n",
        "item_names = ['Goldfish', 'Tuna', 'Robin', 'Canary',\n",
        "              'Rose', 'Daisy', 'Pine', 'Oak']\n",
        "plot_tree_data()\n",
        "\n",
        "# Dimensions\n",
        "print(\"---------------------------------------------------------------\")\n",
        "print(\"Input Dimension: {}\".format(tree_labels.shape[1]))\n",
        "print(\"Output Dimension: {}\".format(tree_features.shape[1]))\n",
        "print(\"Number of samples: {}\".format(tree_features.shape[0]))"
      ]
    },
    {
      "cell_type": "markdown",
      "metadata": {
        "execution": {},
        "id": "6BUGNWCABBrk"
      },
      "source": [
        "To continue this tutorial, it is vital to understand the premise of our training data and what the task is. Therefore, please take your time to discuss them with your pod.\n",
        "\n",
        "<center><img src=\"https://raw.githubusercontent.com/NeuromatchAcademy/course-content-dl/main/tutorials/W1D2_LinearDeepLearning/static/neural_net.png\" alt=\"neural net\" width=\"600\"/></center>\n",
        "\n",
        "<center> The neural network used for this tutorial </center>"
      ]
    },
    {
      "cell_type": "markdown",
      "metadata": {
        "execution": {},
        "id": "C1PqjcDSBBrk"
      },
      "source": [
        "## Interactive Demo 1: Training the deep LNN\n",
        "\n",
        "Training a neural net on our data is straight forward. But before executing the next cell, remember the training loss curve from previous tutorial."
      ]
    },
    {
      "cell_type": "code",
      "execution_count": 15,
      "metadata": {
        "execution": {},
        "colab": {
          "base_uri": "https://localhost:8080/",
          "height": 492
        },
        "id": "fjrpL7ZjBBrl",
        "outputId": "459fca59-ec24-4a1d-f4e3-f51cfbccb669"
      },
      "outputs": [
        {
          "output_type": "display_data",
          "data": {
            "text/plain": [
              "<Figure size 1000x500 with 1 Axes>"
            ],
            "image/png": "[encoded data removed]"
          },
          "metadata": {
            "image/png": {
              "width": 975,
              "height": 475
            }
          }
        }
      ],
      "source": [
        "# @markdown #### Make sure you execute this cell to train the network and plot\n",
        "\n",
        "lr = 100.0  # Learning rate\n",
        "gamma = 1e-12  # Initialization scale\n",
        "n_epochs = 250  # Number of epochs\n",
        "dim_input = 8  # Input dimension = `label_tensor.size(1)`\n",
        "dim_hidden = 30  # Hidden neurons\n",
        "dim_output = 10000  # Output dimension = `feature_tensor.size(1)`\n",
        "\n",
        "# Model instantiation\n",
        "dlnn_model = LNNet(dim_input, dim_hidden, dim_output)\n",
        "\n",
        "# Weights re-initialization\n",
        "initializer_(dlnn_model, gamma)\n",
        "\n",
        "# Training\n",
        "losses, *_ = train(dlnn_model,\n",
        "                  label_tensor,\n",
        "                  feature_tensor,\n",
        "                  n_epochs=n_epochs,\n",
        "                  lr=lr)\n",
        "\n",
        "# Plotting\n",
        "plot_loss(losses)"
      ]
    },
    {
      "cell_type": "markdown",
      "metadata": {
        "execution": {},
        "id": "pzDmyKeABBrl"
      },
      "source": [
        "**Think!**\n",
        "\n",
        "Why haven't we seen these \"bumps\" in training before? And should we look for them in the future? What do these bumps mean?\n",
        "\n",
        "Recall from previous tutorial, that we are always interested in learning rate ($\\eta$) and initialization ($\\gamma$) that would give us the fastest but yet stable (reliable) convergence. Try finding the optimal $\\eta$ and $\\gamma$ using the following widgets. More specifically, try large $\\gamma$ and see if we can recover the bumps by tuning the $\\eta$."
      ]
    },
    {
      "cell_type": "code",
      "execution_count": 16,
      "metadata": {
        "execution": {},
        "colab": {
          "base_uri": "https://localhost:8080/",
          "height": 556,
          "referenced_widgets": [
            "4570dd2d83314d8b8d33bc6bdeb33125",
            "a38e5a4ae2b04934895bbf4d63d9b80b",
            "2a4039ec21734ac685c8a4556eaa1f58",
            "1f173cd766484a87a2c60868cf752e4b",
            "70e52f20a2954ea88cc3486f30fcd00a",
            "2e34091ff82d48fc968e691490162bbd",
            "1e63737bc17644b3a884abff3936c7e5",
            "6a9fbb4ad96b4710954764b6232e318a",
            "7e262e37189f403894be279701bf9145",
            "3fca44b276f44d1db642975e1d42440e"
          ]
        },
        "id": "ihy9-scKBBrm",
        "outputId": "14df9e2c-c302-46f9-9058-bbf8134e71de"
      },
      "outputs": [
        {
          "output_type": "display_data",
          "data": {
            "text/plain": [
              "interactive(children=(FloatSlider(value=100.0, continuous_update=False, description='eta', max=200.0, min=1.0,…"
            ],
            "application/vnd.jupyter.widget-view+json": {
              "version_major": 2,
              "version_minor": 0,
              "model_id": "4570dd2d83314d8b8d33bc6bdeb33125"
            }
          },
          "metadata": {}
        }
      ],
      "source": [
        "# @markdown #### Make sure you execute this cell to enable the widget!\n",
        "\n",
        "def loss_lr_init(lr, gamma):\n",
        "  \"\"\"\n",
        "  Trains and plots the loss evolution\n",
        "\n",
        "  Args:\n",
        "    lr: float\n",
        "      Learning rate\n",
        "    gamma: float\n",
        "      Initialization scale\n",
        "\n",
        "  Returns:\n",
        "    Nothing\n",
        "  \"\"\"\n",
        "  n_epochs = 250  # Number of epochs\n",
        "  dim_input = 8  # Input dimension = `label_tensor.size(1)`\n",
        "  dim_hidden = 30  # Hidden neurons\n",
        "  dim_output = 10000  # Output dimension = `feature_tensor.size(1)`\n",
        "\n",
        "  # Model instantiation\n",
        "  dlnn_model = LNNet(dim_input, dim_hidden, dim_output)\n",
        "\n",
        "  # Weights re-initialization\n",
        "  initializer_(dlnn_model, gamma)\n",
        "\n",
        "  losses, *_ = train(dlnn_model,\n",
        "                    label_tensor,\n",
        "                    feature_tensor,\n",
        "                    n_epochs=n_epochs,\n",
        "                    lr=lr)\n",
        "\n",
        "  plot_loss(losses)\n",
        "\n",
        "_ = interact(loss_lr_init,\n",
        "             lr = FloatSlider(min=1.0, max=200.0,\n",
        "                              step=1.0, value=100.0,\n",
        "                              continuous_update=False,\n",
        "                              readout_format='.1f',\n",
        "                              description='eta'),\n",
        "             epochs = fixed(250),\n",
        "             gamma = FloatLogSlider(min=-15, max=1,\n",
        "                                    step=1, value=1e-12, base=10,\n",
        "                                    continuous_update=False,\n",
        "                                    description='gamma')\n",
        "             )"
      ]
    },
    {
      "cell_type": "code",
      "execution_count": null,
      "metadata": {
        "cellView": "form",
        "execution": {},
        "id": "hAlHIkGEBBrm"
      },
      "outputs": [],
      "source": [
        "# @title Submit your feedback\n",
        "content_review(f\"{feedback_prefix}_Training_the_deep_LNN_Interactive_Demo\")"
      ]
    },
    {
      "cell_type": "markdown",
      "metadata": {
        "execution": {},
        "id": "1xXFkXNoBBrn"
      },
      "source": [
        "---\n",
        "# Section 2: Singular Value Decomposition (SVD)\n",
        "\n",
        "*Time estimate: ~20 mins*"
      ]
    },
    {
      "cell_type": "code",
      "execution_count": 17,
      "metadata": {
        "execution": {},
        "colab": {
          "base_uri": "https://localhost:8080/",
          "height": 581,
          "referenced_widgets": [
            "d813b053e50d4b65a9886f65677d2022",
            "7e06a703e7f1465a809486d517b10565",
            "bf6588d5eb784b9ea1b1154b7f4bdd15",
            "602e6c89f87846c6af1a786c2a995474",
            "951124d7b6d34cf783902c92010f32ef",
            "daedc6433ee24d90942c53634f07ce53"
          ]
        },
        "id": "SnOg6q82BBrn",
        "outputId": "62c811d9-1562-4ac1-cb78-9f24b9b08529"
      },
      "outputs": [
        {
          "output_type": "display_data",
          "data": {
            "text/plain": [
              "Tab(children=(Output(), Output()), _titles={'0': 'Youtube', '1': 'Bilibili'})"
            ],
            "application/vnd.jupyter.widget-view+json": {
              "version_major": 2,
              "version_minor": 0,
              "model_id": "d813b053e50d4b65a9886f65677d2022"
            }
          },
          "metadata": {}
        }
      ],
      "source": [
        "# @title Video 2: SVD\n",
        "from ipywidgets import widgets\n",
        "from IPython.display import YouTubeVideo\n",
        "from IPython.display import IFrame\n",
        "from IPython.display import display\n",
        "\n",
        "\n",
        "class PlayVideo(IFrame):\n",
        "  def __init__(self, id, source, page=1, width=400, height=300, **kwargs):\n",
        "    self.id = id\n",
        "    if source == 'Bilibili':\n",
        "      src = f'https://player.bilibili.com/player.html?bvid={id}&page={page}'\n",
        "    elif source == 'Osf':\n",
        "      src = f'https://mfr.ca-1.osf.io/render?url=https://osf.io/download/{id}/?direct%26mode=render'\n",
        "    super(PlayVideo, self).__init__(src, width, height, **kwargs)\n",
        "\n",
        "\n",
        "def display_videos(video_ids, W=400, H=300, fs=1):\n",
        "  tab_contents = []\n",
        "  for i, video_id in enumerate(video_ids):\n",
        "    out = widgets.Output()\n",
        "    with out:\n",
        "      if video_ids[i][0] == 'Youtube':\n",
        "        video = YouTubeVideo(id=video_ids[i][1], width=W,\n",
        "                             height=H, fs=fs, rel=0)\n",
        "        print(f'Video available at https://youtube.com/watch?v={video.id}')\n",
        "      else:\n",
        "        video = PlayVideo(id=video_ids[i][1], source=video_ids[i][0], width=W,\n",
        "                          height=H, fs=fs, autoplay=False)\n",
        "        if video_ids[i][0] == 'Bilibili':\n",
        "          print(f'Video available at https://www.bilibili.com/video/{video.id}')\n",
        "        elif video_ids[i][0] == 'Osf':\n",
        "          print(f'Video available at https://osf.io/{video.id}')\n",
        "      display(video)\n",
        "    tab_contents.append(out)\n",
        "  return tab_contents\n",
        "\n",
        "\n",
        "video_ids = [('Youtube', '18oNWRziskM'), ('Bilibili', 'BV1bw411R7DJ')]\n",
        "tab_contents = display_videos(video_ids, W=854, H=480)\n",
        "tabs = widgets.Tab()\n",
        "tabs.children = tab_contents\n",
        "for i in range(len(tab_contents)):\n",
        "  tabs.set_title(i, video_ids[i][0])\n",
        "display(tabs)"
      ]
    },
    {
      "cell_type": "code",
      "execution_count": null,
      "metadata": {
        "cellView": "form",
        "execution": {},
        "id": "1Yow4VRgBBro"
      },
      "outputs": [],
      "source": [
        "# @title Submit your feedback\n",
        "content_review(f\"{feedback_prefix}_SVD_Video\")"
      ]
    },
    {
      "cell_type": "markdown",
      "metadata": {
        "execution": {},
        "id": "9Lepbj4ZBBro"
      },
      "source": [
        "In this section, we intend to study the learning (training) dynamics we just saw. First, we should know that a linear neural network is performing sequential matrix multiplications, which can be simplified to:\n",
        "\n",
        "\\begin{align}\n",
        "\\mathbf{y} &= \\mathbf{W}_{L}~\\mathbf{W}_{L-1}~\\dots~\\mathbf{W}_{1} ~ \\mathbf{x} \\\\\n",
        " &= \\left(\\prod_{i=1}^{L}{\\mathbf{W}_{i}}\\right) ~ \\mathbf{x} \\\\\n",
        " &= \\mathbf{W}_{tot} ~ \\mathbf{x}\n",
        "\\end{align}\n",
        "\n",
        "where $L$ denotes the number of layers in our network.\n",
        "\n",
        "[Saxe et al. (2013)](https://arxiv.org/abs/1312.6120) showed that to analyze and to understanding the nonlinear learning dynamics of a deep LNN, we can use [Singular Value Decomposition (SVD)](https://en.wikipedia.org/wiki/Singular_value_decomposition) to decompose the $\\mathbf{W}_{tot}$ into orthogonal vectors, where orthogonality of the vectors would ensure their \"individuality (independence)\". This means we can break a deep wide LNN into multiple deep narrow LNN, so their activity is untangled from each other.\n",
        "\n",
        "<br/>\n",
        "\n",
        "__A Quick intro to SVD__\n",
        "\n",
        "Any real-valued matix $A$ (yes, ANY) can be decomposed (factorized) to 3 matrices:\n",
        "\n",
        "\\begin{equation}\n",
        "\\mathbf{A} = \\mathbf{U} \\mathbf{Σ} \\mathbf{V}^{\\top}\n",
        "\\end{equation}\n",
        "\n",
        "where $U$ is an orthogonal matrix, $\\Sigma$ is a diagonal matrix, and $V$ is again an orthogonal matrix. The diagonal elements of $\\Sigma$ are called **singular values**.\n",
        "\n",
        "The main difference between SVD and EigenValue Decomposition (EVD), is that EVD requires $A$ to be squared and does not guarantee the eigenvectors to be orthogonal.\n",
        "\n",
        "We strongly recommend the [Singular Value Decomposition (the SVD)](https://www.youtube.com/watch?v=mBcLRGuAFUk) by the amazing [Gilbert Strang](http://www-math.mit.edu/~gs/), if you would like to learn more."
      ]
    },
    {
      "cell_type": "markdown",
      "metadata": {
        "execution": {},
        "id": "nXLXgDEJBBrp"
      },
      "source": [
        "## Coding Exercise 2: SVD (Optional)\n",
        "\n",
        "The goal is to perform the SVD on $\\mathbf{W}_{tot}$ in every epoch, and record the singular values (modes) during the training.\n",
        "\n",
        "Complete the function `ex_net_svd`, by first calculating the $\\mathbf{W}_{tot} = \\prod_{i=1}^{L}{\\mathbf{W}_{i}}$ and finally performing SVD on the $\\mathbf{W}_{tot}$. Please use the PyTorch [`torch.svd`](https://pytorch.org/docs/stable/generated/torch.svd.html) instead of NumPy [`np.linalg.svd`](https://numpy.org/doc/stable/reference/generated/numpy.linalg.svd.html)."
      ]
    },
    {
      "cell_type": "code",
      "execution_count": 18,
      "metadata": {
        "execution": {},
        "colab": {
          "base_uri": "https://localhost:8080/"
        },
        "id": "Lpvw5XvjBBr7",
        "outputId": "a244aa3e-4e9e-4332-d0e8-865197dd6230"
      },
      "outputs": [
        {
          "output_type": "stream",
          "name": "stdout",
          "text": [
            "Well done! Seems to be correct!\n"
          ]
        }
      ],
      "source": [
        "def ex_net_svd(model, in_dim):\n",
        "  \"\"\"\n",
        "  Performs a Singular Value Decomposition on a given model weights\n",
        "\n",
        "  Args:\n",
        "    model: torch.nn.Module\n",
        "      Neural network model\n",
        "    in_dim: int\n",
        "      The input dimension of the model\n",
        "\n",
        "  Returns:\n",
        "    U: torch.tensor\n",
        "      Orthogonal matrix\n",
        "    Σ: torch.tensor\n",
        "      Diagonal matrix\n",
        "    V: torch.tensor\n",
        "      Orthogonal matrix\n",
        "  \"\"\"\n",
        "  W_tot = torch.eye(in_dim)\n",
        "  for weight in model.parameters():\n",
        "    #################################################\n",
        "    ## Calculate the W_tot by multiplication of all weights\n",
        "    # and then perform SVD on the W_tot using pytorch's `torch.svd`\n",
        "    # Complete the function and remove or comment the line below\n",
        "    #raise NotImplementedError(\"Function `ex_net_svd`\")\n",
        "    #################################################\n",
        "    W_tot = weight @ W_tot\n",
        "  U, Σ, V =  torch.svd(W_tot)\n",
        "  return U, Σ, V\n",
        "\n",
        "\n",
        "## Uncomment and run\n",
        "test_net_svd_ex(SEED)"
      ]
    },
    {
      "cell_type": "markdown",
      "metadata": {
        "execution": {},
        "id": "k5nWOk3RBBr8"
      },
      "source": [
        "[*Click for solution*](https://github.com/NeuromatchAcademy/course-content-dl/tree/main/tutorials/W1D2_LinearDeepLearning/solutions/W1D2_Tutorial3_Solution_e65fa809.py)\n",
        "\n"
      ]
    },
    {
      "cell_type": "code",
      "execution_count": null,
      "metadata": {
        "cellView": "form",
        "execution": {},
        "id": "5_paFmTmBBr8"
      },
      "outputs": [],
      "source": [
        "# @title Submit your feedback\n",
        "content_review(f\"{feedback_prefix}_SVD_Exercise\")"
      ]
    },
    {
      "cell_type": "code",
      "execution_count": null,
      "metadata": {
        "cellView": "form",
        "execution": {},
        "id": "azEyjBtaBBr9"
      },
      "outputs": [],
      "source": [
        "# @markdown #### Make sure you execute this cell to train the network and plot\n",
        "\n",
        "lr = 100.0  # Learning rate\n",
        "gamma = 1e-12  # Initialization scale\n",
        "n_epochs = 250  # Number of epochs\n",
        "dim_input = 8  # Input dimension = `label_tensor.size(1)`\n",
        "dim_hidden = 30  # Hidden neurons\n",
        "dim_output = 10000  # Output dimension = `feature_tensor.size(1)`\n",
        "\n",
        "# Model instantiation\n",
        "dlnn_model = LNNet(dim_input, dim_hidden, dim_output)\n",
        "\n",
        "# Weights re-initialization\n",
        "initializer_(dlnn_model, gamma)\n",
        "\n",
        "# Training\n",
        "losses, modes, *_ = train(dlnn_model,\n",
        "                          label_tensor,\n",
        "                          feature_tensor,\n",
        "                          n_epochs=n_epochs,\n",
        "                          lr=lr)\n",
        "\n",
        "plot_loss_sv_twin(losses, modes)"
      ]
    },
    {
      "cell_type": "markdown",
      "metadata": {
        "execution": {},
        "id": "__BB_V1PBBr-"
      },
      "source": [
        "**Think!**\n",
        "\n",
        "In EigenValue decomposition, the amount of variance explained by eigenvectors is proportional to the corresponding eigenvalues. What about the SVD? We see that the gradient descent guides the network to first learn the features that carry more information (have higher singular value)!"
      ]
    },
    {
      "cell_type": "code",
      "execution_count": null,
      "metadata": {
        "cellView": "form",
        "execution": {},
        "id": "UW3Nx0ZbBBsA"
      },
      "outputs": [],
      "source": [
        "# @title Submit your feedback\n",
        "content_review(f\"{feedback_prefix}_SVD_Discussion\")"
      ]
    },
    {
      "cell_type": "code",
      "execution_count": 19,
      "metadata": {
        "execution": {},
        "colab": {
          "base_uri": "https://localhost:8080/",
          "height": 581,
          "referenced_widgets": [
            "903dd885e9f1433c9958a9f5d6babb51",
            "3ae668643fc04c3c9691921a01c4ee5e",
            "c75dd10c90b64d199b4fb556783ba6c2",
            "080c1b1af8664d7aaec1155347c22193",
            "e3940cfb16384d719ed0d6225f075097",
            "9747a7d1ea0f4d9ba092faeb1b4b4f9f"
          ]
        },
        "id": "1NHlwe9CBBsA",
        "outputId": "f92e97f8-0171-4ead-8995-89097caa74bf"
      },
      "outputs": [
        {
          "output_type": "display_data",
          "data": {
            "text/plain": [
              "Tab(children=(Output(), Output()), _titles={'0': 'Youtube', '1': 'Bilibili'})"
            ],
            "application/vnd.jupyter.widget-view+json": {
              "version_major": 2,
              "version_minor": 0,
              "model_id": "903dd885e9f1433c9958a9f5d6babb51"
            }
          },
          "metadata": {}
        }
      ],
      "source": [
        "# @title Video 3: SVD - Discussion\n",
        "from ipywidgets import widgets\n",
        "from IPython.display import YouTubeVideo\n",
        "from IPython.display import IFrame\n",
        "from IPython.display import display\n",
        "\n",
        "\n",
        "class PlayVideo(IFrame):\n",
        "  def __init__(self, id, source, page=1, width=400, height=300, **kwargs):\n",
        "    self.id = id\n",
        "    if source == 'Bilibili':\n",
        "      src = f'https://player.bilibili.com/player.html?bvid={id}&page={page}'\n",
        "    elif source == 'Osf':\n",
        "      src = f'https://mfr.ca-1.osf.io/render?url=https://osf.io/download/{id}/?direct%26mode=render'\n",
        "    super(PlayVideo, self).__init__(src, width, height, **kwargs)\n",
        "\n",
        "\n",
        "def display_videos(video_ids, W=400, H=300, fs=1):\n",
        "  tab_contents = []\n",
        "  for i, video_id in enumerate(video_ids):\n",
        "    out = widgets.Output()\n",
        "    with out:\n",
        "      if video_ids[i][0] == 'Youtube':\n",
        "        video = YouTubeVideo(id=video_ids[i][1], width=W,\n",
        "                             height=H, fs=fs, rel=0)\n",
        "        print(f'Video available at https://youtube.com/watch?v={video.id}')\n",
        "      else:\n",
        "        video = PlayVideo(id=video_ids[i][1], source=video_ids[i][0], width=W,\n",
        "                          height=H, fs=fs, autoplay=False)\n",
        "        if video_ids[i][0] == 'Bilibili':\n",
        "          print(f'Video available at https://www.bilibili.com/video/{video.id}')\n",
        "        elif video_ids[i][0] == 'Osf':\n",
        "          print(f'Video available at https://osf.io/{video.id}')\n",
        "      display(video)\n",
        "    tab_contents.append(out)\n",
        "  return tab_contents\n",
        "\n",
        "\n",
        "video_ids = [('Youtube', 'JEbRPPG2kUI'), ('Bilibili', 'BV1t54y1J7Tb')]\n",
        "tab_contents = display_videos(video_ids, W=854, H=480)\n",
        "tabs = widgets.Tab()\n",
        "tabs.children = tab_contents\n",
        "for i in range(len(tab_contents)):\n",
        "  tabs.set_title(i, video_ids[i][0])\n",
        "display(tabs)"
      ]
    },
    {
      "cell_type": "code",
      "execution_count": null,
      "metadata": {
        "cellView": "form",
        "execution": {},
        "id": "7QQah7BuBBsB"
      },
      "outputs": [],
      "source": [
        "# @title Submit your feedback\n",
        "content_review(f\"{feedback_prefix}_SVD_Discussion_Video\")"
      ]
    },
    {
      "cell_type": "markdown",
      "metadata": {
        "execution": {},
        "id": "EQLyYxCnBBsB"
      },
      "source": [
        "---\n",
        "# Section 3: Representational Similarity Analysis (RSA)\n",
        "\n",
        "*Time estimate: ~20 mins*"
      ]
    },
    {
      "cell_type": "code",
      "execution_count": null,
      "metadata": {
        "cellView": "form",
        "execution": {},
        "id": "V6XRs5gSBBsC"
      },
      "outputs": [],
      "source": [
        "# @title Video 4: RSA\n",
        "from ipywidgets import widgets\n",
        "from IPython.display import YouTubeVideo\n",
        "from IPython.display import IFrame\n",
        "from IPython.display import display\n",
        "\n",
        "\n",
        "class PlayVideo(IFrame):\n",
        "  def __init__(self, id, source, page=1, width=400, height=300, **kwargs):\n",
        "    self.id = id\n",
        "    if source == 'Bilibili':\n",
        "      src = f'https://player.bilibili.com/player.html?bvid={id}&page={page}'\n",
        "    elif source == 'Osf':\n",
        "      src = f'https://mfr.ca-1.osf.io/render?url=https://osf.io/download/{id}/?direct%26mode=render'\n",
        "    super(PlayVideo, self).__init__(src, width, height, **kwargs)\n",
        "\n",
        "\n",
        "def display_videos(video_ids, W=400, H=300, fs=1):\n",
        "  tab_contents = []\n",
        "  for i, video_id in enumerate(video_ids):\n",
        "    out = widgets.Output()\n",
        "    with out:\n",
        "      if video_ids[i][0] == 'Youtube':\n",
        "        video = YouTubeVideo(id=video_ids[i][1], width=W,\n",
        "                             height=H, fs=fs, rel=0)\n",
        "        print(f'Video available at https://youtube.com/watch?v={video.id}')\n",
        "      else:\n",
        "        video = PlayVideo(id=video_ids[i][1], source=video_ids[i][0], width=W,\n",
        "                          height=H, fs=fs, autoplay=False)\n",
        "        if video_ids[i][0] == 'Bilibili':\n",
        "          print(f'Video available at https://www.bilibili.com/video/{video.id}')\n",
        "        elif video_ids[i][0] == 'Osf':\n",
        "          print(f'Video available at https://osf.io/{video.id}')\n",
        "      display(video)\n",
        "    tab_contents.append(out)\n",
        "  return tab_contents\n",
        "\n",
        "\n",
        "video_ids = [('Youtube', 'YOs1yffysX8'), ('Bilibili', 'BV19f4y157zD')]\n",
        "tab_contents = display_videos(video_ids, W=854, H=480)\n",
        "tabs = widgets.Tab()\n",
        "tabs.children = tab_contents\n",
        "for i in range(len(tab_contents)):\n",
        "  tabs.set_title(i, video_ids[i][0])\n",
        "display(tabs)"
      ]
    },
    {
      "cell_type": "code",
      "execution_count": null,
      "metadata": {
        "cellView": "form",
        "execution": {},
        "id": "mkdSlmtuBBsC"
      },
      "outputs": [],
      "source": [
        "# @title Submit your feedback\n",
        "content_review(f\"{feedback_prefix}_RSA_Video\")"
      ]
    },
    {
      "cell_type": "markdown",
      "metadata": {
        "execution": {},
        "id": "Z5webgh0BBsD"
      },
      "source": [
        "The previous section ended with an interesting remark. SVD helped to break our deep \"wide\" linear neural net into 8 deep \"narrow\" linear neural nets.\n",
        "\n",
        "The first narrow net (highest singular value) converges fastest, while the last four narrow nets, converge almost simultaneously and have the smallest singular values. Can it be that the narrow net with larger mode is learning the difference between \"living things\" and \"objects\", while another narrow net with smaller mode is learning the difference between Fish and Birds? how could we check this hypothesis?\n",
        "\n",
        "Representational Similarity Analysis (RSA) is an approach that could help us understand the internal representation of our network. The main idea is that the activity of hidden units (neurons) in the network must be similar when the network is presented with similar input. For our dataset (hierarchically structured data), we expect the activity of neurons in the hidden layer to be more similar for Tuna and Canary, and less similar for Tuna and Oak.\n",
        "\n",
        "For similarity measure, we can use the good old dot (scalar) product, which is also called cosine similarity. For calculating the dot product between multiple vectors (which would be our case), we can simply use matrix multiplication. Therefore the Representational Similarity Matrix for multiple-input (batch) activity could be calculated as follow:\n",
        "\n",
        "\\begin{equation}\n",
        "RSM = \\mathbf{H} \\mathbf{H}^{\\top}\n",
        "\\end{equation}\n",
        "\n",
        "where $\\mathbf{H} = \\mathbf{X} \\mathbf{W_1}$ is the activity of hidden neurons for a given batch $\\mathbf{X}$."
      ]
    },
    {
      "cell_type": "markdown",
      "metadata": {
        "execution": {},
        "id": "0y8ny7QdBBsD"
      },
      "source": [
        "## Coding Exercise 3: RSA (Optional)\n",
        "\n",
        "The task is simple. We would need to measure the similarity between hidden layer activities $~\\mathbf{h} =  \\mathbf{x} ~\\mathbf{W_1}$) for every input $\\mathbf{x}$.\n",
        "\n",
        "If we perform RSA in every iteration, we could also see the evolution of representation learning."
      ]
    },
    {
      "cell_type": "code",
      "execution_count": null,
      "metadata": {
        "execution": {},
        "id": "6Dr6OHeiBBsE"
      },
      "outputs": [],
      "source": [
        "def ex_net_rsm(h):\n",
        "  \"\"\"\n",
        "  Calculates the Representational Similarity Matrix\n",
        "\n",
        "  Arg:\n",
        "    h: torch.Tensor\n",
        "      Activity of a hidden layer\n",
        "\n",
        "  Returns:\n",
        "    rsm: torch.Tensor\n",
        "      Representational Similarity Matrix\n",
        "  \"\"\"\n",
        "  #################################################\n",
        "  ## Calculate the Representational Similarity Matrix\n",
        "  # Complete the function and remove or comment the line below\n",
        "  raise NotImplementedError(\"Function `ex_net_rsm`\")\n",
        "  #################################################\n",
        "  rsm = ...\n",
        "  return rsm\n",
        "\n",
        "\n",
        "## Uncomment and run\n",
        "# test_net_rsm_ex(SEED)"
      ]
    },
    {
      "cell_type": "markdown",
      "metadata": {
        "execution": {},
        "id": "aoKUG3O_BBsF"
      },
      "source": [
        "[*Click for solution*](https://github.com/NeuromatchAcademy/course-content-dl/tree/main/tutorials/W1D2_LinearDeepLearning/solutions/W1D2_Tutorial3_Solution_322ede5f.py)\n",
        "\n"
      ]
    },
    {
      "cell_type": "markdown",
      "metadata": {
        "execution": {},
        "id": "zmirdbuxBBsF"
      },
      "source": [
        "Now we can train the model while recording the losses, modes, and RSMs at every iteration. First, use the epoch slider to explore the evolution of RSM without changing default lr ($\\eta$) and initialization ($\\gamma$). Then, as we did before, set $\\eta$ and $\\gamma$ to larger values to see whether you can retrieve the sequential structured learning of representations."
      ]
    },
    {
      "cell_type": "code",
      "execution_count": null,
      "metadata": {
        "cellView": "form",
        "execution": {},
        "id": "5gZEcOqOBBsG"
      },
      "outputs": [],
      "source": [
        "#@markdown #### Make sure you execute this cell to enable widgets\n",
        "\n",
        "def loss_svd_rsm_lr_gamma(lr, gamma, i_ep):\n",
        "  \"\"\"\n",
        "  Widget to record loss/mode/RSM at every iteration\n",
        "\n",
        "  Args:\n",
        "    lr: float\n",
        "      Learning rate\n",
        "    gamma: float\n",
        "      Initialization scale\n",
        "    i_ep: int\n",
        "      Which epoch to show\n",
        "\n",
        "  Returns:\n",
        "    Nothing\n",
        "  \"\"\"\n",
        "  n_epochs = 250  # Number of epochs\n",
        "  dim_input = 8  # Input dimension = `label_tensor.size(1)`\n",
        "  dim_hidden = 30  # Hidden neurons\n",
        "  dim_output = 10000  # Output dimension = `feature_tensor.size(1)`\n",
        "\n",
        "  # Model instantiation\n",
        "  dlnn_model = LNNet(dim_input, dim_hidden, dim_output)\n",
        "\n",
        "  # Weights re-initialization\n",
        "  initializer_(dlnn_model, gamma)\n",
        "\n",
        "  # Training\n",
        "  losses, modes, rsms, _ = train(dlnn_model,\n",
        "                                 label_tensor,\n",
        "                                 feature_tensor,\n",
        "                                 n_epochs=n_epochs,\n",
        "                                 lr=lr)\n",
        "  plot_loss_sv_rsm(losses, modes, rsms, i_ep)\n",
        "\n",
        "i_ep_slider = IntSlider(min=10, max=241, step=1, value=61,\n",
        "                        continuous_update=False,\n",
        "                        description='Epoch',\n",
        "                        layout=Layout(width='630px'))\n",
        "\n",
        "lr_slider = FloatSlider(min=20.0, max=200.0, step=1.0, value=100.0,\n",
        "                        continuous_update=False,\n",
        "                        readout_format='.1f',\n",
        "                        description='eta')\n",
        "\n",
        "gamma_slider = FloatLogSlider(min=-15, max=1, step=1,\n",
        "                              value=1e-12, base=10,\n",
        "                              continuous_update=False,\n",
        "                              description='gamma')\n",
        "\n",
        "widgets_ui = VBox([lr_slider, gamma_slider, i_ep_slider])\n",
        "\n",
        "widgets_out = interactive_output(loss_svd_rsm_lr_gamma,\n",
        "                                 {'lr': lr_slider,\n",
        "                                  'gamma': gamma_slider,\n",
        "                                  'i_ep': i_ep_slider})\n",
        "\n",
        "display(widgets_ui, widgets_out)"
      ]
    },
    {
      "cell_type": "markdown",
      "metadata": {
        "execution": {},
        "id": "loz2-tISBBsI"
      },
      "source": [
        "Let's take a moment to analyze this more. A deep neural net is learning the representations, rather than a naive mapping (look-up table). This is thought to be the reason for deep neural nets supreme generalization and transfer learning ability. Unsurprisingly, neural nets with no hidden layer are incapable of representation learning, even with extremely small initialization."
      ]
    },
    {
      "cell_type": "code",
      "execution_count": null,
      "metadata": {
        "cellView": "form",
        "execution": {},
        "id": "A45RxaAZBBsI"
      },
      "outputs": [],
      "source": [
        "# @title Submit your feedback\n",
        "content_review(f\"{feedback_prefix}_RSA_Exercise\")"
      ]
    },
    {
      "cell_type": "code",
      "execution_count": null,
      "metadata": {
        "cellView": "form",
        "execution": {},
        "id": "teou6xfyBBsK"
      },
      "outputs": [],
      "source": [
        "# @title Video 5: RSA - Discussion\n",
        "from ipywidgets import widgets\n",
        "from IPython.display import YouTubeVideo\n",
        "from IPython.display import IFrame\n",
        "from IPython.display import display\n",
        "\n",
        "\n",
        "class PlayVideo(IFrame):\n",
        "  def __init__(self, id, source, page=1, width=400, height=300, **kwargs):\n",
        "    self.id = id\n",
        "    if source == 'Bilibili':\n",
        "      src = f'https://player.bilibili.com/player.html?bvid={id}&page={page}'\n",
        "    elif source == 'Osf':\n",
        "      src = f'https://mfr.ca-1.osf.io/render?url=https://osf.io/download/{id}/?direct%26mode=render'\n",
        "    super(PlayVideo, self).__init__(src, width, height, **kwargs)\n",
        "\n",
        "\n",
        "def display_videos(video_ids, W=400, H=300, fs=1):\n",
        "  tab_contents = []\n",
        "  for i, video_id in enumerate(video_ids):\n",
        "    out = widgets.Output()\n",
        "    with out:\n",
        "      if video_ids[i][0] == 'Youtube':\n",
        "        video = YouTubeVideo(id=video_ids[i][1], width=W,\n",
        "                             height=H, fs=fs, rel=0)\n",
        "        print(f'Video available at https://youtube.com/watch?v={video.id}')\n",
        "      else:\n",
        "        video = PlayVideo(id=video_ids[i][1], source=video_ids[i][0], width=W,\n",
        "                          height=H, fs=fs, autoplay=False)\n",
        "        if video_ids[i][0] == 'Bilibili':\n",
        "          print(f'Video available at https://www.bilibili.com/video/{video.id}')\n",
        "        elif video_ids[i][0] == 'Osf':\n",
        "          print(f'Video available at https://osf.io/{video.id}')\n",
        "      display(video)\n",
        "    tab_contents.append(out)\n",
        "  return tab_contents\n",
        "\n",
        "\n",
        "video_ids = [('Youtube', 'vprldATyq1o'), ('Bilibili', 'BV18y4y1j7Xr')]\n",
        "tab_contents = display_videos(video_ids, W=854, H=480)\n",
        "tabs = widgets.Tab()\n",
        "tabs.children = tab_contents\n",
        "for i in range(len(tab_contents)):\n",
        "  tabs.set_title(i, video_ids[i][0])\n",
        "display(tabs)"
      ]
    },
    {
      "cell_type": "code",
      "execution_count": null,
      "metadata": {
        "cellView": "form",
        "execution": {},
        "id": "w1kO2tLjBBsL"
      },
      "outputs": [],
      "source": [
        "# @title Submit your feedback\n",
        "content_review(f\"{feedback_prefix}_RSA_Discussion_Video\")"
      ]
    },
    {
      "cell_type": "markdown",
      "metadata": {
        "execution": {},
        "id": "vhtMA9vQBBsL"
      },
      "source": [
        "---\n",
        "# Section 4: Illusory Correlations\n",
        "\n",
        "*Time estimate: ~20-30 mins*"
      ]
    },
    {
      "cell_type": "code",
      "execution_count": null,
      "metadata": {
        "cellView": "form",
        "execution": {},
        "id": "9CMMELFpBBsM"
      },
      "outputs": [],
      "source": [
        "# @title Video 6: Illusory Correlations\n",
        "from ipywidgets import widgets\n",
        "from IPython.display import YouTubeVideo\n",
        "from IPython.display import IFrame\n",
        "from IPython.display import display\n",
        "\n",
        "\n",
        "class PlayVideo(IFrame):\n",
        "  def __init__(self, id, source, page=1, width=400, height=300, **kwargs):\n",
        "    self.id = id\n",
        "    if source == 'Bilibili':\n",
        "      src = f'https://player.bilibili.com/player.html?bvid={id}&page={page}'\n",
        "    elif source == 'Osf':\n",
        "      src = f'https://mfr.ca-1.osf.io/render?url=https://osf.io/download/{id}/?direct%26mode=render'\n",
        "    super(PlayVideo, self).__init__(src, width, height, **kwargs)\n",
        "\n",
        "\n",
        "def display_videos(video_ids, W=400, H=300, fs=1):\n",
        "  tab_contents = []\n",
        "  for i, video_id in enumerate(video_ids):\n",
        "    out = widgets.Output()\n",
        "    with out:\n",
        "      if video_ids[i][0] == 'Youtube':\n",
        "        video = YouTubeVideo(id=video_ids[i][1], width=W,\n",
        "                             height=H, fs=fs, rel=0)\n",
        "        print(f'Video available at https://youtube.com/watch?v={video.id}')\n",
        "      else:\n",
        "        video = PlayVideo(id=video_ids[i][1], source=video_ids[i][0], width=W,\n",
        "                          height=H, fs=fs, autoplay=False)\n",
        "        if video_ids[i][0] == 'Bilibili':\n",
        "          print(f'Video available at https://www.bilibili.com/video/{video.id}')\n",
        "        elif video_ids[i][0] == 'Osf':\n",
        "          print(f'Video available at https://osf.io/{video.id}')\n",
        "      display(video)\n",
        "    tab_contents.append(out)\n",
        "  return tab_contents\n",
        "\n",
        "\n",
        "video_ids = [('Youtube', 'RxsAvyIoqEo'), ('Bilibili', 'BV1vv411E7Sq')]\n",
        "tab_contents = display_videos(video_ids, W=854, H=480)\n",
        "tabs = widgets.Tab()\n",
        "tabs.children = tab_contents\n",
        "for i in range(len(tab_contents)):\n",
        "  tabs.set_title(i, video_ids[i][0])\n",
        "display(tabs)"
      ]
    },
    {
      "cell_type": "code",
      "execution_count": null,
      "metadata": {
        "cellView": "form",
        "execution": {},
        "id": "qqv8nW6cBBsN"
      },
      "outputs": [],
      "source": [
        "# @title Submit your feedback\n",
        "content_review(f\"{feedback_prefix}_IllusoryCorrelations_Video\")"
      ]
    },
    {
      "cell_type": "markdown",
      "metadata": {
        "execution": {},
        "id": "lVQZRgH6BBsO"
      },
      "source": [
        "Let's recall the training loss curves. There was often a long plateau (where the weights are stuck at a saddle point), followed by a sudden drop. For very deep complex neural nets, such plateaus can take hours of training, and we are often tempted to stop the training, because we believe it is \"as good as it gets\"! Another side effect of \"immature interruption\" of training is the network finding (learning) illusory correlations.\n",
        "\n",
        "To better understand this, let's do the next demonstration and exercise."
      ]
    },
    {
      "cell_type": "markdown",
      "metadata": {
        "execution": {},
        "id": "0krSWvmIBBsO"
      },
      "source": [
        "## Demonstration: Illusory Correlations\n",
        "\n",
        "Our original dataset has 4 animals: Canary, Robin, Goldfish, and Tuna. These animals all have bones. Therefore if we include a \"has bone\" feature, the network would learn it at the second level (i.e. second bump, second mode convergence), when it learns the animal-plants distinction.\n",
        "\n",
        "What if the dataset has Shark instead of Goldfish. Sharks don't have bones (their skeletons are made of cartilaginous, which is much lighter than true bone and more flexible). Then we will have a feature which is *True* (i.e. +1) for Tuna, Robin, and Canary, but *False* (i.e. -1) for all the plants and the shark! Let's see what the network does.\n",
        "\n",
        "First, we add the new feature to the targets. We then start training our LNN and in every epoch, record the network prediction for \"sharks having bones\".\n",
        "\n",
        "<center><img src=\"https://raw.githubusercontent.com/NeuromatchAcademy/course-content-dl/main/tutorials/W1D2_LinearDeepLearning/static/shark_tree.png\" alt=\"Simple nn graph\" width=\"600\"/></center>"
      ]
    },
    {
      "cell_type": "code",
      "execution_count": null,
      "metadata": {
        "execution": {},
        "id": "fQR_sBp2BBsP"
      },
      "outputs": [],
      "source": [
        "# Sampling new data from the tree\n",
        "tree_labels, tree_features = generate_hsd()\n",
        "\n",
        "# Replacing Goldfish with Shark\n",
        "item_names = ['Shark', 'Tuna', 'Robin', 'Canary',\n",
        "              'Rose', 'Daisy', 'Pine', 'Oak']\n",
        "\n",
        "# Index of label to record\n",
        "illusion_idx = 0  # Shark is the first element\n",
        "\n",
        "# The new feature (has bones) vector\n",
        "new_feature = [-1, 1, 1, 1, -1, -1, -1, -1]\n",
        "its_label = 'has_bones'\n",
        "\n",
        "# Adding feature has_bones to the feature array\n",
        "tree_features = add_feature(tree_features, new_feature)\n",
        "\n",
        "# Plotting\n",
        "plot_tree_data(item_names, tree_features, its_label)"
      ]
    },
    {
      "cell_type": "markdown",
      "metadata": {
        "execution": {},
        "id": "_qkE24siBBsQ"
      },
      "source": [
        "You can see the new feature shown in the last column of the plot above.\n",
        "\n",
        "Now we can train the network on the new data, and record the network prediction (output) for Shark (indexed 0) label and \"has bone\" feature (last feature, indexed -1), during the training.\n",
        "\n",
        "Here is the snippet from the training loop that keeps track of network prediction for `illusory_i`th label and last (`-1`) feature:\n",
        "\n",
        "```python\n",
        "pred_ij = predictions.detach()[illusory_i, -1]\n",
        "```"
      ]
    },
    {
      "cell_type": "code",
      "execution_count": null,
      "metadata": {
        "cellView": "form",
        "execution": {},
        "id": "M0MN1GYvBBsR"
      },
      "outputs": [],
      "source": [
        "#@markdown #### Make sure you execute this cell to train the network and plot\n",
        "\n",
        "# Convert (cast) data from np.ndarray to torch.Tensor\n",
        "label_tensor = torch.tensor(tree_labels).float()\n",
        "feature_tensor = torch.tensor(tree_features).float()\n",
        "\n",
        "lr = 100.0  # Learning rate\n",
        "gamma = 1e-12  # Initialization scale\n",
        "n_epochs = 250  # Number of epochs\n",
        "dim_input = 8  # Input dimension = `label_tensor.size(1)`\n",
        "dim_hidden = 30  # Hidden neurons\n",
        "dim_output = feature_tensor.size(1)\n",
        "\n",
        "# Model instantiation\n",
        "dlnn_model = LNNet(dim_input, dim_hidden, dim_output)\n",
        "\n",
        "# Weights re-initialization\n",
        "initializer_(dlnn_model, gamma)\n",
        "\n",
        "# Training\n",
        "_, modes, _, ill_predictions = train(dlnn_model,\n",
        "                                     label_tensor,\n",
        "                                     feature_tensor,\n",
        "                                     n_epochs=n_epochs,\n",
        "                                     lr=lr,\n",
        "                                     illusory_i=illusion_idx)\n",
        "\n",
        "# Label for the plot\n",
        "ill_label = f\"Prediction for {item_names[illusion_idx]} {its_label}\"\n",
        "\n",
        "# Plotting\n",
        "plot_ills_sv_twin(ill_predictions, modes, ill_label)"
      ]
    },
    {
      "cell_type": "markdown",
      "metadata": {
        "execution": {},
        "id": "hop73fE5BBsR"
      },
      "source": [
        "It seems that the network starts by learning an \"illusory correlation\" that sharks have bones, and in later epochs, as it learns deeper representations, it can see (learn) beyond the illusory correlation. This is important to remember that we never presented the network with any data saying that sharks have bones."
      ]
    },
    {
      "cell_type": "markdown",
      "metadata": {
        "execution": {},
        "id": "s2zc2lAzBBsS"
      },
      "source": [
        "## Exercise 4: Illusory Correlations\n",
        "\n",
        "This exercise is just for you to explore the idea of illusory correlations. Think of medical, natural, or possibly social illusory correlations which can test the learning power of deep linear neural nets.\n",
        "\n",
        "**important notes**: the generated data is independent of tree labels, therefore the names are just for convenience.\n",
        "\n",
        "Here is our example for **Non-human Living things do not speak**. The lines marked by `{edit}` are for you to change in your example."
      ]
    },
    {
      "cell_type": "code",
      "execution_count": null,
      "metadata": {
        "execution": {},
        "id": "a5gGTEgcBBsT"
      },
      "outputs": [],
      "source": [
        "# Sampling new data from the tree\n",
        "tree_labels, tree_features = generate_hsd()\n",
        "\n",
        "# {edit} Replacing Canary with Parrot\n",
        "item_names = ['Goldfish', 'Tuna', 'Robin', 'Parrot',\n",
        "              'Rose', 'Daisy', 'Pine', 'Oak']\n",
        "\n",
        "# {edit} Index of label to record\n",
        "illusion_idx = 3  # Parrot is the fourth element\n",
        "\n",
        "# {edit} The new feature (cannot speak) vector\n",
        "new_feature = [1, 1, 1, -1, 1, 1, 1, 1]\n",
        "its_label = 'cannot_speak'\n",
        "\n",
        "# Adding feature has_bones to the feature array\n",
        "tree_features = add_feature(tree_features, new_feature)\n",
        "\n",
        "# Plotting\n",
        "plot_tree_data(item_names, tree_features, its_label)"
      ]
    },
    {
      "cell_type": "code",
      "execution_count": null,
      "metadata": {
        "cellView": "form",
        "execution": {},
        "id": "Uq2VgYxjBBsT"
      },
      "outputs": [],
      "source": [
        "# @markdown #### Make sure you execute this cell to train the network and plot\n",
        "\n",
        "# Convert (cast) data from np.ndarray to torch.Tensor\n",
        "label_tensor = torch.tensor(tree_labels).float()\n",
        "feature_tensor = torch.tensor(tree_features).float()\n",
        "\n",
        "lr = 100.0  # Learning rate\n",
        "gamma = 1e-12  # Initialization scale\n",
        "n_epochs = 250  # Number of epochs\n",
        "dim_input = 8  # Input dimension = `label_tensor.size(1)`\n",
        "dim_hidden = 30  # Hidden neurons\n",
        "dim_output = feature_tensor.size(1)\n",
        "\n",
        "# Model instantiation\n",
        "dlnn_model = LNNet(dim_input, dim_hidden, dim_output)\n",
        "\n",
        "# Weights re-initialization\n",
        "initializer_(dlnn_model, gamma)\n",
        "\n",
        "# Training\n",
        "_, modes, _, ill_predictions = train(dlnn_model,\n",
        "                                     label_tensor,\n",
        "                                     feature_tensor,\n",
        "                                     n_epochs=n_epochs,\n",
        "                                     lr=lr,\n",
        "                                     illusory_i=illusion_idx)\n",
        "\n",
        "# Label for the plot\n",
        "ill_label = f\"Prediction for {item_names[illusion_idx]} {its_label}\"\n",
        "\n",
        "# Plotting\n",
        "plot_ills_sv_twin(ill_predictions, modes, ill_label)"
      ]
    },
    {
      "cell_type": "code",
      "execution_count": null,
      "metadata": {
        "cellView": "form",
        "execution": {},
        "id": "VsQYCmlDBBsU"
      },
      "outputs": [],
      "source": [
        "# @title Submit your feedback\n",
        "content_review(f\"{feedback_prefix}_Illusory_Correlations_Exercise\")"
      ]
    },
    {
      "cell_type": "code",
      "execution_count": null,
      "metadata": {
        "cellView": "form",
        "execution": {},
        "id": "hYOFNcJqBBsU"
      },
      "outputs": [],
      "source": [
        "# @title Video 7: Illusory Correlations - Discussion\n",
        "from ipywidgets import widgets\n",
        "from IPython.display import YouTubeVideo\n",
        "from IPython.display import IFrame\n",
        "from IPython.display import display\n",
        "\n",
        "\n",
        "class PlayVideo(IFrame):\n",
        "  def __init__(self, id, source, page=1, width=400, height=300, **kwargs):\n",
        "    self.id = id\n",
        "    if source == 'Bilibili':\n",
        "      src = f'https://player.bilibili.com/player.html?bvid={id}&page={page}'\n",
        "    elif source == 'Osf':\n",
        "      src = f'https://mfr.ca-1.osf.io/render?url=https://osf.io/download/{id}/?direct%26mode=render'\n",
        "    super(PlayVideo, self).__init__(src, width, height, **kwargs)\n",
        "\n",
        "\n",
        "def display_videos(video_ids, W=400, H=300, fs=1):\n",
        "  tab_contents = []\n",
        "  for i, video_id in enumerate(video_ids):\n",
        "    out = widgets.Output()\n",
        "    with out:\n",
        "      if video_ids[i][0] == 'Youtube':\n",
        "        video = YouTubeVideo(id=video_ids[i][1], width=W,\n",
        "                             height=H, fs=fs, rel=0)\n",
        "        print(f'Video available at https://youtube.com/watch?v={video.id}')\n",
        "      else:\n",
        "        video = PlayVideo(id=video_ids[i][1], source=video_ids[i][0], width=W,\n",
        "                          height=H, fs=fs, autoplay=False)\n",
        "        if video_ids[i][0] == 'Bilibili':\n",
        "          print(f'Video available at https://www.bilibili.com/video/{video.id}')\n",
        "        elif video_ids[i][0] == 'Osf':\n",
        "          print(f'Video available at https://osf.io/{video.id}')\n",
        "      display(video)\n",
        "    tab_contents.append(out)\n",
        "  return tab_contents\n",
        "\n",
        "\n",
        "video_ids = [('Youtube', '6VLHKQjQJmI'), ('Bilibili', 'BV1vv411E7rg')]\n",
        "tab_contents = display_videos(video_ids, W=854, H=480)\n",
        "tabs = widgets.Tab()\n",
        "tabs.children = tab_contents\n",
        "for i in range(len(tab_contents)):\n",
        "  tabs.set_title(i, video_ids[i][0])\n",
        "display(tabs)"
      ]
    },
    {
      "cell_type": "code",
      "execution_count": null,
      "metadata": {
        "cellView": "form",
        "execution": {},
        "id": "0q4QU0FsBBsV"
      },
      "outputs": [],
      "source": [
        "# @title Submit your feedback\n",
        "content_review(f\"{feedback_prefix}_Illusory_Correlations_Discussion_Video\")"
      ]
    },
    {
      "cell_type": "markdown",
      "metadata": {
        "execution": {},
        "id": "Fuq0v_J7BBsV"
      },
      "source": [
        "---\n",
        "# Summary\n",
        "\n",
        "The second day of the course has ended. So, in the third tutorial of the linear deep learning day we have learned more advanced topics. In the beginning we implemented a deep linear neural network and then we studied its learning dynamics using the linear algebra tool called singular value decomposition. Then, we learned about the representational similarity analysis and the illusory correlation."
      ]
    },
    {
      "cell_type": "code",
      "execution_count": null,
      "metadata": {
        "cellView": "form",
        "execution": {},
        "id": "mYsH-6iKBBsV"
      },
      "outputs": [],
      "source": [
        "# @title Video 8: Outro\n",
        "from ipywidgets import widgets\n",
        "from IPython.display import YouTubeVideo\n",
        "from IPython.display import IFrame\n",
        "from IPython.display import display\n",
        "\n",
        "\n",
        "class PlayVideo(IFrame):\n",
        "  def __init__(self, id, source, page=1, width=400, height=300, **kwargs):\n",
        "    self.id = id\n",
        "    if source == 'Bilibili':\n",
        "      src = f'https://player.bilibili.com/player.html?bvid={id}&page={page}'\n",
        "    elif source == 'Osf':\n",
        "      src = f'https://mfr.ca-1.osf.io/render?url=https://osf.io/download/{id}/?direct%26mode=render'\n",
        "    super(PlayVideo, self).__init__(src, width, height, **kwargs)\n",
        "\n",
        "\n",
        "def display_videos(video_ids, W=400, H=300, fs=1):\n",
        "  tab_contents = []\n",
        "  for i, video_id in enumerate(video_ids):\n",
        "    out = widgets.Output()\n",
        "    with out:\n",
        "      if video_ids[i][0] == 'Youtube':\n",
        "        video = YouTubeVideo(id=video_ids[i][1], width=W,\n",
        "                             height=H, fs=fs, rel=0)\n",
        "        print(f'Video available at https://youtube.com/watch?v={video.id}')\n",
        "      else:\n",
        "        video = PlayVideo(id=video_ids[i][1], source=video_ids[i][0], width=W,\n",
        "                          height=H, fs=fs, autoplay=False)\n",
        "        if video_ids[i][0] == 'Bilibili':\n",
        "          print(f'Video available at https://www.bilibili.com/video/{video.id}')\n",
        "        elif video_ids[i][0] == 'Osf':\n",
        "          print(f'Video available at https://osf.io/{video.id}')\n",
        "      display(video)\n",
        "    tab_contents.append(out)\n",
        "  return tab_contents\n",
        "\n",
        "\n",
        "video_ids = [('Youtube', 'N2szOIsKyXE'), ('Bilibili', 'BV1AL411n7ns')]\n",
        "tab_contents = display_videos(video_ids, W=854, H=480)\n",
        "tabs = widgets.Tab()\n",
        "tabs.children = tab_contents\n",
        "for i in range(len(tab_contents)):\n",
        "  tabs.set_title(i, video_ids[i][0])\n",
        "display(tabs)"
      ]
    },
    {
      "cell_type": "code",
      "execution_count": null,
      "metadata": {
        "cellView": "form",
        "execution": {},
        "id": "UO1_9dtBBBsW"
      },
      "outputs": [],
      "source": [
        "# @title Submit your feedback\n",
        "content_review(f\"{feedback_prefix}_Outro_Video\")"
      ]
    },
    {
      "cell_type": "markdown",
      "metadata": {
        "execution": {},
        "id": "MWZXfO5LBBsW"
      },
      "source": [
        "---\n",
        "# Daily survey\n",
        "\n",
        "Don't forget to complete your reflections and content check in the daily survey! Please be patient after logging in as there is\n",
        "a small delay before you will be redirected to the survey.\n",
        "\n",
        "<a href=\"https://portal.neuromatchacademy.org/api/redirect/to/9c55f6cb-cdf9-4429-ac1c-ec44fe64c303\"><img src=\"https://github.com/NeuromatchAcademy/course-content-dl/blob/main/tutorials/static/SurveyButton.png?raw=1\" alt=\"button link to survey\" style=\"width:410px\"></a>"
      ]
    },
    {
      "cell_type": "markdown",
      "metadata": {
        "execution": {},
        "id": "9VIXwK1yBBsX"
      },
      "source": [
        "---\n",
        "# Bonus\n",
        "\n",
        "*Time estimate: ~20-30 mins*"
      ]
    },
    {
      "cell_type": "code",
      "execution_count": null,
      "metadata": {
        "cellView": "form",
        "execution": {},
        "id": "4cUQSpPfBBsX"
      },
      "outputs": [],
      "source": [
        "# @title Video 9: Linear Regression\n",
        "from ipywidgets import widgets\n",
        "from IPython.display import YouTubeVideo\n",
        "from IPython.display import IFrame\n",
        "from IPython.display import display\n",
        "\n",
        "\n",
        "class PlayVideo(IFrame):\n",
        "  def __init__(self, id, source, page=1, width=400, height=300, **kwargs):\n",
        "    self.id = id\n",
        "    if source == 'Bilibili':\n",
        "      src = f'https://player.bilibili.com/player.html?bvid={id}&page={page}'\n",
        "    elif source == 'Osf':\n",
        "      src = f'https://mfr.ca-1.osf.io/render?url=https://osf.io/download/{id}/?direct%26mode=render'\n",
        "    super(PlayVideo, self).__init__(src, width, height, **kwargs)\n",
        "\n",
        "\n",
        "def display_videos(video_ids, W=400, H=300, fs=1):\n",
        "  tab_contents = []\n",
        "  for i, video_id in enumerate(video_ids):\n",
        "    out = widgets.Output()\n",
        "    with out:\n",
        "      if video_ids[i][0] == 'Youtube':\n",
        "        video = YouTubeVideo(id=video_ids[i][1], width=W,\n",
        "                             height=H, fs=fs, rel=0)\n",
        "        print(f'Video available at https://youtube.com/watch?v={video.id}')\n",
        "      else:\n",
        "        video = PlayVideo(id=video_ids[i][1], source=video_ids[i][0], width=W,\n",
        "                          height=H, fs=fs, autoplay=False)\n",
        "        if video_ids[i][0] == 'Bilibili':\n",
        "          print(f'Video available at https://www.bilibili.com/video/{video.id}')\n",
        "        elif video_ids[i][0] == 'Osf':\n",
        "          print(f'Video available at https://osf.io/{video.id}')\n",
        "      display(video)\n",
        "    tab_contents.append(out)\n",
        "  return tab_contents\n",
        "\n",
        "\n",
        "video_ids = [('Youtube', 'uULOAbhYaaE'), ('Bilibili', 'BV1Pf4y1L71L')]\n",
        "tab_contents = display_videos(video_ids, W=854, H=480)\n",
        "tabs = widgets.Tab()\n",
        "tabs.children = tab_contents\n",
        "for i in range(len(tab_contents)):\n",
        "  tabs.set_title(i, video_ids[i][0])\n",
        "display(tabs)"
      ]
    },
    {
      "cell_type": "code",
      "execution_count": null,
      "metadata": {
        "cellView": "form",
        "execution": {},
        "id": "tKECCnayBBsY"
      },
      "outputs": [],
      "source": [
        "# @title Submit your feedback\n",
        "content_review(f\"{feedback_prefix}_Linear_Regression_Bonus_Video\")"
      ]
    },
    {
      "cell_type": "markdown",
      "metadata": {
        "execution": {},
        "id": "jMxZRgP9BBsY"
      },
      "source": [
        "## Section 5.1: Linear Regression\n",
        "\n",
        "Generally, *regression* refers to a set of methods for modeling the mapping (relationship) between one (or more) independent variable(s) (i.e., features) and one (or more) dependent variable(s) (i.e., labels). For example, if we want to examine the relative impacts of calendar date, GPS coordinates, and time of the say (the independent variables) on air temperature (the dependent variable). On the other hand, regression can be used for predictive analysis. Thus the independent variables are also called predictors. When the model contains more than one predictor, then the method is called *multiple regression*, and if it contains more than one dependent variable called *multivariate regression*. Regression problems pop up whenever we want to predict a numerical (usually continuous) value.\n",
        "\n",
        "The independent variables are collected in vector $\\mathbf{x} \\in \\mathbb{R}^M$, where $M$ denotes the number of independent variables, while the dependent variables are collected in vector $\\mathbf{y} \\in \\mathbb{R}^N$, where $N$ denotes the number of dependent variables. And the mapping between them is represented by the weight matrix $\\mathbf{W} \\in \\mathbb{R}^{N \\times M}$ and a bias vector $\\mathbf{b} \\in \\mathbb{R}^{N}$ (generalizing to affine mappings).\n",
        "\n",
        "The multivariate regression model can be written as:\n",
        "\n",
        "\\begin{equation}\n",
        "\\mathbf{y} = \\mathbf{W} ~ \\mathbf{x} + \\mathbf{b}\n",
        "\\end{equation}\n",
        "\n",
        "or it can be written in matrix format as:\n",
        "\n",
        "\\begin{equation}\n",
        "\\begin{bmatrix} y_{1} \\\\ y_{2} \\\\ \\vdots \\\\ y_{N} \\\\ \\end{bmatrix} = \\begin{bmatrix} w_{1,1} & w_{1,2} & \\dots & w_{1,M} \\\\ w_{2,1} & w_{2,2} & \\dots & w_{2,M} \\\\ \\vdots & \\ddots & \\ddots & \\vdots \\\\ w_{N,1} & w_{N,2} & \\dots & w_{N,M} \\end{bmatrix} \\begin{bmatrix} x_{1} \\\\ x_{2} \\\\ \\vdots \\\\ x_{M} \\\\ \\end{bmatrix} + \\begin{bmatrix} b_{1} \\\\ b_{2} \\\\ \\vdots \\\\b_{N} \\\\ \\end{bmatrix}\n",
        "\\end{equation}"
      ]
    },
    {
      "cell_type": "markdown",
      "metadata": {
        "execution": {},
        "id": "_QvqV8wUBBsY"
      },
      "source": [
        "## Section 5.2: Vectorized regression\n",
        "\n",
        "Linear regression can be simply extended to multi-samples ($D$) input-output mapping, which we can collect in a matrix $\\mathbf{X} \\in \\mathbb{R}^{M \\times D}$, sometimes called the design matrix. The sample dimension also shows up in the output matrix $\\mathbf{Y} \\in \\mathbb{R}^{N \\times D}$. Thus, linear regression takes the following form:\n",
        "\n",
        "\\begin{equation}\n",
        "\\mathbf{Y} = \\mathbf{W} ~ \\mathbf{X} + \\mathbf{b}\n",
        "\\end{equation}\n",
        "\n",
        "where matrix $\\mathbf{W} \\in \\mathbb{R}^{N \\times M}$ and the vector $\\mathbf{b} \\in \\mathbb{R}^{N}$ (broadcasted over sample dimension) are the desired parameters to find."
      ]
    },
    {
      "cell_type": "markdown",
      "metadata": {
        "execution": {},
        "id": "uv0KZ4TMBBsZ"
      },
      "source": [
        "## Section 5.3: Analytical Linear Regression"
      ]
    },
    {
      "cell_type": "markdown",
      "metadata": {
        "execution": {},
        "id": "Nut1ZptGBBsZ"
      },
      "source": [
        "Linear regression is a relatively simple optimization problem. Unlike most other models that we will see in this course, linear regression for mean squared loss can be solved analytically.\n",
        "\n",
        "For $D$ samples (batch size), $\\mathbf{X} \\in \\mathbb{R}^{M \\times D}$, and $\\mathbf{Y} \\in \\mathbb{R}^{N \\times D}$, the goal of linear regression is to find $\\mathbf{W} \\in \\mathbb{R}^{N \\times M}$ such that:\n",
        "\n",
        "\\begin{equation}\n",
        "\\mathbf{Y} = \\mathbf{W} ~ \\mathbf{X}\n",
        "\\end{equation}\n",
        "\n",
        "Given the Squared Error loss function, we have:\n",
        "\n",
        "\\begin{equation}\n",
        "Loss(\\mathbf{W}) = ||\\mathbf{Y} - \\mathbf{W} ~ \\mathbf{X}||^2\n",
        "\\end{equation}\n",
        "\n",
        "So, using matrix notation, the optimization problem is given by:\n",
        "\n",
        "\\begin{align}\n",
        "\\mathbf{W^{*}} &= \\underset{\\mathbf{W}}{\\mathrm{argmin}} \\left( Loss (\\mathbf{W})  \\right) \\\\\n",
        " &= \\underset{\\mathbf{W}}{\\mathrm{argmin}} \\left( ||\\mathbf{Y} - \\mathbf{W} ~ \\mathbf{X}||^2  \\right) \\\\\n",
        "&= \\underset{\\mathbf{W}}{\\mathrm{argmin}} \\left( \\left( \\mathbf{Y} - \\mathbf{W} ~ \\mathbf{X}\\right)^{\\top} \\left( \\mathbf{Y} - \\mathbf{W} ~ \\mathbf{X}\\right) \\right)\n",
        "\\end{align}\n",
        "\n",
        "To solve the minimization problem, we can simply set the derivative of the loss with respect to $\\mathbf{W}$ to zero.\n",
        "\n",
        "\\begin{equation}\n",
        "\\dfrac{\\partial Loss}{\\partial \\mathbf{W}} = 0\n",
        "\\end{equation}\n",
        "\n",
        "Assuming that $\\mathbf{X}\\mathbf{X}^{\\top}$ is full-rank, and thus it is invertible, we can write:\n",
        "\n",
        "\\begin{equation}\n",
        "\\mathbf{W}^{\\mathbf{*}} = \\mathbf{Y} \\mathbf{X}^{\\top} \\left( \\mathbf{X}  \\mathbf{X}^{\\top} \\right) ^{-1}\n",
        "\\end{equation}\n",
        "\n",
        "<br>\n",
        "\n",
        "**Note:** The $||\\cdot||$ denotes the norm 2 or the Euclidean norm of a vector."
      ]
    },
    {
      "cell_type": "markdown",
      "metadata": {
        "execution": {},
        "id": "bSXdOUReBBsa"
      },
      "source": [
        "### Coding Exercise 5.3.1: Analytical solution to LR\n",
        "\n",
        "Complete the function `linear_regression` for finding the analytical solution to linear regression."
      ]
    },
    {
      "cell_type": "code",
      "execution_count": null,
      "metadata": {
        "execution": {},
        "id": "aai9NBkkBBsb"
      },
      "outputs": [],
      "source": [
        "def linear_regression(X, Y):\n",
        "  \"\"\"\n",
        "  Analytical Linear regression\n",
        "\n",
        "  Args:\n",
        "    X: np.ndarray\n",
        "      Design matrix\n",
        "    Y: np.ndarray\n",
        "      Target ouputs\n",
        "\n",
        "  Returns:\n",
        "    W: np.ndarray\n",
        "      Estimated weights (mapping)\n",
        "  \"\"\"\n",
        "  assert isinstance(X, np.ndarray)\n",
        "  assert isinstance(Y, np.ndarray)\n",
        "  M, Dx = X.shape\n",
        "  N, Dy = Y.shape\n",
        "  assert Dx == Dy\n",
        "  #################################################\n",
        "  ## Complete the linear_regression_exercise function\n",
        "  # Complete the function and remove or comment the line below\n",
        "  raise NotImplementedError(\"Linear Regression `linear_regression`\")\n",
        "  #################################################\n",
        "  W = ...\n",
        "\n",
        "  return W\n",
        "\n",
        "\n",
        "W_true = np.random.randint(low=0, high=10, size=(3, 3)).astype(float)\n",
        "\n",
        "X_train = np.random.rand(3, 37)  # 37 samples\n",
        "noise = np.random.normal(scale=0.01, size=(3, 37))\n",
        "Y_train = W_true @ X_train + noise\n",
        "\n",
        "## Uncomment and run\n",
        "# W_estimate = linear_regression(X_train, Y_train)\n",
        "# print(f\"True weights:\\n {W_true}\")\n",
        "# print(f\"\\nEstimated weights:\\n {np.round(W_estimate, 1)}\")"
      ]
    },
    {
      "cell_type": "markdown",
      "metadata": {
        "execution": {},
        "id": "IFZUR4ItBBsc"
      },
      "source": [
        "[*Click for solution*](https://github.com/NeuromatchAcademy/course-content-dl/tree/main/tutorials/W1D2_LinearDeepLearning/solutions/W1D2_Tutorial3_Solution_aa3d6993.py)\n",
        "\n"
      ]
    },
    {
      "cell_type": "code",
      "execution_count": null,
      "metadata": {
        "cellView": "form",
        "execution": {},
        "id": "t-R8WzPaBBsc"
      },
      "outputs": [],
      "source": [
        "# @title Submit your feedback\n",
        "content_review(f\"{feedback_prefix}_Analytical_Solution_to_LR_Exercise\")"
      ]
    },
    {
      "cell_type": "markdown",
      "metadata": {
        "execution": {},
        "id": "Xluh2A3dBBsc"
      },
      "source": [
        "## Demonstration: Linear Regression vs. DLNN\n",
        "\n",
        "A linear neural network with NO hidden layer is very similar to linear regression in its core. We also know that no matter how many hidden layers a linear network has, it can be compressed to linear regression (no hidden layers).\n",
        "\n",
        "In this demonstration, we use the hierarchically structured data to:\n",
        "\n",
        "* analytically find the mapping between features and labels\n",
        "* train a zero-depth LNN to find the mapping\n",
        "* compare them to the $W_{tot}$ from the already trained deep LNN"
      ]
    },
    {
      "cell_type": "code",
      "execution_count": null,
      "metadata": {
        "execution": {},
        "id": "SwETgksbBBsd"
      },
      "outputs": [],
      "source": [
        "# Sampling new data from the tree\n",
        "tree_labels, tree_features = generate_hsd()\n",
        "\n",
        "# Convert (cast) data from np.ndarray to torch.Tensor\n",
        "label_tensor = torch.tensor(tree_labels).float()\n",
        "feature_tensor = torch.tensor(tree_features).float()"
      ]
    },
    {
      "cell_type": "code",
      "execution_count": null,
      "metadata": {
        "execution": {},
        "id": "Zc6r-p9fBBsd"
      },
      "outputs": [],
      "source": [
        "# Calculating the W_tot for deep network (already trained model)\n",
        "\n",
        "lr = 100.0  # Learning rate\n",
        "gamma = 1e-12  # Initialization scale\n",
        "n_epochs = 250  # Number of epochs\n",
        "dim_input = 8  # Input dimension = `label_tensor.size(1)`\n",
        "dim_hidden = 30  # Hidden neurons\n",
        "dim_output = 10000  # Output dimension = `feature_tensor.size(1)`\n",
        "\n",
        "# Model instantiation\n",
        "dlnn_model = LNNet(dim_input, dim_hidden, dim_output)\n",
        "\n",
        "# Weights re-initialization\n",
        "initializer_(dlnn_model, gamma)\n",
        "\n",
        "# Training\n",
        "losses, modes, rsms, ills = train(dlnn_model,\n",
        "                                  label_tensor,\n",
        "                                  feature_tensor,\n",
        "                                  n_epochs=n_epochs,\n",
        "                                  lr=lr)\n",
        "\n",
        "deep_W_tot = torch.eye(dim_input)\n",
        "for weight in dlnn_model.parameters():\n",
        "  deep_W_tot = weight @ deep_W_tot\n",
        "deep_W_tot = deep_W_tot.detach().numpy()"
      ]
    },
    {
      "cell_type": "code",
      "execution_count": null,
      "metadata": {
        "execution": {},
        "id": "jDW4honUBBse"
      },
      "outputs": [],
      "source": [
        "# Analytically estimation of weights\n",
        "# First dimension of data is `batch`, so we need to transpose our data\n",
        "analytical_weights = linear_regression(tree_labels.T, tree_features.T)"
      ]
    },
    {
      "cell_type": "code",
      "execution_count": null,
      "metadata": {
        "execution": {},
        "id": "UcI6_-XsBBse"
      },
      "outputs": [],
      "source": [
        "class LRNet(nn.Module):\n",
        "  \"\"\"\n",
        "  A Linear Neural Net with ZERO hidden layer (LR net)\n",
        "  \"\"\"\n",
        "\n",
        "  def __init__(self, in_dim, out_dim):\n",
        "    \"\"\"\n",
        "    Initialize LRNet\n",
        "\n",
        "    Args:\n",
        "      in_dim: int\n",
        "        Input dimension\n",
        "      hid_dim: int\n",
        "        Hidden dimension\n",
        "\n",
        "    Returns:\n",
        "      Nothing\n",
        "    \"\"\"\n",
        "    super().__init__()\n",
        "    self.in_out = nn.Linear(in_dim, out_dim, bias=False)\n",
        "\n",
        "  def forward(self, x):\n",
        "    \"\"\"\n",
        "    Forward pass of LRNet\n",
        "\n",
        "    Args:\n",
        "      x: torch.Tensor\n",
        "        Input tensor\n",
        "\n",
        "    Returns:\n",
        "      out: torch.Tensor\n",
        "        Output/Prediction\n",
        "    \"\"\"\n",
        "    out = self.in_out(x)  # Output (Prediction)\n",
        "    return out"
      ]
    },
    {
      "cell_type": "code",
      "execution_count": null,
      "metadata": {
        "execution": {},
        "id": "yVCwRH31BBse"
      },
      "outputs": [],
      "source": [
        "lr = 1000.0  # Learning rate\n",
        "gamma = 1e-12  # Initialization scale\n",
        "n_epochs = 250  # Number of epochs\n",
        "dim_input = 8  # Input dimension = `label_tensor.size(1)`\n",
        "dim_output = 10000  # Output dimension = `feature_tensor.size(1)`\n",
        "\n",
        "# Model instantiation\n",
        "LR_model = LRNet(dim_input, dim_output)\n",
        "optimizer = optim.SGD(LR_model.parameters(), lr=lr)\n",
        "criterion = nn.MSELoss()\n",
        "\n",
        "losses = np.zeros(n_epochs)  # Loss records\n",
        "for i in range(n_epochs):  # Training loop\n",
        "  optimizer.zero_grad()\n",
        "  predictions = LR_model(label_tensor)\n",
        "  loss = criterion(predictions, feature_tensor)\n",
        "  loss.backward()\n",
        "  optimizer.step()\n",
        "  losses[i] = loss.item()\n",
        "\n",
        "# Trained weights from zero_depth_model\n",
        "LR_model_weights = next(iter(LR_model.parameters())).detach().numpy()\n",
        "\n",
        "plot_loss(losses, \"Training loss for zero depth LNN\", c=\"r\")"
      ]
    },
    {
      "cell_type": "code",
      "execution_count": null,
      "metadata": {
        "execution": {},
        "id": "HNyZcmrkBBsf"
      },
      "outputs": [],
      "source": [
        "print(\"The final weights from all methods are approximately equal?! \"\n",
        "\"{}!\".format(\n",
        "  (np.allclose(analytical_weights, LR_model_weights, atol=1e-02) and \\\n",
        "   np.allclose(analytical_weights, deep_W_tot, atol=1e-02))\n",
        "  )\n",
        ")"
      ]
    },
    {
      "cell_type": "markdown",
      "metadata": {
        "execution": {},
        "id": "N8HPBmZVBBsf"
      },
      "source": [
        "As you may have guessed, they all arrive at the same results but through very different paths."
      ]
    },
    {
      "cell_type": "code",
      "execution_count": null,
      "metadata": {
        "cellView": "form",
        "execution": {},
        "id": "fZCf8lWUBBsg"
      },
      "outputs": [],
      "source": [
        "# @title Video 10: Linear Regression - Discussion\n",
        "from ipywidgets import widgets\n",
        "from IPython.display import YouTubeVideo\n",
        "from IPython.display import IFrame\n",
        "from IPython.display import display\n",
        "\n",
        "\n",
        "class PlayVideo(IFrame):\n",
        "  def __init__(self, id, source, page=1, width=400, height=300, **kwargs):\n",
        "    self.id = id\n",
        "    if source == 'Bilibili':\n",
        "      src = f'https://player.bilibili.com/player.html?bvid={id}&page={page}'\n",
        "    elif source == 'Osf':\n",
        "      src = f'https://mfr.ca-1.osf.io/render?url=https://osf.io/download/{id}/?direct%26mode=render'\n",
        "    super(PlayVideo, self).__init__(src, width, height, **kwargs)\n",
        "\n",
        "\n",
        "def display_videos(video_ids, W=400, H=300, fs=1):\n",
        "  tab_contents = []\n",
        "  for i, video_id in enumerate(video_ids):\n",
        "    out = widgets.Output()\n",
        "    with out:\n",
        "      if video_ids[i][0] == 'Youtube':\n",
        "        video = YouTubeVideo(id=video_ids[i][1], width=W,\n",
        "                             height=H, fs=fs, rel=0)\n",
        "        print(f'Video available at https://youtube.com/watch?v={video.id}')\n",
        "      else:\n",
        "        video = PlayVideo(id=video_ids[i][1], source=video_ids[i][0], width=W,\n",
        "                          height=H, fs=fs, autoplay=False)\n",
        "        if video_ids[i][0] == 'Bilibili':\n",
        "          print(f'Video available at https://www.bilibili.com/video/{video.id}')\n",
        "        elif video_ids[i][0] == 'Osf':\n",
        "          print(f'Video available at https://osf.io/{video.id}')\n",
        "      display(video)\n",
        "    tab_contents.append(out)\n",
        "  return tab_contents\n",
        "\n",
        "\n",
        "video_ids = [('Youtube', 'gG15_J0i05Y'), ('Bilibili', 'BV18v411E7Wg')]\n",
        "tab_contents = display_videos(video_ids, W=854, H=480)\n",
        "tabs = widgets.Tab()\n",
        "tabs.children = tab_contents\n",
        "for i in range(len(tab_contents)):\n",
        "  tabs.set_title(i, video_ids[i][0])\n",
        "display(tabs)"
      ]
    },
    {
      "cell_type": "code",
      "execution_count": null,
      "metadata": {
        "cellView": "form",
        "execution": {},
        "id": "BlsE1WxNBBsh"
      },
      "outputs": [],
      "source": [
        "# @title Submit your feedback\n",
        "content_review(f\"{feedback_prefix}_Linear_Regression_Discussion_Video\")"
      ]
    }
  ],
  "metadata": {
    "colab": {
      "name": "W1D2_Tutorial3",
      "provenance": [],
      "toc_visible": true,
      "include_colab_link": true
    },
    "kernel": {
      "display_name": "Python 3",
      "language": "python",
      "name": "python3"
    },
    "kernelspec": {
      "display_name": "Python 3",
      "name": "python3"
    },
    "language_info": {
      "codemirror_mode": {
        "name": "ipython",
        "version": 3
      },
      "file_extension": ".py",
      "mimetype": "text/x-python",
      "name": "python",
      "nbconvert_exporter": "python",
      "pygments_lexer": "ipython3",
      "version": "3.7.11"
    },
    "widgets": {
      "application/vnd.jupyter.widget-state+json": {
        "e44c18b51c1b45f6ac8726a1f8a36a47": {
          "model_module": "@jupyter-widgets/controls",
          "model_name": "TabModel",
          "model_module_version": "1.5.0",
          "state": {
            "_dom_classes": [],
            "_model_module": "@jupyter-widgets/controls",
            "_model_module_version": "1.5.0",
            "_model_name": "TabModel",
            "_titles": {
              "0": "Youtube",
              "1": "Bilibili"
            },
            "_view_count": null,
            "_view_module": "@jupyter-widgets/controls",
            "_view_module_version": "1.5.0",
            "_view_name": "TabView",
            "box_style": "",
            "children": [
              "IPY_MODEL_b5633b9e228a4e1d8cb9a346d001b8cb",
              "IPY_MODEL_0956159e9a4b45be9692be3373c8f881"
            ],
            "layout": "IPY_MODEL_a21a8cb6c5f243a69aed6183e6a9edd4",
            "selected_index": 0
          }
        },
        "b5633b9e228a4e1d8cb9a346d001b8cb": {
          "model_module": "@jupyter-widgets/output",
          "model_name": "OutputModel",
          "model_module_version": "1.0.0",
          "state": {
            "_dom_classes": [],
            "_model_module": "@jupyter-widgets/output",
            "_model_module_version": "1.0.0",
            "_model_name": "OutputModel",
            "_view_count": null,
            "_view_module": "@jupyter-widgets/output",
            "_view_module_version": "1.0.0",
            "_view_name": "OutputView",
            "layout": "IPY_MODEL_bf993475c6314a57bc61c5a7b4f3a617",
            "msg_id": "",
            "outputs": [
              {
                "output_type": "stream",
                "name": "stdout",
                "text": [
                  "Video available at https://youtube.com/watch?v=DqMSU4Bikt0\n"
                ]
              },
              {
                "output_type": "display_data",
                "data": {
                  "text/plain": "<IPython.lib.display.YouTubeVideo at 0x7fc4cfc66980>",
                  "text/html": "\n        <iframe\n            width=\"854\"\n            height=\"480\"\n            src=\"https://www.youtube.com/embed/DqMSU4Bikt0?fs=1&rel=0\"\n            frameborder=\"0\"\n            allowfullscreen\n            \n        ></iframe>\n        ",
                  "image/jpeg": "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\n"
                },
                "metadata": {}
              }
            ]
          }
        },
        "0956159e9a4b45be9692be3373c8f881": {
          "model_module": "@jupyter-widgets/output",
          "model_name": "OutputModel",
          "model_module_version": "1.0.0",
          "state": {
            "_dom_classes": [],
            "_model_module": "@jupyter-widgets/output",
            "_model_module_version": "1.0.0",
            "_model_name": "OutputModel",
            "_view_count": null,
            "_view_module": "@jupyter-widgets/output",
            "_view_module_version": "1.0.0",
            "_view_name": "OutputView",
            "layout": "IPY_MODEL_8f8296f9edcc42cea4f35436e9f88e16",
            "msg_id": "",
            "outputs": [
              {
                "output_type": "stream",
                "name": "stdout",
                "text": [
                  "Video available at https://www.bilibili.com/video/BV1iM4y1T7eJ\n"
                ]
              },
              {
                "output_type": "display_data",
                "data": {
                  "text/plain": "<__main__.PlayVideo at 0x7fc4cfc645e0>",
                  "text/html": "\n        <iframe\n            width=\"854\"\n            height=\"480\"\n            src=\"https://player.bilibili.com/player.html?bvid=BV1iM4y1T7eJ&page=1?fs=1&autoplay=False\"\n            frameborder=\"0\"\n            allowfullscreen\n            \n        ></iframe>\n        "
                },
                "metadata": {}
              }
            ]
          }
        },
        "a21a8cb6c5f243a69aed6183e6a9edd4": {
          "model_module": "@jupyter-widgets/base",
          "model_name": "LayoutModel",
          "model_module_version": "1.2.0",
          "state": {
            "_model_module": "@jupyter-widgets/base",
            "_model_module_version": "1.2.0",
            "_model_name": "LayoutModel",
            "_view_count": null,
            "_view_module": "@jupyter-widgets/base",
            "_view_module_version": "1.2.0",
            "_view_name": "LayoutView",
            "align_content": null,
            "align_items": null,
            "align_self": null,
            "border": null,
            "bottom": null,
            "display": null,
            "flex": null,
            "flex_flow": null,
            "grid_area": null,
            "grid_auto_columns": null,
            "grid_auto_flow": null,
            "grid_auto_rows": null,
            "grid_column": null,
            "grid_gap": null,
            "grid_row": null,
            "grid_template_areas": null,
            "grid_template_columns": null,
            "grid_template_rows": null,
            "height": null,
            "justify_content": null,
            "justify_items": null,
            "left": null,
            "margin": null,
            "max_height": null,
            "max_width": null,
            "min_height": null,
            "min_width": null,
            "object_fit": null,
            "object_position": null,
            "order": null,
            "overflow": null,
            "overflow_x": null,
            "overflow_y": null,
            "padding": null,
            "right": null,
            "top": null,
            "visibility": null,
            "width": null
          }
        },
        "bf993475c6314a57bc61c5a7b4f3a617": {
          "model_module": "@jupyter-widgets/base",
          "model_name": "LayoutModel",
          "model_module_version": "1.2.0",
          "state": {
            "_model_module": "@jupyter-widgets/base",
            "_model_module_version": "1.2.0",
            "_model_name": "LayoutModel",
            "_view_count": null,
            "_view_module": "@jupyter-widgets/base",
            "_view_module_version": "1.2.0",
            "_view_name": "LayoutView",
            "align_content": null,
            "align_items": null,
            "align_self": null,
            "border": null,
            "bottom": null,
            "display": null,
            "flex": null,
            "flex_flow": null,
            "grid_area": null,
            "grid_auto_columns": null,
            "grid_auto_flow": null,
            "grid_auto_rows": null,
            "grid_column": null,
            "grid_gap": null,
            "grid_row": null,
            "grid_template_areas": null,
            "grid_template_columns": null,
            "grid_template_rows": null,
            "height": null,
            "justify_content": null,
            "justify_items": null,
            "left": null,
            "margin": null,
            "max_height": null,
            "max_width": null,
            "min_height": null,
            "min_width": null,
            "object_fit": null,
            "object_position": null,
            "order": null,
            "overflow": null,
            "overflow_x": null,
            "overflow_y": null,
            "padding": null,
            "right": null,
            "top": null,
            "visibility": null,
            "width": null
          }
        },
        "8f8296f9edcc42cea4f35436e9f88e16": {
          "model_module": "@jupyter-widgets/base",
          "model_name": "LayoutModel",
          "model_module_version": "1.2.0",
          "state": {
            "_model_module": "@jupyter-widgets/base",
            "_model_module_version": "1.2.0",
            "_model_name": "LayoutModel",
            "_view_count": null,
            "_view_module": "@jupyter-widgets/base",
            "_view_module_version": "1.2.0",
            "_view_name": "LayoutView",
            "align_content": null,
            "align_items": null,
            "align_self": null,
            "border": null,
            "bottom": null,
            "display": null,
            "flex": null,
            "flex_flow": null,
            "grid_area": null,
            "grid_auto_columns": null,
            "grid_auto_flow": null,
            "grid_auto_rows": null,
            "grid_column": null,
            "grid_gap": null,
            "grid_row": null,
            "grid_template_areas": null,
            "grid_template_columns": null,
            "grid_template_rows": null,
            "height": null,
            "justify_content": null,
            "justify_items": null,
            "left": null,
            "margin": null,
            "max_height": null,
            "max_width": null,
            "min_height": null,
            "min_width": null,
            "object_fit": null,
            "object_position": null,
            "order": null,
            "overflow": null,
            "overflow_x": null,
            "overflow_y": null,
            "padding": null,
            "right": null,
            "top": null,
            "visibility": null,
            "width": null
          }
        },
        "4570dd2d83314d8b8d33bc6bdeb33125": {
          "model_module": "@jupyter-widgets/controls",
          "model_name": "VBoxModel",
          "model_module_version": "1.5.0",
          "state": {
            "_dom_classes": [
              "widget-interact"
            ],
            "_model_module": "@jupyter-widgets/controls",
            "_model_module_version": "1.5.0",
            "_model_name": "VBoxModel",
            "_view_count": null,
            "_view_module": "@jupyter-widgets/controls",
            "_view_module_version": "1.5.0",
            "_view_name": "VBoxView",
            "box_style": "",
            "children": [
              "IPY_MODEL_a38e5a4ae2b04934895bbf4d63d9b80b",
              "IPY_MODEL_2a4039ec21734ac685c8a4556eaa1f58",
              "IPY_MODEL_1f173cd766484a87a2c60868cf752e4b"
            ],
            "layout": "IPY_MODEL_70e52f20a2954ea88cc3486f30fcd00a"
          }
        },
        "a38e5a4ae2b04934895bbf4d63d9b80b": {
          "model_module": "@jupyter-widgets/controls",
          "model_name": "FloatSliderModel",
          "model_module_version": "1.5.0",
          "state": {
            "_dom_classes": [],
            "_model_module": "@jupyter-widgets/controls",
            "_model_module_version": "1.5.0",
            "_model_name": "FloatSliderModel",
            "_view_count": null,
            "_view_module": "@jupyter-widgets/controls",
            "_view_module_version": "1.5.0",
            "_view_name": "FloatSliderView",
            "continuous_update": false,
            "description": "eta",
            "description_tooltip": null,
            "disabled": false,
            "layout": "IPY_MODEL_2e34091ff82d48fc968e691490162bbd",
            "max": 200,
            "min": 1,
            "orientation": "horizontal",
            "readout": true,
            "readout_format": ".1f",
            "step": 1,
            "style": "IPY_MODEL_1e63737bc17644b3a884abff3936c7e5",
            "value": 28
          }
        },
        "2a4039ec21734ac685c8a4556eaa1f58": {
          "model_module": "@jupyter-widgets/controls",
          "model_name": "FloatLogSliderModel",
          "model_module_version": "1.5.0",
          "state": {
            "_dom_classes": [],
            "_model_module": "@jupyter-widgets/controls",
            "_model_module_version": "1.5.0",
            "_model_name": "FloatLogSliderModel",
            "_view_count": null,
            "_view_module": "@jupyter-widgets/controls",
            "_view_module_version": "1.5.0",
            "_view_name": "FloatLogSliderView",
            "base": 10,
            "continuous_update": false,
            "description": "gamma",
            "description_tooltip": null,
            "disabled": false,
            "layout": "IPY_MODEL_6a9fbb4ad96b4710954764b6232e318a",
            "max": 1,
            "min": -15,
            "orientation": "horizontal",
            "readout": true,
            "readout_format": ".3g",
            "step": 1,
            "style": "IPY_MODEL_7e262e37189f403894be279701bf9145",
            "value": 1e-10
          }
        },
        "1f173cd766484a87a2c60868cf752e4b": {
          "model_module": "@jupyter-widgets/output",
          "model_name": "OutputModel",
          "model_module_version": "1.0.0",
          "state": {
            "_dom_classes": [],
            "_model_module": "@jupyter-widgets/output",
            "_model_module_version": "1.0.0",
            "_model_name": "OutputModel",
            "_view_count": null,
            "_view_module": "@jupyter-widgets/output",
            "_view_module_version": "1.0.0",
            "_view_name": "OutputView",
            "layout": "IPY_MODEL_3fca44b276f44d1db642975e1d42440e",
            "msg_id": "",
            "outputs": [
              {
                "output_type": "display_data",
                "data": {
                  "text/plain": "<Figure size 1000x500 with 1 Axes>",
                  "image/png": "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\n"
                },
                "metadata": {
                  "image/png": {
                    "width": 975,
                    "height": 475
                  }
                }
              }
            ]
          }
        },
        "70e52f20a2954ea88cc3486f30fcd00a": {
          "model_module": "@jupyter-widgets/base",
          "model_name": "LayoutModel",
          "model_module_version": "1.2.0",
          "state": {
            "_model_module": "@jupyter-widgets/base",
            "_model_module_version": "1.2.0",
            "_model_name": "LayoutModel",
            "_view_count": null,
            "_view_module": "@jupyter-widgets/base",
            "_view_module_version": "1.2.0",
            "_view_name": "LayoutView",
            "align_content": null,
            "align_items": null,
            "align_self": null,
            "border": null,
            "bottom": null,
            "display": null,
            "flex": null,
            "flex_flow": null,
            "grid_area": null,
            "grid_auto_columns": null,
            "grid_auto_flow": null,
            "grid_auto_rows": null,
            "grid_column": null,
            "grid_gap": null,
            "grid_row": null,
            "grid_template_areas": null,
            "grid_template_columns": null,
            "grid_template_rows": null,
            "height": null,
            "justify_content": null,
            "justify_items": null,
            "left": null,
            "margin": null,
            "max_height": null,
            "max_width": null,
            "min_height": null,
            "min_width": null,
            "object_fit": null,
            "object_position": null,
            "order": null,
            "overflow": null,
            "overflow_x": null,
            "overflow_y": null,
            "padding": null,
            "right": null,
            "top": null,
            "visibility": null,
            "width": null
          }
        },
        "2e34091ff82d48fc968e691490162bbd": {
          "model_module": "@jupyter-widgets/base",
          "model_name": "LayoutModel",
          "model_module_version": "1.2.0",
          "state": {
            "_model_module": "@jupyter-widgets/base",
            "_model_module_version": "1.2.0",
            "_model_name": "LayoutModel",
            "_view_count": null,
            "_view_module": "@jupyter-widgets/base",
            "_view_module_version": "1.2.0",
            "_view_name": "LayoutView",
            "align_content": null,
            "align_items": null,
            "align_self": null,
            "border": null,
            "bottom": null,
            "display": null,
            "flex": null,
            "flex_flow": null,
            "grid_area": null,
            "grid_auto_columns": null,
            "grid_auto_flow": null,
            "grid_auto_rows": null,
            "grid_column": null,
            "grid_gap": null,
            "grid_row": null,
            "grid_template_areas": null,
            "grid_template_columns": null,
            "grid_template_rows": null,
            "height": null,
            "justify_content": null,
            "justify_items": null,
            "left": null,
            "margin": null,
            "max_height": null,
            "max_width": null,
            "min_height": null,
            "min_width": null,
            "object_fit": null,
            "object_position": null,
            "order": null,
            "overflow": null,
            "overflow_x": null,
            "overflow_y": null,
            "padding": null,
            "right": null,
            "top": null,
            "visibility": null,
            "width": null
          }
        },
        "1e63737bc17644b3a884abff3936c7e5": {
          "model_module": "@jupyter-widgets/controls",
          "model_name": "SliderStyleModel",
          "model_module_version": "1.5.0",
          "state": {
            "_model_module": "@jupyter-widgets/controls",
            "_model_module_version": "1.5.0",
            "_model_name": "SliderStyleModel",
            "_view_count": null,
            "_view_module": "@jupyter-widgets/base",
            "_view_module_version": "1.2.0",
            "_view_name": "StyleView",
            "description_width": "",
            "handle_color": null
          }
        },
        "6a9fbb4ad96b4710954764b6232e318a": {
          "model_module": "@jupyter-widgets/base",
          "model_name": "LayoutModel",
          "model_module_version": "1.2.0",
          "state": {
            "_model_module": "@jupyter-widgets/base",
            "_model_module_version": "1.2.0",
            "_model_name": "LayoutModel",
            "_view_count": null,
            "_view_module": "@jupyter-widgets/base",
            "_view_module_version": "1.2.0",
            "_view_name": "LayoutView",
            "align_content": null,
            "align_items": null,
            "align_self": null,
            "border": null,
            "bottom": null,
            "display": null,
            "flex": null,
            "flex_flow": null,
            "grid_area": null,
            "grid_auto_columns": null,
            "grid_auto_flow": null,
            "grid_auto_rows": null,
            "grid_column": null,
            "grid_gap": null,
            "grid_row": null,
            "grid_template_areas": null,
            "grid_template_columns": null,
            "grid_template_rows": null,
            "height": null,
            "justify_content": null,
            "justify_items": null,
            "left": null,
            "margin": null,
            "max_height": null,
            "max_width": null,
            "min_height": null,
            "min_width": null,
            "object_fit": null,
            "object_position": null,
            "order": null,
            "overflow": null,
            "overflow_x": null,
            "overflow_y": null,
            "padding": null,
            "right": null,
            "top": null,
            "visibility": null,
            "width": null
          }
        },
        "7e262e37189f403894be279701bf9145": {
          "model_module": "@jupyter-widgets/controls",
          "model_name": "SliderStyleModel",
          "model_module_version": "1.5.0",
          "state": {
            "_model_module": "@jupyter-widgets/controls",
            "_model_module_version": "1.5.0",
            "_model_name": "SliderStyleModel",
            "_view_count": null,
            "_view_module": "@jupyter-widgets/base",
            "_view_module_version": "1.2.0",
            "_view_name": "StyleView",
            "description_width": "",
            "handle_color": null
          }
        },
        "3fca44b276f44d1db642975e1d42440e": {
          "model_module": "@jupyter-widgets/base",
          "model_name": "LayoutModel",
          "model_module_version": "1.2.0",
          "state": {
            "_model_module": "@jupyter-widgets/base",
            "_model_module_version": "1.2.0",
            "_model_name": "LayoutModel",
            "_view_count": null,
            "_view_module": "@jupyter-widgets/base",
            "_view_module_version": "1.2.0",
            "_view_name": "LayoutView",
            "align_content": null,
            "align_items": null,
            "align_self": null,
            "border": null,
            "bottom": null,
            "display": null,
            "flex": null,
            "flex_flow": null,
            "grid_area": null,
            "grid_auto_columns": null,
            "grid_auto_flow": null,
            "grid_auto_rows": null,
            "grid_column": null,
            "grid_gap": null,
            "grid_row": null,
            "grid_template_areas": null,
            "grid_template_columns": null,
            "grid_template_rows": null,
            "height": null,
            "justify_content": null,
            "justify_items": null,
            "left": null,
            "margin": null,
            "max_height": null,
            "max_width": null,
            "min_height": null,
            "min_width": null,
            "object_fit": null,
            "object_position": null,
            "order": null,
            "overflow": null,
            "overflow_x": null,
            "overflow_y": null,
            "padding": null,
            "right": null,
            "top": null,
            "visibility": null,
            "width": null
          }
        },
        "d813b053e50d4b65a9886f65677d2022": {
          "model_module": "@jupyter-widgets/controls",
          "model_name": "TabModel",
          "model_module_version": "1.5.0",
          "state": {
            "_dom_classes": [],
            "_model_module": "@jupyter-widgets/controls",
            "_model_module_version": "1.5.0",
            "_model_name": "TabModel",
            "_titles": {
              "0": "Youtube",
              "1": "Bilibili"
            },
            "_view_count": null,
            "_view_module": "@jupyter-widgets/controls",
            "_view_module_version": "1.5.0",
            "_view_name": "TabView",
            "box_style": "",
            "children": [
              "IPY_MODEL_7e06a703e7f1465a809486d517b10565",
              "IPY_MODEL_bf6588d5eb784b9ea1b1154b7f4bdd15"
            ],
            "layout": "IPY_MODEL_602e6c89f87846c6af1a786c2a995474",
            "selected_index": 0
          }
        },
        "7e06a703e7f1465a809486d517b10565": {
          "model_module": "@jupyter-widgets/output",
          "model_name": "OutputModel",
          "model_module_version": "1.0.0",
          "state": {
            "_dom_classes": [],
            "_model_module": "@jupyter-widgets/output",
            "_model_module_version": "1.0.0",
            "_model_name": "OutputModel",
            "_view_count": null,
            "_view_module": "@jupyter-widgets/output",
            "_view_module_version": "1.0.0",
            "_view_name": "OutputView",
            "layout": "IPY_MODEL_951124d7b6d34cf783902c92010f32ef",
            "msg_id": "",
            "outputs": [
              {
                "output_type": "stream",
                "name": "stdout",
                "text": [
                  "Video available at https://youtube.com/watch?v=18oNWRziskM\n"
                ]
              },
              {
                "output_type": "display_data",
                "data": {
                  "text/plain": "<IPython.lib.display.YouTubeVideo at 0x7fc409b567a0>",
                  "text/html": "\n        <iframe\n            width=\"854\"\n            height=\"480\"\n            src=\"https://www.youtube.com/embed/18oNWRziskM?fs=1&rel=0\"\n            frameborder=\"0\"\n            allowfullscreen\n            \n        ></iframe>\n        ",
                  "image/jpeg": "/9j/4AAQSkZJRgABAQAAAQABAAD/2wCEABALDBoYFhwaGRoeHRwfJC8mIyIiJDEqJSktLy49PTA6LSs1P1BCNT5LOy8yRWFFS1NWW11bNUFlbWRYbFBZW1cBERISGRYZLxsbMFc9NT1XV1dXV1dXV1ddV1ddYldXV1dXV1dXV1dXV11XV1dXV1dXV1dXV1dXV1dXV1dXV1dXV//AABEIAWgB4AMBIgACEQEDEQH/xAAbAAEAAgMBAQAAAAAAAAAAAAAABAUCAwYBB//EAEwQAAIBAgMEBQoDBgIGCgMAAAECAAMRBBIhBRMxUSJBYXGSFBcyUlNygZGx0gYzoRUWI0LB0VSCBzRisuHwJDVDY3N0k6LC8SWDw//EABgBAQEBAQEAAAAAAAAAAAAAAAABAwIE/8QAJhEBAQEAAgIBBAEFAQAAAAAAAAERAiESMUEDUWHwE3GBkbHBMv/aAAwDAQACEQMRAD8A+fxEQEREBERAREQEREBERAREQEREBERAREQEREBERAREQEREBERAREQEREBERAREQEREBERAREQEREBERAREQEREBERAREQEREBERAREQEREBERAREQEREBERAREQEREBERAREQEREBERAREQEREBERAREQEREBERAREQEREBERAREQEREBERAREQEREBERAREQEREBERAROuT/R3jGAIq4fUX9J/snvm4xvtcP4n+yByETr/Nxjfa4fxP8AZHm4xvtcP4n+yByETr/Nxjfa4fxP9kebjG+1w/if7IHIROv83GN9rh/E/wBkebjG+1w/if7IHIROv83GN9rh/E/2R5uMb7XD+J/sgchE6/zcY32uH8T/AGR5uMb7XD+J/sgchE6/zcY32uH8T/ZHm4xvtcP4n+yByETr/Nxjfa4fxP8AZHm4xvtcP4n+yByETr/Nxjfa4fxP9kebjG+1w/if7IHIROv83GN9rh/E/wBkebjG+1w/if7IHIROv83GN9rh/E/2R5uMb7XD+J/sgchE6/zcY32uH8T/AGR5uMb7XD+J/sgchE6/zcY32uH8T/ZHm4xvtcP4n+yByETr/Nxjfa4fxP8AZHm4xvtcP4n+yByETr/Nxjfa4fxP9kebjG+1w/if7IHIROv83GN9rh/E/wBkebjG+1w/if7IHIROv83GN9rh/E/2R5uMb7XD+J/sgchE6/zcY32uH8T/AGR5uMb7XD+J/sgchE6/zcY32uH8T/ZHm4xvtcP4n+yByETr/Nxjfa4fxP8AZHm4xvtcP4n+yByETr/Nxjfa4fxP9kebjG+1w/if7IHIROv83GN9rh/E/wBk1Yn8AYukuZqlAjhozfbA5WJ0A/B+JP8APR8TfbPT+DcT69HxN9snlFyueidB+5+J9ej4m+2B+D8Sf56Pib7Y8oZXPxOi/c3E+vR8TfbH7mYn16Pib7ZUc7E6L9zMT69HxN9sxb8IYkfz0fm32wOfiW+K/DtakuZnp2vbQseP+WQjgWzZbrf4/wBoEWJtrUCjZSQT2TzcHslktGuJmaR7J4UMZRjEtqH4erVFDBqdjzJ/tLDB/gbFVvRqUB3s32yD6rh/y090fSbJrw/5ae6PpNkBE8iB7ERAREQEREBERAREQERPIHsREBERARPJ7AREQEREBERAREQEREBERAREQEREBETyB7ERASBtj8g94k+QNsfkHvEUUtMzImahMjMLHcpeZU+JmEzpcTE9rWyYmqo4sB3m0r9tbTOHVcgBZufUJzOJxb12BqZbgWGk2jnNdwGBFwQR2TTVZfWHznL4PGVqC5UIyk3Iyi3/ADpN+GxlCoWByhySSO/tlvUJx7TdrH+E1mC9tr37JWbH2atRwxB9E3PPu5SbiVO4AQAjLxPUOcl/h12ZWUiyrwNrA904tc53iO34Wwt75XB98zCp+HMNppU1Pr9ndOkZZErDVe/+kk58mmRQt+G8N/3nj/4SM/4eoDrqeIf2nQ1JDqnWW86mR5gqYVFA6hOn2COg05iliUVekwFuJM6nYBvSJHOaRxVjh/y090fSbJrw/wCWnuj6TZIIu1MQ1LDVqi2zJTZhfhcAkStw52g1JKq1cO+ZQ2Q02W9xe2YNp8pN29/qOJ/8F/8AdMj4La2GpYSkXr0xlprfpC/o8uN5L7acf/PUSdm7SWvR3pG7ykrUVj6DL6QJ7Oc9wm18NWfJSrI7cbA6kdnP4Tm8RRq+Q1qzKUWtiRVZWF7Urj0lHcCRyljiKVSsaGfE4XSorUyiEMba2U5zxFxJrq8ItMbtTD4cgVqqoTqATrbumb4+itLfGqgpcc9xl+crNl1ETF40VSq1jUBBbQmnlGWxPUNZqx1Sga+CqAp5KGqWItuxUPok9XHNrzl1z4TcW2C2lQxF9zVV8vEA6jvE1VNuYRSA2IpgkkWv1g215ajrkPEsr7Tw26ILqj70rrZCBlDHv4fGQqVNf2TjDYXJrk6cSGNr/KTVnCLyntbDtW3K1kNTUZQdbjiO/snmJ2xhqJIqVkUqbEE63tfh3GV2PphU2cFAAFamAALW/htMtm1qS47HBmRXLJxIByimP0l08Z7W9LFU3piojq1Mi+YHS3fI+F2zhqz5KVZGfkDqe7n8JzdazYfGPTF8KcUrHLwKDLvSLcRflLPb9ak9KgtFkaqaqGjkIJFiLkW4DLeTV/jiyxW18PRfJVrIrWuQTwHby+MVMUd9QCPSKVAxNyczWFxktoe2Vtam1OtiKmGxNHU3q0qo0DBR/MDddOYMxp4kVq2zagTIHSoQvUOhwHZGp4TNn70sa+3MLT9Oug1ItfW4Njp3yTWxlKnS3r1FWnYHMTob8LHrlXsGmu5xJyjpV62bTj0iNecq8MyrQ2U9W25XNmJ9EOV6BP6xp4TcdFhdrYesVFOsjFr2AOugudJ5tjaS4Wg1VrXAOVSbZmtcD9JAxVak+08JkZWcLUzFbE2y6XI+Ml/iL/UMT/4TfSVPGbPy019tpbDPTqJuqjlajE6ABCTr1WIkzBbUoYgsKNVXK8QOMrtoZKj7P9F13vYRcUyR/QzbiB/+TokcTh6mv+ZbSat4z/aTX2zhadQ03rorDiCeHeeA+MnAzlNiGr5IUNbDLYsKy1EJYNc5s/TF785fbGobvC0k3gqAL0XXgV/ltx6rSypz4yI+D29Rq4qpQDpdbBLHVzYltOy0l0Np4eowVKqMxUtYH+UGxPZIWAcDaGMBIBO6sL6nonhIux3FHZJqrTDEJUYrb0iCePONW8Z8fhZ0NtYWpUFNK6M54AHj3HgfhNlCuxxFWmWplVClQL7wXvfN1W00tKDaOfybDM9ek4arSKqqBbdIflkHqFx3cpvxiua+0hSvnOHTLbjfK/CTV8J+/wBlou2cKam6FdC98tr9fIHhfsm7G4+lh1DVqioDoLnj3DrnPBTWwATyjCLQZAo/hkFT1fz6MD+smAintJd+wucOq0mbQFgTntfr4fCNS8I3bQ/EVClht9TqJUubKM1rm4uOwgG8mttOgKIrmqgpHg99D3c+Eq/xDVotgsSaRQkMm8K245l9IjrtaZbQqoMfhXqMu6yuEYnoippbXhewNpdJxln+VpgtoUcQCaNRXA42Oo7x1TSdt4Uf9vT4ZuPVe1zy10kJnV9q0zRIJWkwrFeFiRkDHne8w2BgqdTZu7KgCrnDkDU3Yi/f/aNTxkmrrEYhKSF6jBVHEnhqbCMRiEpIXqMFUWuTw1Nh+pnN4Ks+KfD4ap6WGJbEdrIcqfP0vhOhx+FFehUpHg6lfmI1Lx8blZ1cQiMiswBc2UHrNr6SPj8aESoqvTFVaZqAPfKBza2trzm6bPjKRq2O8wdJQo/75WzP+iAf5jN7VBiMJtHFj0alNkp+4if1YtJrv+PFlX/EFKlXo0aj07spLtfRTYFdO25+U8XbaU62JXEVERabqqX4m6Anv4zVVcLitnliANzU1Jt/Kk27JQeW45rDNnQX67bsaXgzjnr4/wCrTD4hKqB6bB0bgwNwZtlR+GhajVA4DEVgB/nMt51GfKZcJA2x+Qe8SfIO2PyT3iHKiAnpi8hV9qUVH5insBvMrHWpd57h6ykv0h0Rc68JCOLBRihDEDgOdpUbPqg61Mw6OhXt06Q64kTlyxExZOJqNUN7E2A7JuoYELY2nmBp5UAOhGh77yU1VR1y3Xp4yYlUAAJA2ps3KwqqLK44jqYTJdprfKFLd06HDImLwjoujqLgddxO+E+7j6l6U+JJ8lBUcFF9eXGbtgUyap6QumtgOo//AHItZsmFUFgMwI01ve/HlJ+yaVQuGBKgHW/8wk5MM7XjyHX4r/z1SS76yLim1X4ziNUesZCc6ze73kaqeWkgxGDSp6Q4AHQ25zrvw+tqJ75z5w+7I1uCosfnedFsH8k+9NpWVWGH/LT3R9JsmvD/AJae6PpNkDGogZSrAMpFiCLgg8QRI1LZeGRgyYeirDgRTUH52m7E4haVN6jmyopZj2CVQ2xiMgq+Q1N0RfR1NS3PJ/TjI64zlnS5Ikahs6hSbPToUkb1lQA/MCZeUHeqm7fKUzZ9MoN+B67zfeVO40YnA0a1t7Sp1LcM6hrd15m2HQpuyilLWylRltytwmyLwbWnDYOlRBFKmlMHiEULfvtMvJ6eQpkXI17rlGU343HXebJFrY3JiKVHLfeq7XvwyW6vjB3W9qKHLdVOU3W4HRI4EcpX09kI1XENXSnUWo6sgZc1rIB1jQ6dUs7xBLYxp0lVQqqFUCwUCwA7ppw+z6FJi1OjTRjxKoAfmBN7k5SVFzbQX4/GRdlY9cTQWqoK3uCp4qQbEGDvNZYjZ1Cq2epQpO3rMgJ+ZE3GipKsVW6+ibC4vxseqRcNtDe4itSVejRsGe+hYi9gOwSaDfhBdntjTpKoIVVUEkkAAXJ4k9pkTG4VtyKdBKOUcadRf4bLy04fIzPZmN8ooiply3Zlte/osR/SSoXuVT4DZbislWolCktNWCUqPo3a12JsNbDlLdlBBBAIOhB4ET28QW2+2ijgaNMAJSpqFOYBVAsSLEjkbaXm00lLB8ozAWDW1APEXlbiNq1RiHoUsMapRVYneKvpcOPdM8FtbeVdzVpPQrWzBHsQw6yrDQyavjy9pFfZ1Co+epQpO/rMgJ+ZEkgQTaeyudaHwlJqgqmmhqLoHKjMO48eubKVJUUKiqqjgALD5CZA3i/VB2hHZdFVY0sPQDnUXQAZhqL2HOa9m4OqtatXr5A9XKMqElQEBtqQLk3PVLGLi176SYvlcRv2bh95vNxS3l758i5r8724zbiMNTqrlqorryZQw+RmyLyptaUwdJaZpCkgpnigUZTfjpwngwNHdbrdU936mUZfDwm8mINrVhsLTorlpU0pjjZFCj9INPd0ytFEBAOVfRW/bYaazN3spIGaw4DiewSKNoALQ3iOjVjlCkag2JsflB3WvZWAakatWqVNas2ZyvogAWVQTqQB9ZYzQlcmq1PdsFVQQ5tlN+odom6/VBbbdrCnRRL5VVcxLGwAuTxJ5meDDUxT3YpoKdiMmUZbHiMvCbIBg1pxGCpVQFqUkdV4BlBA7gZsSkqliqqC2rEAAmwsL89JnEG1hTpKgIVQoJJNha5PE98ziIQlN+KsWtDBtUa9gy8O+XM5r/SAt9mP7y/WBzWJ2xalnUkgkZR168JT4cmrUzMjs172BUfUyIlXNRRb6qQflMlz3UgcDfj2W+kkipdeuougLA39HPwvztcfrPcPjsubLra0r2ZNACNLA/Ps7LTWlXI3RJ0se+3fLjnlNXVauaxYpcA2JHA36/6SPhKL70F+HIm88SsquTpmtbQ8zJOe3SPVrI2+lljbitmBWGvEXFjaXGwa4SsttDKN9rpUyC1so9Lr7jLbZoF8/wCsvy7uY1bewykaWCo5ZhY625WFuAk7BITlL2sNNCR85r2vrTqnQ3Qn5iWVBkWmCwAnPJj7bKjaXEiYpukncf6TIVhrwOt9D1yFjsRwnDudjsJGqNNLYiajW1kXFjhqrG92J0HE3t3Trdgj/o/exnH7NXePkDKCQPSNuqd1gqSJTVUIIHWDe5mzGtuH/LT3R9JsmvD/AJae6PpNkDTi6SVKTpVtkZSGubaEa69Uo6+GxeBotUpYgVqNJb7usvSyrxs467S+r0EqIyOoZWFiDwIlV+7dCwUvXamP+yaqxp6dVuXZJY04cpPbylX3mPoOLgPhWax7WWVmC2VRqbNaq6lqgWoysWN1ILWy8uHVOl8jTfLVt01QoOWUkHh8BMKOz6aUDQW+7IYcdbNe+vxMYvnnr99qVh5TUwNGuSabUN6y3sKjgL6XO1ybTfQwaUNpolIFUOHY5LnKDnHAdU3bVwaClRQUKtRaeitSa1WnYWBGoJ7Zo2RgW8qNfd1KaCnkBrNmquSbknU2AsAJHW9MdmE/sdjfXd1dfi0Yb8/Zn/ln/wB1JL/d2h01vV3bkk0t4d3c8bL/AMiS02fTVqLAG9FCia9RABvz9ERiXnx7c3iKC16NfEJhcy/xCtY1TvrqTqotoARoLjQSXiKflFbZ61CxD0XL2JGbore9uoyxOwqVnUNVFN75qauQl242HV3cJIXZ9MNRbW9FSqa9RABvz4CMLznwkUaSoqogsqiwA6gJQDErgMTilbSk6HEJ7w0cDvNj8Z0Ug7R2TRxRpmsubdm662+fZoJa44Wb36UyUN1gqKVKbVK2JqZ2QNkDO12Ocj+UDj3TZs6gaGPRBRWgHpMWWm+amxUixGgsdT1S6x2CSuoV7jKQyspsykcCD1TVQ2WiVVrZqj1ApXM7E6G3Vw6uqTHXn1VDhj/0PCf+d/8A6vLfaB/6dgv/ANv+6JtfY1E4fcWbJmLizHMGzZrg9WpnlDY1JKiVc1R6iXs7uWNiLW7oxbyl7/qo8HS8pFSrWwj4hzUcZs6jIFYgKgLAra3f1y+2KlZcOq1751JAzEFst+jcjibWmFbY1NnZ1erSL6vunKhjzI59ok3D0FpoqJoqiwuST8zLInPnLOlZhP8ArPFf+FS/+Uw2yQ2MwKLrVFQubcQmXpX5A6CScXsSlVqmqWqq7AAlKjLcDhwm3AbLo4csaanM3pOxLOe9jrGHlPahoJ5TUrvWwjYgiq6C7qAgU2AVSRY9d5srb9MNQoVi9NamI3dywL7o3KgsDx0C3ltiNj03qNUVqtJ29M0nK5rcxwv28ZtbZlE0PJ2W9PkSSb3vfNxvfW8mL5zpoXZdHDBqtCnkdUbRSbNppmHWdOMrcFsihWwK16hLVnp7w18xzq1r6HqA5cNJbYPZKUn3merUYDKpqVC2UHjaaG/D1A3F6q02NzSWoRTJ6+j/AEjEnP8AKsUnFHZhrFunTqF7Erm6I426jymzBbJoNi8XRKXopuytK5yAsupy/CXj4KmalKpaxpAhLaABhY6fCe0sIiValUXz1MubXToiwsJcP5Pt+9uYUE7OwyFmt5WEBzHMF3pAsePCTtoYGlhKuGq4dd271lpsFOjq175h1kcbzdtPZI8npUaSFk8oR2F/5S93P6mSsPsWklVaparUZbhN45cJfjlv9ZMdec9791fgMFSxlTEVMSu8ZazU1VjoirwsOonjeR6NCtXw1WijbxaGJKgOxG8pr/IzfG1/9mXGK2NSqVGqBqtJ2FnNJyma3DNbj38Zk2yKO5WiqlEQ3UoxVgeeYa31PzjE85+/Cu2eaSNWpjDNhappFil7oyjrWxte/wAZAGCpVaOyy6Bi2VGJvqu7Y2+c6DDbKp02Zi1So7rlL1GLNl5DkJ5V2PSajSo3dRRsabK1mWwtx7jGHnNV+IqtRxONamNaeFQqOOoz2+k1HZNAYHyi53263vlGY582W978r9XKXlHAolQ1BcsyKhLG9wt7X7dTIP7u4f0b1d1e+53h3V739Hlfq4RhOcQsnlWIwW+B6eGZ3UEgEnJobdWvCSdk4dKGNxNKkMtPJTcIPRBOa9h1XsJaNhENVKtumilRysbX0+AhMIi1nrC+d1VTrpZb20+JlxzefWN09nk9lZkREBOa/H//AFa/vp9Z0s5r8fg/s1rC/TT6yz2PlwvLMUae7DEv1cv+RK9MLWPBD8dJa4PCNls4HdxE9N5fZl4q3E0gjsE4acT2Xmqm62YNy0PXebdqMBVKqbnS57R1SDPPWiTSxhQHKBci2Y8QOyb8Piy65G7xyldMqblTcSOp0s0pnMB0vhoJe7PUqra6ZT9JQ0XLAEN/ebcXjsiFVNswsZGluxhhtqVBTFMtdcpWx5S4wW2abgJVBF+u9xOVzWE8Ddc1lkYWV9E6BToBeGh6pUYypYWI9H+b1vhIGx9onKUY8yJhj8QzEcbTn6klhx3UhcUAjXoip15gxBUdw0/SRaOPAYErcdtz9LXkbfldQbGXWw9qYNbLisHSce0C9Id46/hM5I1upWzEol94lGkcw6RZS4HYuY9H5GX+ExIpEmmqJfjlW1/hLjZVHCFc+FSkFbiUUD5/8ZPCjkJvPqcZPTDlw5W+2OH/AC090fSbJrw/5ae6PpNkxaEREBERA8iexAREQEREBERAREQEREBERAREQEREBERAREQEREBERAREQEREBERAREQEREBKT8Xf6kffX6y7lV+I8K9bClKal2zKbAgcD2yz2VwiJPMVXFKmzdYGnf1Sw/YeLA0oN4l/vKjHfhzadY/6swUcBmT9dZtbJGcltcyzEkk8TPJefudtH/DN4l/vH7nbR/wzeJP7zFoo4l5+520f8M3iX+8fudtH/DN4l/vApqVUobieMxJueMuv3O2j/hm8S/3nv7nbR/wzeJf7wKOJefudtH/DN4l/vH7nbR/wzeJf7xogbOOp7rTyu53lrm3KW2G/Cu0UN/Jm4j+ZOr4zZjPwpj2qsy4ZrdRDJ/eW+kntSEE6DidBM1FjlPEaS8wP4Vxy1kL4dwubpHMmgPE8ZhW/CWNDHd4eoRfS7J/eZtGvB46ph2aojlCDxHKw4jr7p12xvxpTqWXEjI3rj0T3jiJzKfhzaFiDhX149JPuin+GsctycM4AHrJ1f5p05fT8P+Wnuj6TZNeH/LT3R9JshCJHxtY06TOtri3HhqQJ5hMUajVVKFd2+UE9egP9fpAkxIeGx2e2ZGUl2QXt/Lft5CZeXKWVQGJYsosPUazX5CBKiQ02ihI6LgNcBiNCVvcc+APym3DYkVBcKwBAIJtYg8rGBviRWx6BiLNlDZS9uiG5c+J42tMvK1sDrq5Th1gkfUQJESLhMWalI1CjKQWGXS5sSNNeyR6O0mbdHdt06ZfKBc3BHXe1tYFlEh1NooqK+VyhXPcDgvbc3+AvM8PiS9SomQgIQAdLG4vAkxK47Ra5/hsLVcnC5ItfSx4zcMepHovmzFclhmuBc9duGt7wJcTVSrqyluAF730ItxvIbbT6SnI4Qozm66kC2o17eB1gWMSNWxqIbG59H0Rf0msvzM8XGgqxyPdGylbC4NgedrWI1vAlTyRP2gtlsrlmzWUDUZTZgdbdc1ttRShZQw/hmorMuhAtfS99LjTTjAsIkfysZygV2sQGYDognn8xw4RhsUKuqq2XiGIFj3a/WBIiRXxyBnBDfw/SNtNQCAOZN+Anq4wWa6OGUA5SBex4EWNurnAkxIXl2Y0woIvUyMGGo6BbSxt1CeYbaKmjnfQrTV2sOphfT5EQJ0TVWrZFzZWPYLX+NzYTSuPUlAFcl81hbUZSA1+ViYEuJFp41WKgBgrGysR0WPZ19R75rxeNZHdAh0pM4bquPjAnRIabQWxzqy2TNqOI7Bx49XHWbaOIDkqVZWABswF7Hr0Jgb4kZMWGZgFYhSQWsMtxxHG/6Tw45AivrZqZqDT+UAE/HUQJUSC201Ga6VBlAY9EaKf5uPDQ6cdOEk164pgE3JJsANST2QNsSuxG0DZBTVgzVMjXUErpfUXF9O2Sa2KCMqWZmYE2W3AWudT2iBIiRamNVSeixC+mwGi3F9fhrpMvLEtfX093a2ua/wDY37oEieSNTxysRowVr5WI6LW10+A6+M8THhqautOoQ3o6AEgi99TAlRI2Hxe8ey+gaauNNdSePymlatd2q5DTtTfKFZTc9EHVs2nHlAnxIabRVlVlR2ugchRcqDz+R0GukzfHoL2DMoAZmUXCgi4v8NdLwJUSHU2gilui5VCAzAdEXAN+PCxHCNo4l6Qpmmocs9ivWRlJNu3TSBMiQkxwZ+j0k3QcWHSOpH9J7+0Utcq4OYLltc3PDgbEQJcSKcegz3VxksGNus2sBzJzDhPVxy3ysrI1wLMBcZvROhtYkW74EmJHp45Gta5u5p8OsC5+Fhe8kQPZ5PYgeTDEflv7p+k2TXX/AC390/SAw/5ae6PpNk14f8tPdH0myBpxVDeUyl7Xtr3G88oUCj1GzXDtmtbUGwB1vrwHVM69YU0Ltew5dptPXexGh1NtP6wIhwLDVagBFQut0vbNe4OuvpHlMsPgcjKxfMQah4WvvGB/S0lBwTYEE8rwrg3sQbceyBGTBWFIBvy2ZgbccwYf/L9J5g8Fu3ZrrdgAQiZAbdZFzc9slK4IuCCOwzVi8WlGnvHvlBA0F+Jt/WBpbAEllz/wmbOVy63vcgNfgT2c54MA2YfxOgKhqBcutySSCb8LnlJPlC50TiXUspHCwt1/5hFTEIqs5YZV9I8bWgY4XDmmpUtmGZiNLEAm9jrrx4zVhMEaeS75siFBpbS4tfXjpJQYEXBFoZwLkkADjcwK19jgplzjWkKRLJc2F9V1049vASZTw5Wo7Zui9tLa3AtxvyHC035hzE10ayuoYcDwvxgaRgznJz6bwVALag2sRe/9JrrbMDktcE5y4zLmXVQCCOvh2Sarg6gg9xmFauqXLaAKWJ6gBxgY0sKopGmQtiCDlXKDfjoJop4RlKs9TebtWUAJYkG3HXU6dkk0K2dQ1it+ANr/AKEzZcQK3BbPIogMSGzq2upCqRkU9ygDvvNtXZ+ZmbMLmoHsy3XRMtiL68++TAwJIBFxx7JgKwzsnWoDHlY3/sYEfDYAU2U5vRz6BbDpkH4WtMG2WDTVM56NFqV7etl1/wDb+snZxe1xc9sZxe1xflfWBHGGZXJSpZWbMylbm9tbG+l7cjMcPgslU1Cy3IIOVMt7ni2up07OJksGa61dUUMeBZV05swA/UwNNXAq4rAnSqQeHAgADv8ARvNX7MGRlO7BJU3WkFHRN+kL6j4ycHFr3Fud9IDA2sQb8IEOns/KwbML7zeWVbD0CtrX7bzScAc1BBfLSUB20swWxUd+YA/PnLO4mCV1ZmUEXT0hy0vA14vDbzIbgFGzDMMynQjUXHOa8LgBTKHNfLvNALDpsG+FrSUrAi4II5iYU8QrKWvYBiuumoNj9IEXC7MWkwtkKr6P8MZ+y731+U2YrBmoxIbKCjIRa+h5a6aySzgC5IA7TMd8M5TrChuyxJH9IEevgFqCzHTJk4doN/0mWEwm7uf4dzp0KYT56m8kgz2BCOBvW3hZdL8Es5BFrM19Rry6hNabMbIFarcLSaktltoQBc66no9ksYgRK2Cz7zpW3lMU+HC19f8A3TZicPnC2bKyHMptfW1tR1ixM3xAhpgdQzPd95nY2sD0SoAF9BaZY7Cb4AXS3JkzfEaixkqIFc2y1zFgVOa2bOgdjYAXB6rgDnN/kQ3+9vpb0baZrWzd+XSSogQMLsxaRFsmVb5f4Yz/ABfr+U9OztKIDA7pMnSXMCLDW19D0f1MnRAiYPBCll6V7U1Thb0Sdf1mBwVTNUy1sq1GzEBOkNANGv2cpOiBX1NlJcFAgsoSzoHFl4WuRY6xV2Wpcsop6gAhqYbgLdHlp3iWEQK04J2auubJTqMLjLclcig2N9OBHAyZWoZzTN7ZGzd/RI/rNs9gV1TZKl6rBiBUAutrqCGuTbkesdevOZps6zFiwuXV7Kth0RbheTogRXwQYVBmIzuHB9Ui1u/VRNb4AuKmepd3AAZVsFym6kC51B14ydECHSwCpUVwTZUyheq/rd9tJLnsQEREBNdf8t/dP0mya6/5b+6fpAYf8tPdH0mya8P+Wnuj6TZAi7Rps1F1UZm0sB12I5zCoXqNSO7ZctS5zZeGVhfQnmJNiBUUdnstOiFUJUFNlZha4JXrI46zyjhHCnKjBxTKgMECEm2mnpcOv+suIgUpwLnOAjZWNHRggvlqXa4XT0ZYY2gWpqqLwqUzYaWCuCf0ElRAp6mz6q1CtM2p7uoEa/oM+XTuuLjlw5TE4EtTqAU2U7ooFIQKT1ejxtbQ9pl1ECpq4FnayrkpuAx4DK6iy6D/ACn/ACQuGfoValLMSzM6CxsSAFOuhsq2+MtogVeGwRz0i9MBV3hCmxyZmUqPkDw4TXh8DUVSKqlwyMosQCmp0Gv8w6+Y5cLeewK7BlqV8yGxZVU5VVzfjmC6WH957tLDNUJsuYbmovV6Ry5ePdLCIETEYcmhlRRmUBlA06S6gfMW+Mi0cFUzrcWU/wAVze9qliLfqD/llrPIFVs7CMpp5lcMi2JsmVjax1GrXOvw1mWNwlRqzOBmQKl00/iWLXF+y4NuB69JaRAq2wRJqtuxmNdHU6XyjJfXq4NMRhWuF3XT3ufe6Wy5r8b39Ho2/pLWIFMcFWW5RdaRKUhcao17/K6/+nJuKwn8BKSrcK1PT/ZV1v8AoDJk9gVVXBkM5FO9Peq+QW6QCAcOGhsdeUxbC1QGekmRt4SiaaKyhT2DXpW7Octp7ArsFgzTqEWtTpqVpa9TG5+VgJrxGEYtWtTvmZG6gHUWzLfmbHQ6GWs8gQ8FSIqVHCbtGy2XTiL3aw4XuB8JGXDMrKz0jUUNV6OhIzPdWsTY6XHMX75bTyBU0sKyZC9LeKFYBBlOS7XAsTY6WF+zlMDgK1l6wtNQyX9KzE5M3IA/HTqvLqIGum5NxkKgWte2unVY9XD4TZPJ7AREQEREBERAREQEREBERAREQEREBERAREQEREBERATXX/Lf3T9Jsmuv+W/un6QGH/LT3R9JsmvD/lp7o+k2QEREBE8nsBERAREQEREBERAREQEREBERAREQEREBERARE8gexEjnHUQ+Q1qYe9sucZr8rc4EiJHGOol8grU897Zc4zX5Wvxjy6jmKb2nnF7rnFxbjpAkRImC2hTrIzqRlVmUkkfykgnu0nmK2nSpCndgd4wVbMOvr48BY/KBMiIgIieE2FzoIHsSPSx1F2CpWpsx4BXBPyBngx9AkqK1O4vcZxcW46X6oEmJD/amG/xFH/1F/vNi42iULirTKDQsGGUHtPxECRE00MTTqX3dRHtxysDbvtNLbRplGNJ0qsBcIjgkngOHDUjWBMiUp2ric9ZBh6Raiis1qzWJYE5R/D42H6iXKnQQPYieQPYmupWRLZmVb8LkCZKwIBBBB4EcIGUREBETwm2p4QPYmunXRjZXVj2EGbICJ5PYCa6/5b+6fpM5hX/Lf3T9IDD/AJae6PpNk14f8tPdH0myBF2jUZKLOpsUsx0vdQbsPDeQ620HVq5Gq5TuhzZbA69rMB8JaMoIIOoIsZEXZlMJSTpEUmzKSdSf9rnrrA1DaiqcrEHKQjNmAYtwJCcr/wD1JeIxBQqqrmdr2F7Cw4knlw+cxGDAcsrsoJzFRbKT8RcfAzLEYcPlOZlZeDLa4vx4ggj4QI+K2juhdkAIXMwLrew42HXw7JlVx5UvamSqMoZrgekAdB12zT2ps8MGvUqdJMj+j0hrx00Op4WmbYNSKguf4hBPwAGnhEDLFYg08gCFi7ZQLgdROpPdI37VTPl0tnyXzjNe9vR42vp/S0mVKIZkJvdDcd9iP6zUmDCuWV2AJzFNMtzx6r6nXjA1naShVYgi4csPUCXzX52It8ZjS2mrXBC3CFwA6nQcQTeynUdnbNwwNPNUYgneCzAnS1tbDqv1zEYEZGRqjspFtcuncQBc994Gj9oFhYWDB6d7EMCrtbj8DJFeu61qSKoKve5vrpPBgRcszuzHJcm38huOAHWZtrUAzI2YqUNxa2t+INxwgQ8JtBt3TNVSAyFs9xrlFzcDhpPU2spBOW5yFwFYMSB1EDgZIXAoFRdSEBAB6wRY3+EUsJlBAqVCLWF8vR7jbU994Gk7TUUwxy9Jsq2qAqTa/pdVtZvwmKFVSRa6mxsQRfjoRx4zX+z11Jdy5YNn6IYECwsALcL9XXJFGnlFixbtNr/oAIEcY8FKb5W/iKWAGp0W9u0zBcfmRWFhd0XosG9I8Dy7ZnS2cFy2qVCEBCAkdEEW0sPreF2etyzO7MSpucoPQNxwAHGBjT2hcremVRmZQ1xxW/Vy6JntDHFjTvTKrVuVNxwtfUdWk2rg0AQa2Riw72ve/iMiYXB1FqU73CU75QXDAXFgFsAbW6zrAyx2LqI1ZVAAWiXDdd9er4TJ9o5A28QrlVWGoN8xsOwG/wANeM3YjBrUJJZhmQowFrEHvHVcz2tg0cktfVQvHhY3BHbeBjhMaKpZejmUAnKwYWPDUdxkU13Wsd7UqU+nZegDSZb6dK2hPaRrJ9CiUvd2e/W2X/4gTTUwAY9KpUKE5jTuMt7342zWv1XtAjtjHWnVS96yvkTTjnPQNuwHX3TPaa1XetauwyMFUZVK+gp10vxJ65JfBI1ZaxvmUWGunXYkcxdvmZg+zwWcipUUVDdlUgA6AcbXGgHAwM8FiTVRWK2DKDe+l+sD+/bKbEqqbbpObANhXBJ/2XveXtOiFIykhQoULplFuX/PVKramyGr43D1b2pU0cVB6wNrL3HW/wDxgVuCxFtr1KtQBEfCbxbrYqofTN13tr2Xt1S7wmGOWpXNNRWqi9iBcC3QUnsHHtJkTG7M3m0aeIZwKSUirC46RzXAI5dfwEtDjqI41aY/zj+8LJb6U9DZ9VaOEVqV1pMDUpgrmchNCdcps5va/UD2TynsystanUKK4L1ahW4sjMFVB3BcxNr6kzoFYEXBuOyIR7ItTHBWI3dU26xTJHwMkyLUwRZid9WW/UGFh3aQCY4EgbusLm1zTIHxMlMQASeHXIiYEgg7+sbG9iwse/SSMRS3lN0JIzKVuOIuLQKP8H0w1CpiSOliKz1BpqFvZR8h+sm7Moo7YitkX+JUZdQNVTofIlWPxmjZtHFUcNTwwpoDTXIKua6WH82XiT12075Z0KAo0VpoL5FsLnUkczzJ64HP7Lw5wONODyZ8NWDVKJtfd29JW5DXQ9o5y6w2zadN6xUKFrEMVA0zWsT8bCQMImNQu7Yei9V/SbfkCw4KoyaAf3PXJeyqWIzVqmJCKzsMqoxYBVGmpA1uT84FP+FcRudmBQoaotR6SrwzPmNgT9T1AEy8weEGHpEKud9WcqAGdjqTrYantlfsLYr0K2IqVDcNWdqS30UPa57zYDsA7TLyBV7EpVVbEPVpNTarVL3JUjLYKo6JOoVRfvlpE9gJVpULYysSzClSppcZjlzG5bTsXL85aSO+Cps5cg3a2bpEBrcMy3sYEFcI7Jh7qWuyvVLtcgAFgBfk2X4DnM6wvi6NJCyoqM7hWIB1AUEd5J+Es5orYRHYMQcwFrhipseo2Ooga8ALh3zMc7tYEkgAGwtfqNr/ABmB2iPZt46X3yYqgAACwGgAnm6X1V+QgQNvOy4Oo6Mysgz3U2Ngbnh2Xmymm9YvdjTAyKuY2fmSOvlryvykqvQWojU3F0YFWHMHjMkQKAqiwAsAOAAgQ8FhCKRDjLUYuSQdRna+hHw+UhbGqviMPh8zvdVDVWzG7Pb0Se+5I6tOcu5pw2GSkmSmoVbk2HMm5/UwMcTid3bolr8io/3mE9w2I3l+iVtzKn/dJm1kB4gHvEKoHAAd0Cvosz46tZmyUkQZcxtna5Nx7uX5ydX/AC390/Sa8Ng6dJnZAQahzMSzNc2tfUnqAHwE2V/y390/SAw/5ae6PpNk14f8tPdH0myAiIgIiICIiAiIgIiICIiAiIgIiICIiAiIgIiICIiAiIgeTFqSnioPwmcQIb7MoNxpiRa34fwx1yEEG+jGW0wqcIaT6vOeuVc3sT8UJUxdfB1rLUSq60zwDgMbD3vr3zpp8p2tsGquJfE1iaVGri2XMPSUFzZyOof27p9K2aKiUxTq1DVZdN4Vy379Tr2wzTYiICIiAiIgIiICIiAiIgIiIGrEs4psaahnAuqk2BPK/VK/A7Qq1kpVFVCjNlcah0PAgjmG0PzljXz5G3YUvbo5iQt+q5AOkrsLh8ShVclFFL56riqzOx69MgGpt16DSBOfEhamUlAAhY3azCx9Xl2zYlVWXMGBUXub6acflIGPwL1apayMhotTIZiLlmB6hpoOM8bZ1RsHUoNVuzBgrN0rAnohjpm5HnAyTaqtUdVyWRkUMalg2cX0049nXJYxVM5rVF6Ny2o0tob9xBlW+z8Q7M7CkpapRcgOxA3ZudcovfukXGbPqolWpUFMgpVTolh+ZUBU2C9G3Xa/WdYF4uNokEiqhANj0hoeR7Zi+0aC2vWpDMARdxqDwI7DKrBYao7LWAp5lq52IqF0qZqeQkNkWxAA4C3zNvKuwqppVUU0/wCJRqpqTYNVcty9EX/4QLl8UgLKrKXAJy310F/6j5zzZ+J39ClWtl3iK9r3tmANr9fGV5wFc194d1YOxHSI6LJbhltcHr6+y1pO2Xhmo4ajSaxanTVCRwJVQNPlAlTXX/Lf3T9Jsmuv+W/un6QGH/LT3R9JsmvD/lp7o+k2QEREBERAREQEREBERAREQEREBERAREQEREBERAREQEREBERATFhcTKIFbtXZaYig9J7kVBZiPS5gjtBAkvB0ylNVNzlAF2N2NhxJ5zfPIHsREBERAREQEREBERAREQEREBERAREQEREBERAREQE11/y390/SbJrr/lv7p+kBh/y090fSbJrw/wCWnuj6TZAREQEREBERAREQEREBERAREQEREBERAREQEREBERAREQEREBERAREQEREBERAREQEREBERAREQEREBERAREQEREBERAREQE11/y390/SbJrr/lv7p+kBh/y090fSbJVUa75F6R4D6TPyh/WMCyiVvlD+sY8of1jAsolb5Q/rGPKH9aBZRK3yh/WMeUP6xgWUSt8of1o8of1jAsolb5Q/rGPKH9YwLKJW+UP6xjyh/WMCyiVvlD+sY8of1jAsolb5Q/rGPKH9aBZRK3fv6xjyh/WMCyiVvlD+sY8of1jAsolb5Q/rGPKH9YwLKJW+UP6xjyh/WMCyiVvlD+sY8of1jAsp5K7yh/WM5Pa+NLYrFUzicSlUIrUUp1GVDZbtoOu0LJrvonyptps1KkKWLxjYhmIZd6+XX0cuvGdH+H8aDisQlHE161NEQE1XLdK5DZb9WkLeOfMdlErfKH9Yx5Q/rGHKyiVvlD+sY8of1jAsolb5Q/rGPKH9YwLKJW+UP6xjyh/WMCyiVvlD+sY8of1jAsolb5Q/rGPKH9YwLKJW+UP6xjyh/WMCyiVvlD+sY8of1jAsolb5Q/rGPKH9YwLKJW+UP6xjyh/WMCyiVvlD+sY8of1jAsolb5Q/rGPKH9YwLKJW+UP6xmNTFlRdnsIFpNdf8ALf3T9JXJjSxstQEgA6EcDwntau+RukeB+kDVS9Be4fSVmKwWIbFCupQBLKoublSDn7OJB/yCXlGkuRdOofSbN0vKBzOI2fi2oNT3hbMhBu9ukaYB1t6ObNp2ze2FxWZCKumdiwvwGYZbdmW4t2/K/wB0vKN0vKBR4LD4pag3tUNTF+/TRb6dYOY9okSns7EIau7yrna98wL8SfSAFxqPSueM6fdLyjdLygc6+GxpvaoLELpfhYDPY6cTqNdNeek5cIS1F3qPnpqQQDZWJFiWHX2S03S8o3S8oHM/s2uC7UwlN71SKma5bOTlBFuq443tabBh8YCpNS6gHTrvc6H1tLDr4fGdFul5Rul5QOep4bEPhnVzd2yFQzXItlLXNha5B06plicNiXLsjbospsA38wSy3NtRmtL/AHS8o3S8oHPth8Xep/EGraWNujfq5ECwmT4Ou+GrpUfNUqJlXXog5ADwGl2zGX26XlG6XlA5n9nYtC4SqLZgFa/TyKhC5r8SDbvt8JIFDFFrM9lDHpK2pU1L8LaWToy+3S8o3S8oFDhsLiN6rVWBUPmAve3RcG3zX9ZF/ZWJRi1Ooou1V7Ek5Wa+Qr2EEXHUR3zqN0vKN0vKBznkeKHTV7vksMzdG4e9iNb9E2v2T0YXGAa1c2pA6VtBlCs2mvBiRzadFul5Rul5QOfGDxAqI+8v6Qe51ILkqAbaAC3fa0mbNSqtO1Y3YE63uSO3t4/86S03S8o3S8oEWJK3S8o3S8oEWJK3S8o3S8oEWJK3S8o3S8oEWfPfxPiDS2qaigEoabAHhcAHWfTN0vKQ8RsXC1XL1MPTdjxLLcwOHqYk0FfaK0ky4lclJCvRRz+YRytlNuebsM2/6PvTxHup9TOyOw8IVCHD0yo1C20BPGw6pswuysPRuaVFKd+OUWvA8iSd0vKN0vKBGiSd0vKN0vKBGiSd0vKN0vKBGiSd0vKN0vKBGiSd0vKN0vKBGiSd0vKN0vKBGiSd0vKN0vKBGiSd0vKN0vKBGiSd0vKN0vKBGiSd0vKN0vKBGiSd0vKN0vKBGiSd0vKN0vKBGmuvSzrYWBBBB10I7iD+sm7peUbpeUCuw2F3Zve/RVfkSb/+79Jtq+g3cfpJm6XlMa1JcjadR+kDOj6C9w+kzmFH0F7h9JnAREQEREBERAREQEREBERAREQEREBERAREQEREBERAREQEREBERAREQEREBERAREQEREBERAREQEREBERAREQEREBERAREQEwreg3un6TOYVvQb3T9ICj6C9w+kznzRf8ASBiwAN3h9Bb0W+6e+cLGezw/hf7oH0qJ8184WM9nh/C/3R5wsZ7PD+F/ugfSonzXzhYz2eH8L/dHnCxns8P4X+6B9KifNfOFjPZ4fwv90ecLGezw/hf7oH0qJ8184WM9nh/C/wB0ecLGezw/hf7oH0qJ8184WM9nh/C/3R5wsZ7PD+F/ugfSonzXzhYz2eH8L/dHnCxns8P4X+6B9KifNfOFjPZ4fwv90ecLGezw/hf7oH0qJ8184WM9nh/C/wB0ecLGezw/hf7oH0qJ8184WM9nh/C/3R5wsZ7PD+F/ugfSonzXzhYz2eH8L/dHnCxns8P4X+6B9KifNfOFjPZ4fwv90ecLGezw/hf7oH0qJ8184WM9nh/C/wB0ecLGezw/hf7oH0qJ8184WM9nh/C/3R5wsZ7PD+F/ugfSonzXzhYz2eH8L/dHnCxns8P4X+6B9KifNfOFjPZ4fwv90ecLGezw/hf7oH0qJ8184WM9nh/C/wB0ecLGezw/hf7oH0qJ8184WM9nh/C/3R5wsZ7PD+F/ugfSonzXzhYz2eH8L/dHnCxns8P4X+6B9KifNfOFjPZ4fwv90ecLGezw/hf7oH0qJ8184WM9nh/C/wB0ecLGezw/hf7oH0qJ8184WM9nh/C/3R5wsZ7PD+F/ugfSonzXzhYz2eH8L/dHnCxns8P4X+6B9KifNfOFjPZ4fwv90ecLGezw/hf7oH0qJ8184WM9nh/C/wB0ecLGezw/hf7oH0qJ8184WM9nh/C/3R5wsZ7PD+F/ugfSonzXzhYz2eH8L/dHnCxns8P4X+6B9KifNfOFjPZ4fwv90ecLGezw/hf7oH0qJ8184WM9nh/C/wB0ecLGezw/hf7oH0qYVvQb3T9J8484WM9nh/C/3Txv9IGLII3eH1FvRb7oHKREQEREBERAREQEREBERAREQEREBERAREQEREBERAREQEREBERAREQEREBERAREQEREBERAREQEREBERAREQEREBERAREQEREBERAREQEREBERAREQEREBERAREQEREBERAREQEREBERAREQEREBERAREQEREBERAREQEREBERAREQEREBERAREQEREBERAREQEREBERAREQEREBERAREQEREBERAREQEREBERAREQEREBERAREQEREBERAREQEREBERAREQEREBERAREQEREBERAREQEREBERAREQEREBERA//2Q==\n"
                },
                "metadata": {}
              }
            ]
          }
        },
        "bf6588d5eb784b9ea1b1154b7f4bdd15": {
          "model_module": "@jupyter-widgets/output",
          "model_name": "OutputModel",
          "model_module_version": "1.0.0",
          "state": {
            "_dom_classes": [],
            "_model_module": "@jupyter-widgets/output",
            "_model_module_version": "1.0.0",
            "_model_name": "OutputModel",
            "_view_count": null,
            "_view_module": "@jupyter-widgets/output",
            "_view_module_version": "1.0.0",
            "_view_name": "OutputView",
            "layout": "IPY_MODEL_daedc6433ee24d90942c53634f07ce53",
            "msg_id": "",
            "outputs": [
              {
                "output_type": "stream",
                "name": "stdout",
                "text": [
                  "Video available at https://www.bilibili.com/video/BV1bw411R7DJ\n"
                ]
              },
              {
                "output_type": "display_data",
                "data": {
                  "text/plain": "<__main__.PlayVideo at 0x7fc409b56650>",
                  "text/html": "\n        <iframe\n            width=\"854\"\n            height=\"480\"\n            src=\"https://player.bilibili.com/player.html?bvid=BV1bw411R7DJ&page=1?fs=1&autoplay=False\"\n            frameborder=\"0\"\n            allowfullscreen\n            \n        ></iframe>\n        "
                },
                "metadata": {}
              }
            ]
          }
        },
        "602e6c89f87846c6af1a786c2a995474": {
          "model_module": "@jupyter-widgets/base",
          "model_name": "LayoutModel",
          "model_module_version": "1.2.0",
          "state": {
            "_model_module": "@jupyter-widgets/base",
            "_model_module_version": "1.2.0",
            "_model_name": "LayoutModel",
            "_view_count": null,
            "_view_module": "@jupyter-widgets/base",
            "_view_module_version": "1.2.0",
            "_view_name": "LayoutView",
            "align_content": null,
            "align_items": null,
            "align_self": null,
            "border": null,
            "bottom": null,
            "display": null,
            "flex": null,
            "flex_flow": null,
            "grid_area": null,
            "grid_auto_columns": null,
            "grid_auto_flow": null,
            "grid_auto_rows": null,
            "grid_column": null,
            "grid_gap": null,
            "grid_row": null,
            "grid_template_areas": null,
            "grid_template_columns": null,
            "grid_template_rows": null,
            "height": null,
            "justify_content": null,
            "justify_items": null,
            "left": null,
            "margin": null,
            "max_height": null,
            "max_width": null,
            "min_height": null,
            "min_width": null,
            "object_fit": null,
            "object_position": null,
            "order": null,
            "overflow": null,
            "overflow_x": null,
            "overflow_y": null,
            "padding": null,
            "right": null,
            "top": null,
            "visibility": null,
            "width": null
          }
        },
        "951124d7b6d34cf783902c92010f32ef": {
          "model_module": "@jupyter-widgets/base",
          "model_name": "LayoutModel",
          "model_module_version": "1.2.0",
          "state": {
            "_model_module": "@jupyter-widgets/base",
            "_model_module_version": "1.2.0",
            "_model_name": "LayoutModel",
            "_view_count": null,
            "_view_module": "@jupyter-widgets/base",
            "_view_module_version": "1.2.0",
            "_view_name": "LayoutView",
            "align_content": null,
            "align_items": null,
            "align_self": null,
            "border": null,
            "bottom": null,
            "display": null,
            "flex": null,
            "flex_flow": null,
            "grid_area": null,
            "grid_auto_columns": null,
            "grid_auto_flow": null,
            "grid_auto_rows": null,
            "grid_column": null,
            "grid_gap": null,
            "grid_row": null,
            "grid_template_areas": null,
            "grid_template_columns": null,
            "grid_template_rows": null,
            "height": null,
            "justify_content": null,
            "justify_items": null,
            "left": null,
            "margin": null,
            "max_height": null,
            "max_width": null,
            "min_height": null,
            "min_width": null,
            "object_fit": null,
            "object_position": null,
            "order": null,
            "overflow": null,
            "overflow_x": null,
            "overflow_y": null,
            "padding": null,
            "right": null,
            "top": null,
            "visibility": null,
            "width": null
          }
        },
        "daedc6433ee24d90942c53634f07ce53": {
          "model_module": "@jupyter-widgets/base",
          "model_name": "LayoutModel",
          "model_module_version": "1.2.0",
          "state": {
            "_model_module": "@jupyter-widgets/base",
            "_model_module_version": "1.2.0",
            "_model_name": "LayoutModel",
            "_view_count": null,
            "_view_module": "@jupyter-widgets/base",
            "_view_module_version": "1.2.0",
            "_view_name": "LayoutView",
            "align_content": null,
            "align_items": null,
            "align_self": null,
            "border": null,
            "bottom": null,
            "display": null,
            "flex": null,
            "flex_flow": null,
            "grid_area": null,
            "grid_auto_columns": null,
            "grid_auto_flow": null,
            "grid_auto_rows": null,
            "grid_column": null,
            "grid_gap": null,
            "grid_row": null,
            "grid_template_areas": null,
            "grid_template_columns": null,
            "grid_template_rows": null,
            "height": null,
            "justify_content": null,
            "justify_items": null,
            "left": null,
            "margin": null,
            "max_height": null,
            "max_width": null,
            "min_height": null,
            "min_width": null,
            "object_fit": null,
            "object_position": null,
            "order": null,
            "overflow": null,
            "overflow_x": null,
            "overflow_y": null,
            "padding": null,
            "right": null,
            "top": null,
            "visibility": null,
            "width": null
          }
        },
        "903dd885e9f1433c9958a9f5d6babb51": {
          "model_module": "@jupyter-widgets/controls",
          "model_name": "TabModel",
          "model_module_version": "1.5.0",
          "state": {
            "_dom_classes": [],
            "_model_module": "@jupyter-widgets/controls",
            "_model_module_version": "1.5.0",
            "_model_name": "TabModel",
            "_titles": {
              "0": "Youtube",
              "1": "Bilibili"
            },
            "_view_count": null,
            "_view_module": "@jupyter-widgets/controls",
            "_view_module_version": "1.5.0",
            "_view_name": "TabView",
            "box_style": "",
            "children": [
              "IPY_MODEL_3ae668643fc04c3c9691921a01c4ee5e",
              "IPY_MODEL_c75dd10c90b64d199b4fb556783ba6c2"
            ],
            "layout": "IPY_MODEL_080c1b1af8664d7aaec1155347c22193",
            "selected_index": 0
          }
        },
        "3ae668643fc04c3c9691921a01c4ee5e": {
          "model_module": "@jupyter-widgets/output",
          "model_name": "OutputModel",
          "model_module_version": "1.0.0",
          "state": {
            "_dom_classes": [],
            "_model_module": "@jupyter-widgets/output",
            "_model_module_version": "1.0.0",
            "_model_name": "OutputModel",
            "_view_count": null,
            "_view_module": "@jupyter-widgets/output",
            "_view_module_version": "1.0.0",
            "_view_name": "OutputView",
            "layout": "IPY_MODEL_e3940cfb16384d719ed0d6225f075097",
            "msg_id": "",
            "outputs": [
              {
                "output_type": "stream",
                "name": "stdout",
                "text": [
                  "Video available at https://youtube.com/watch?v=JEbRPPG2kUI\n"
                ]
              },
              {
                "output_type": "display_data",
                "data": {
                  "text/plain": "<IPython.lib.display.YouTubeVideo at 0x7fc4099abf40>",
                  "text/html": "\n        <iframe\n            width=\"854\"\n            height=\"480\"\n            src=\"https://www.youtube.com/embed/JEbRPPG2kUI?fs=1&rel=0\"\n            frameborder=\"0\"\n            allowfullscreen\n            \n        ></iframe>\n        ",
                  "image/jpeg": "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\n"
                },
                "metadata": {}
              }
            ]
          }
        },
        "c75dd10c90b64d199b4fb556783ba6c2": {
          "model_module": "@jupyter-widgets/output",
          "model_name": "OutputModel",
          "model_module_version": "1.0.0",
          "state": {
            "_dom_classes": [],
            "_model_module": "@jupyter-widgets/output",
            "_model_module_version": "1.0.0",
            "_model_name": "OutputModel",
            "_view_count": null,
            "_view_module": "@jupyter-widgets/output",
            "_view_module_version": "1.0.0",
            "_view_name": "OutputView",
            "layout": "IPY_MODEL_9747a7d1ea0f4d9ba092faeb1b4b4f9f",
            "msg_id": "",
            "outputs": [
              {
                "output_type": "stream",
                "name": "stdout",
                "text": [
                  "Video available at https://www.bilibili.com/video/BV1t54y1J7Tb\n"
                ]
              },
              {
                "output_type": "display_data",
                "data": {
                  "text/plain": "<__main__.PlayVideo at 0x7fc4099abaf0>",
                  "text/html": "\n        <iframe\n            width=\"854\"\n            height=\"480\"\n            src=\"https://player.bilibili.com/player.html?bvid=BV1t54y1J7Tb&page=1?fs=1&autoplay=False\"\n            frameborder=\"0\"\n            allowfullscreen\n            \n        ></iframe>\n        "
                },
                "metadata": {}
              }
            ]
          }
        },
        "080c1b1af8664d7aaec1155347c22193": {
          "model_module": "@jupyter-widgets/base",
          "model_name": "LayoutModel",
          "model_module_version": "1.2.0",
          "state": {
            "_model_module": "@jupyter-widgets/base",
            "_model_module_version": "1.2.0",
            "_model_name": "LayoutModel",
            "_view_count": null,
            "_view_module": "@jupyter-widgets/base",
            "_view_module_version": "1.2.0",
            "_view_name": "LayoutView",
            "align_content": null,
            "align_items": null,
            "align_self": null,
            "border": null,
            "bottom": null,
            "display": null,
            "flex": null,
            "flex_flow": null,
            "grid_area": null,
            "grid_auto_columns": null,
            "grid_auto_flow": null,
            "grid_auto_rows": null,
            "grid_column": null,
            "grid_gap": null,
            "grid_row": null,
            "grid_template_areas": null,
            "grid_template_columns": null,
            "grid_template_rows": null,
            "height": null,
            "justify_content": null,
            "justify_items": null,
            "left": null,
            "margin": null,
            "max_height": null,
            "max_width": null,
            "min_height": null,
            "min_width": null,
            "object_fit": null,
            "object_position": null,
            "order": null,
            "overflow": null,
            "overflow_x": null,
            "overflow_y": null,
            "padding": null,
            "right": null,
            "top": null,
            "visibility": null,
            "width": null
          }
        },
        "e3940cfb16384d719ed0d6225f075097": {
          "model_module": "@jupyter-widgets/base",
          "model_name": "LayoutModel",
          "model_module_version": "1.2.0",
          "state": {
            "_model_module": "@jupyter-widgets/base",
            "_model_module_version": "1.2.0",
            "_model_name": "LayoutModel",
            "_view_count": null,
            "_view_module": "@jupyter-widgets/base",
            "_view_module_version": "1.2.0",
            "_view_name": "LayoutView",
            "align_content": null,
            "align_items": null,
            "align_self": null,
            "border": null,
            "bottom": null,
            "display": null,
            "flex": null,
            "flex_flow": null,
            "grid_area": null,
            "grid_auto_columns": null,
            "grid_auto_flow": null,
            "grid_auto_rows": null,
            "grid_column": null,
            "grid_gap": null,
            "grid_row": null,
            "grid_template_areas": null,
            "grid_template_columns": null,
            "grid_template_rows": null,
            "height": null,
            "justify_content": null,
            "justify_items": null,
            "left": null,
            "margin": null,
            "max_height": null,
            "max_width": null,
            "min_height": null,
            "min_width": null,
            "object_fit": null,
            "object_position": null,
            "order": null,
            "overflow": null,
            "overflow_x": null,
            "overflow_y": null,
            "padding": null,
            "right": null,
            "top": null,
            "visibility": null,
            "width": null
          }
        },
        "9747a7d1ea0f4d9ba092faeb1b4b4f9f": {
          "model_module": "@jupyter-widgets/base",
          "model_name": "LayoutModel",
          "model_module_version": "1.2.0",
          "state": {
            "_model_module": "@jupyter-widgets/base",
            "_model_module_version": "1.2.0",
            "_model_name": "LayoutModel",
            "_view_count": null,
            "_view_module": "@jupyter-widgets/base",
            "_view_module_version": "1.2.0",
            "_view_name": "LayoutView",
            "align_content": null,
            "align_items": null,
            "align_self": null,
            "border": null,
            "bottom": null,
            "display": null,
            "flex": null,
            "flex_flow": null,
            "grid_area": null,
            "grid_auto_columns": null,
            "grid_auto_flow": null,
            "grid_auto_rows": null,
            "grid_column": null,
            "grid_gap": null,
            "grid_row": null,
            "grid_template_areas": null,
            "grid_template_columns": null,
            "grid_template_rows": null,
            "height": null,
            "justify_content": null,
            "justify_items": null,
            "left": null,
            "margin": null,
            "max_height": null,
            "max_width": null,
            "min_height": null,
            "min_width": null,
            "object_fit": null,
            "object_position": null,
            "order": null,
            "overflow": null,
            "overflow_x": null,
            "overflow_y": null,
            "padding": null,
            "right": null,
            "top": null,
            "visibility": null,
            "width": null
          }
        }
      }
    }
  },
  "nbformat": 4,
  "nbformat_minor": 0
}